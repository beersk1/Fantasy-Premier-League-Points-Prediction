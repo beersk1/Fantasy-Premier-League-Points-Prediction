{
 "cells": [
  {
   "cell_type": "markdown",
   "id": "94399256",
   "metadata": {},
   "source": [
    "# Import the necessary libraries"
   ]
  },
  {
   "cell_type": "code",
   "execution_count": 1,
   "id": "ce9cb28f",
   "metadata": {},
   "outputs": [],
   "source": [
    "import requests\n",
    "import pandas as pd\n",
    "from tqdm import tqdm"
   ]
  },
  {
   "cell_type": "markdown",
   "id": "72eae9c4",
   "metadata": {},
   "source": [
    "# Defining the required functions"
   ]
  },
  {
   "cell_type": "code",
   "execution_count": null,
   "id": "ce138b5c",
   "metadata": {},
   "outputs": [],
   "source": [
    "def get_player_fixture_info(id):\n",
    "    player_info = requests.get(\n",
    "        f\"https://fantasy.premierleague.com/api/element-summary/{id}/\"\n",
    "    ).json()\n",
    "    fixture = player_info[\"fixtures\"][0]\n",
    "    home_team = get_team_name(fixture[\"team_h\"])\n",
    "    away_team = get_team_name(fixture[\"team_a\"])\n",
    "    kickoff_time = fixture[\"kickoff_time\"]\n",
    "    is_home = fixture[\"is_home\"]\n",
    "    return home_team, away_team, kickoff_time, is_home\n",
    "\n",
    "\n",
    "def get_gameweek_result(id, gameweek):\n",
    "    \"returns a dictionary of the statistics from the gameweek\"\n",
    "    gameweek_results = requests.get(\n",
    "    f\"https://fantasy.premierleague.com/api/element-summary/{id}/\").json()\n",
    "    return gameweek_results[\"history\"][gameweek-1]\n",
    "\n",
    "def get_team_name(id):\n",
    "    general_information = requests.get(\n",
    "        \"https://fantasy.premierleague.com/api/bootstrap-static/\"\n",
    "    ).json()\n",
    "    teams = general_information[\"teams\"]\n",
    "    for team in teams:\n",
    "        if team[\"id\"] == id:\n",
    "            return team[\"name\"]\n",
    "\n",
    "\n",
    "def get_player_position(element_type):\n",
    "    general_information = requests.get(\n",
    "        \"https://fantasy.premierleague.com/api/bootstrap-static/\"\n",
    "    ).json()\n",
    "    positions = general_information[\"element_types\"]\n",
    "    for position in positions:\n",
    "        if position[\"id\"] == element_type:\n",
    "            return position[\"singular_name_short\"]"
   ]
  },
  {
   "cell_type": "markdown",
   "id": "5e8844bf",
   "metadata": {},
   "source": [
    "# Adding next GW's Fixtures along with the required features"
   ]
  },
  {
   "cell_type": "code",
   "execution_count": 4,
   "id": "67147d45",
   "metadata": {},
   "outputs": [],
   "source": [
    "\n",
    "\n",
    "general_info = requests.get(f\"https://fantasy.premierleague.com/api/bootstrap-static/\").json()\n",
    "player_infos = general_info[\"elements\"]\n",
    "\n",
    "\n",
    "\n",
    "# WEEKLY fixtures \n",
    "my_teams = []\n",
    "home_teams = []\n",
    "away_teams = []\n",
    "kickoff_times = []\n",
    "is_homes = []\n",
    "positions = []\n",
    "costs = []\n",
    "names = []\n",
    "ids = []\n",
    "\n",
    "general_info = requests.get(\n",
    "    f\"https://fantasy.premierleague.com/api/bootstrap-static/\"\n",
    ").json()\n",
    "player_infos = general_info[\"elements\"]\n",
    "\n",
    "# print(player_infos[0])\n",
    "gameweek = 5\n",
    "\n",
    "for player_info in player_infos:\n",
    "    id = player_info[\"id\"]\n",
    "    name = player_info[\"first_name\"] + \" \" + player_info[\"second_name\"]\n",
    "    team_id = player_info[\"team\"]\n",
    "    cost = player_info[\"now_cost\"]\n",
    "    element_type = player_info[\"element_type\"]\n",
    "    my_team = get_team_name(team_id)\n",
    "    position = get_player_position(element_type)\n",
    "    home_team, away_team, kickoff_time, is_home = get_player_fixture_info(id)\n",
    "    ids.append(id)\n",
    "    names.append(name)\n",
    "    costs.append(cost)\n",
    "    positions.append(position)\n",
    "    my_teams.append(my_team)\n",
    "    home_teams.append(home_team)\n",
    "    away_teams.append(away_team)\n",
    "    kickoff_times.append(kickoff_time)\n",
    "    is_homes.append(is_home)\n",
    "\n",
    "\n",
    "df = pd.DataFrame()\n",
    "df[\"id\"] = ids\n",
    "df[\"name\"] = names\n",
    "df[\"cost\"] = costs\n",
    "df[\"position\"] = positions\n",
    "df[\"home_team\"] = home_teams\n",
    "df[\"away_team\"] = away_teams\n",
    "df[\"kickoff_time\"] = kickoff_times\n",
    "df[\"is_home\"] = is_homes\n",
    "df[\"team_x\"] = my_teams\n",
    "df.to_csv(f\"datasets/2023-24/fixtures/GW{gameweek}.csv\")\n"
   ]
  }
 ],
 "metadata": {
  "kernelspec": {
   "display_name": "Python 3 (ipykernel)",
   "language": "python",
   "name": "python3"
  },
  "language_info": {
   "codemirror_mode": {
    "name": "ipython",
    "version": 3
   },
   "file_extension": ".py",
   "mimetype": "text/x-python",
   "name": "python",
   "nbconvert_exporter": "python",
   "pygments_lexer": "ipython3",
   "version": "3.9.13"
  }
 },
 "nbformat": 4,
 "nbformat_minor": 5
}
