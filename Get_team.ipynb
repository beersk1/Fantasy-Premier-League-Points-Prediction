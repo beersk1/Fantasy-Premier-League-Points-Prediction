{
 "cells": [
  {
   "cell_type": "markdown",
   "id": "d6239adf",
   "metadata": {},
   "source": [
    "# Import the necessary libraries"
   ]
  },
  {
   "cell_type": "code",
   "execution_count": 49,
   "id": "d447f294",
   "metadata": {},
   "outputs": [],
   "source": [
    "import matplotlib.pyplot as plt\n",
    "import pandas as pd\n",
    "import numpy as np\n",
    "import plotly.express as px\n",
    "from pulp import  *"
   ]
  },
  {
   "cell_type": "markdown",
   "id": "ef23609e",
   "metadata": {},
   "source": [
    "# METHOD 1"
   ]
  },
  {
   "cell_type": "markdown",
   "id": "bb9ff159",
   "metadata": {},
   "source": [
    "## Define the required functions"
   ]
  },
  {
   "cell_type": "code",
   "execution_count": null,
   "id": "17e35554",
   "metadata": {},
   "outputs": [],
   "source": [
    "def get_predictions(formation=\"433\", clubs=None):\n",
    "\n",
    "    \"\"\"\n",
    "    clubs is the list of clubs\n",
    "    \"\"\"\n",
    "\n",
    "    predicted_fwds = pd.read_csv(\"predicted_dataset/GW4/forwards_points.csv\")\n",
    "    predicted_fwds[\"name\"] = predicted_fwds[\"name\"].replace({\n",
    "        \"Diogo Teixeira da Silva\": \"Diogo jota\",\n",
    "        \"Cristiano Ronaldo dos Santos Aveiro\": \"Cristaino Ronaldo\",\n",
    "        \"Gabriel Fernando de Jesus\": \"Gabriel Jesus\",\n",
    "        \"Darwin Núñez Ribeiro\": \"Darwin Núñez\",})\n",
    "    predicted_defs = pd.read_csv(\"predicted_dataset/GW4/defenders_points.csv\")\n",
    "    predicted_gks = pd.read_csv(\"predicted_dataset/GW4/goalkeepers_points.csv\")\n",
    "    predicted_mids = pd.read_csv(\"predicted_dataset/GW4/midfielders_points.csv\")\n",
    "    if clubs:\n",
    "        predicted_fwds = predicted_fwds[predicted_fwds[\"team_x\"].isin(clubs)]\n",
    "        predicted_defs = predicted_defs[predicted_defs[\"team_x\"].isin(clubs)]\n",
    "        predicted_mids = predicted_mids[predicted_mids[\"team_x\"].isin(clubs)]\n",
    "        predicted_gks = predicted_gks[predicted_gks[\"team_x\"].isin(clubs)]\n",
    "        print(predicted_gks[\"name\"])\n",
    "    return {\n",
    "        \"goalkeepers\": list(predicted_gks[\"name\"])[0],\n",
    "        \"defenders\": list(predicted_defs[\"name\"])[: int(formation[0])],\n",
    "        \"midfielders\": list(predicted_mids[\"name\"])[: int(formation[1])],\n",
    "        \"forwards\": list(predicted_fwds[\"name\"])[: int(formation[2])],\n",
    "    }\n",
    "\n",
    "\n"
   ]
  },
  {
   "cell_type": "code",
   "execution_count": 27,
   "id": "7dc56589",
   "metadata": {},
   "outputs": [],
   "source": [
    "def get_full_squad():\n",
    "\n",
    "    \"\"\"\n",
    "    clubs is the list of clubs\n",
    "    \"\"\"\n",
    "\n",
    "    predicted_fwds = pd.read_csv(\"predicted_dataset/GW4/forwards_points.csv\")\n",
    "    predicted_fwds[\"name\"] = predicted_fwds[\"name\"].replace({\n",
    "        \"Diogo Teixeira da Silva\": \"Diogo jota\",\n",
    "        \"Cristiano Ronaldo dos Santos Aveiro\": \"Cristaino Ronaldo\",\n",
    "        \"Gabriel Fernando de Jesus\": \"Gabriel Jesus\",\n",
    "        \"Darwin Núñez Ribeiro\": \"Darwin Núñez\",})\n",
    "    \n",
    "    predicted_defs = pd.read_csv(\"predicted_dataset/GW4/defenders_points.csv\")\n",
    "    predicted_gks = pd.read_csv(\"predicted_dataset/GW4/goalkeepers_points.csv\")\n",
    "    predicted_mids = pd.read_csv(\"predicted_dataset/GW4/midfielders_points.csv\")\n",
    "\n",
    "    return {\n",
    "        \"goalkeepers\": list(predicted_gks[\"name\"])[:2],\n",
    "        \"defenders\": list(predicted_defs[\"name\"])[:5],\n",
    "        \"midfielders\": list(predicted_mids[\"name\"])[:5],\n",
    "        \"forwards\": list(predicted_fwds[\"name\"])[:3],\n",
    "    }\n",
    "\n"
   ]
  },
  {
   "cell_type": "markdown",
   "id": "691cfc44",
   "metadata": {},
   "source": [
    "## Final Squad"
   ]
  },
  {
   "cell_type": "code",
   "execution_count": 28,
   "id": "31d9854b",
   "metadata": {},
   "outputs": [
    {
     "name": "stdout",
     "output_type": "stream",
     "text": [
      "{'goalkeepers': 'Alphonse Areola', 'defenders': ['Pervis Estupiñán', 'Ben Davies', 'Micky van de Ven'], 'midfielders': ['Solly March', 'Bryan Mbeumo', 'Mohamed Salah', 'Phil Foden'], 'forwards': ['Yoane Wissa', 'Ollie Watkins', 'Alexander Isak']}\n",
      "{'goalkeepers': ['Alphonse Areola', 'Guglielmo Vicario'], 'defenders': ['Pervis Estupiñán', 'Ben Davies', 'Micky van de Ven', 'Cristian Romero', 'Virgil van Dijk'], 'midfielders': ['Solly March', 'Bryan Mbeumo', 'Mohamed Salah', 'Phil Foden', 'Martin Ødegaard'], 'forwards': ['Yoane Wissa', 'Ollie Watkins', 'Alexander Isak']}\n"
     ]
    }
   ],
   "source": [
    "print(get_predictions(formation=\"343\"))\n",
    "print(get_full_squad())"
   ]
  },
  {
   "cell_type": "markdown",
   "id": "563f8df5",
   "metadata": {},
   "source": [
    "# Method 2"
   ]
  },
  {
   "cell_type": "markdown",
   "id": "51d23d58",
   "metadata": {},
   "source": [
    "## Using Linear Expressions"
   ]
  },
  {
   "cell_type": "code",
   "execution_count": 52,
   "id": "73667fcc",
   "metadata": {},
   "outputs": [],
   "source": [
    "predicted_fwds = pd.read_csv(\"predicted_dataset/GW5/forwards_points.csv\",index_col=0)\n",
    "predicted_fwds[\"name\"] = predicted_fwds[\"name\"].replace({\n",
    "        \"Diogo Teixeira da Silva\": \"Diogo jota\",\n",
    "        \"Cristiano Ronaldo dos Santos Aveiro\": \"Cristaino Ronaldo\",\n",
    "        \"Gabriel Fernando de Jesus\": \"Gabriel Jesus\",\n",
    "        \"Darwin Núñez Ribeiro\": \"Darwin Núñez\",})\n",
    "injured=[\"Richarlison de Andrade\",\"Diogo jota\"]\n",
    "predicted_fwds=predicted_fwds[~predicted_fwds[\"name\"].isin(injured)]\n",
    "predicted_fwds[\"position\"]=\"FWD\"\n",
    "max_fwds=predicted_fwds[\"points\"].max()\n",
    "# predicted_fwds[\"points\"]=(predicted_fwds[\"points\"])/max_fwds"
   ]
  },
  {
   "cell_type": "code",
   "execution_count": 82,
   "id": "67f42258",
   "metadata": {},
   "outputs": [],
   "source": [
    "predicted_defs = pd.read_csv(\"predicted_dataset/GW5/defenders_points.csv\",index_col=0)\n",
    "predicted_defs[\"position\"]=\"DEF\"\n",
    "predicted_defs=predicted_defs[~predicted_defs[\"name\"].isin(injured)]\n",
    "max_defs=predicted_defs[\"points\"].max()\n",
    "# predicted_defs[\"points\"]=(predicted_defs[\"points\"])/max_defs"
   ]
  },
  {
   "cell_type": "code",
   "execution_count": 83,
   "id": "7d4bbf14",
   "metadata": {},
   "outputs": [],
   "source": [
    "predicted_mids = pd.read_csv(\"predicted_dataset/GW5/midfielders_points.csv\",index_col=0)\n",
    "predicted_mids[\"position\"]=\"MID\"\n",
    "max_mids=predicted_mids[\"points\"].max()\n",
    "# predicted_mids[\"points\"]=(predicted_mids[\"points\"])/max_mids"
   ]
  },
  {
   "cell_type": "code",
   "execution_count": 84,
   "id": "7443ad9c",
   "metadata": {},
   "outputs": [],
   "source": [
    "predicted_gks = pd.read_csv(\"predicted_dataset/GW5/goalkeepers_points.csv\",index_col=0)\n",
    "\n",
    "predicted_gks[\"position\"]=\"GK\"\n",
    "\n",
    "max_gks=predicted_gks[\"points\"].max()"
   ]
  },
  {
   "cell_type": "code",
   "execution_count": 85,
   "id": "e6adac09",
   "metadata": {},
   "outputs": [
    {
     "data": {
      "text/html": [
       "<div>\n",
       "<style scoped>\n",
       "    .dataframe tbody tr th:only-of-type {\n",
       "        vertical-align: middle;\n",
       "    }\n",
       "\n",
       "    .dataframe tbody tr th {\n",
       "        vertical-align: top;\n",
       "    }\n",
       "\n",
       "    .dataframe thead th {\n",
       "        text-align: right;\n",
       "    }\n",
       "</style>\n",
       "<table border=\"1\" class=\"dataframe\">\n",
       "  <thead>\n",
       "    <tr style=\"text-align: right;\">\n",
       "      <th></th>\n",
       "      <th>name</th>\n",
       "      <th>team</th>\n",
       "      <th>points</th>\n",
       "      <th>value</th>\n",
       "      <th>position</th>\n",
       "    </tr>\n",
       "    <tr>\n",
       "      <th>index</th>\n",
       "      <th></th>\n",
       "      <th></th>\n",
       "      <th></th>\n",
       "      <th></th>\n",
       "      <th></th>\n",
       "    </tr>\n",
       "  </thead>\n",
       "  <tbody>\n",
       "    <tr>\n",
       "      <th>Norberto Murara Neto2023-09-17T13:00:00Z</th>\n",
       "      <td>Norberto Murara Neto</td>\n",
       "      <td>Bournemouth</td>\n",
       "      <td>8.492094</td>\n",
       "      <td>45</td>\n",
       "      <td>GK</td>\n",
       "    </tr>\n",
       "    <tr>\n",
       "      <th>Bernd Leno2023-09-16T14:00:00Z</th>\n",
       "      <td>Bernd Leno</td>\n",
       "      <td>Fulham</td>\n",
       "      <td>5.705319</td>\n",
       "      <td>46</td>\n",
       "      <td>GK</td>\n",
       "    </tr>\n",
       "    <tr>\n",
       "      <th>Alisson Ramses Becker2023-09-16T11:30:00Z</th>\n",
       "      <td>Alisson Ramses Becker</td>\n",
       "      <td>Liverpool</td>\n",
       "      <td>5.259278</td>\n",
       "      <td>55</td>\n",
       "      <td>GK</td>\n",
       "    </tr>\n",
       "    <tr>\n",
       "      <th>Aaron Ramsdale2023-09-17T15:30:00Z</th>\n",
       "      <td>Aaron Ramsdale</td>\n",
       "      <td>Arsenal</td>\n",
       "      <td>4.922075</td>\n",
       "      <td>50</td>\n",
       "      <td>GK</td>\n",
       "    </tr>\n",
       "    <tr>\n",
       "      <th>Emiliano Martínez Romero2023-09-16T14:00:00Z</th>\n",
       "      <td>Emiliano Martínez Romero</td>\n",
       "      <td>Aston Villa</td>\n",
       "      <td>4.505688</td>\n",
       "      <td>49</td>\n",
       "      <td>GK</td>\n",
       "    </tr>\n",
       "  </tbody>\n",
       "</table>\n",
       "</div>"
      ],
      "text/plain": [
       "                                                                  name  \\\n",
       "index                                                                    \n",
       "Norberto Murara Neto2023-09-17T13:00:00Z          Norberto Murara Neto   \n",
       "Bernd Leno2023-09-16T14:00:00Z                              Bernd Leno   \n",
       "Alisson Ramses Becker2023-09-16T11:30:00Z        Alisson Ramses Becker   \n",
       "Aaron Ramsdale2023-09-17T15:30:00Z                      Aaron Ramsdale   \n",
       "Emiliano Martínez Romero2023-09-16T14:00:00Z  Emiliano Martínez Romero   \n",
       "\n",
       "                                                     team    points  value  \\\n",
       "index                                                                        \n",
       "Norberto Murara Neto2023-09-17T13:00:00Z      Bournemouth  8.492094     45   \n",
       "Bernd Leno2023-09-16T14:00:00Z                     Fulham  5.705319     46   \n",
       "Alisson Ramses Becker2023-09-16T11:30:00Z       Liverpool  5.259278     55   \n",
       "Aaron Ramsdale2023-09-17T15:30:00Z                Arsenal  4.922075     50   \n",
       "Emiliano Martínez Romero2023-09-16T14:00:00Z  Aston Villa  4.505688     49   \n",
       "\n",
       "                                             position  \n",
       "index                                                  \n",
       "Norberto Murara Neto2023-09-17T13:00:00Z           GK  \n",
       "Bernd Leno2023-09-16T14:00:00Z                     GK  \n",
       "Alisson Ramses Becker2023-09-16T11:30:00Z          GK  \n",
       "Aaron Ramsdale2023-09-17T15:30:00Z                 GK  \n",
       "Emiliano Martínez Romero2023-09-16T14:00:00Z       GK  "
      ]
     },
     "execution_count": 85,
     "metadata": {},
     "output_type": "execute_result"
    }
   ],
   "source": [
    "predicted_gks.head()"
   ]
  },
  {
   "cell_type": "code",
   "execution_count": 99,
   "id": "ee240a96",
   "metadata": {},
   "outputs": [
    {
     "data": {
      "text/html": [
       "<div>\n",
       "<style scoped>\n",
       "    .dataframe tbody tr th:only-of-type {\n",
       "        vertical-align: middle;\n",
       "    }\n",
       "\n",
       "    .dataframe tbody tr th {\n",
       "        vertical-align: top;\n",
       "    }\n",
       "\n",
       "    .dataframe thead th {\n",
       "        text-align: right;\n",
       "    }\n",
       "</style>\n",
       "<table border=\"1\" class=\"dataframe\">\n",
       "  <thead>\n",
       "    <tr style=\"text-align: right;\">\n",
       "      <th></th>\n",
       "      <th>name</th>\n",
       "      <th>team</th>\n",
       "      <th>points</th>\n",
       "      <th>value</th>\n",
       "      <th>position</th>\n",
       "    </tr>\n",
       "    <tr>\n",
       "      <th>index</th>\n",
       "      <th></th>\n",
       "      <th></th>\n",
       "      <th></th>\n",
       "      <th></th>\n",
       "      <th></th>\n",
       "    </tr>\n",
       "  </thead>\n",
       "  <tbody>\n",
       "    <tr>\n",
       "      <th>Erling Haaland2023-09-16T14:00:00Z</th>\n",
       "      <td>Erling Haaland</td>\n",
       "      <td>Man City</td>\n",
       "      <td>6.220080</td>\n",
       "      <td>141</td>\n",
       "      <td>FWD</td>\n",
       "    </tr>\n",
       "    <tr>\n",
       "      <th>Evan Ferguson2023-09-16T14:00:00Z</th>\n",
       "      <td>Evan Ferguson</td>\n",
       "      <td>Brighton</td>\n",
       "      <td>4.772392</td>\n",
       "      <td>60</td>\n",
       "      <td>FWD</td>\n",
       "    </tr>\n",
       "    <tr>\n",
       "      <th>Julián Álvarez2023-09-16T14:00:00Z</th>\n",
       "      <td>Julián Álvarez</td>\n",
       "      <td>Man City</td>\n",
       "      <td>4.547482</td>\n",
       "      <td>67</td>\n",
       "      <td>FWD</td>\n",
       "    </tr>\n",
       "    <tr>\n",
       "      <th>Cameron Archer2023-09-16T14:00:00Z</th>\n",
       "      <td>Cameron Archer</td>\n",
       "      <td>Sheffield Utd</td>\n",
       "      <td>4.126239</td>\n",
       "      <td>45</td>\n",
       "      <td>FWD</td>\n",
       "    </tr>\n",
       "    <tr>\n",
       "      <th>Taiwo Awoniyi2023-09-18T18:45:00Z</th>\n",
       "      <td>Taiwo Awoniyi</td>\n",
       "      <td>Nott'm Forest</td>\n",
       "      <td>4.105104</td>\n",
       "      <td>66</td>\n",
       "      <td>FWD</td>\n",
       "    </tr>\n",
       "  </tbody>\n",
       "</table>\n",
       "</div>"
      ],
      "text/plain": [
       "                                              name           team    points  \\\n",
       "index                                                                         \n",
       "Erling Haaland2023-09-16T14:00:00Z  Erling Haaland       Man City  6.220080   \n",
       "Evan Ferguson2023-09-16T14:00:00Z    Evan Ferguson       Brighton  4.772392   \n",
       "Julián Álvarez2023-09-16T14:00:00Z  Julián Álvarez       Man City  4.547482   \n",
       "Cameron Archer2023-09-16T14:00:00Z  Cameron Archer  Sheffield Utd  4.126239   \n",
       "Taiwo Awoniyi2023-09-18T18:45:00Z    Taiwo Awoniyi  Nott'm Forest  4.105104   \n",
       "\n",
       "                                    value position  \n",
       "index                                               \n",
       "Erling Haaland2023-09-16T14:00:00Z    141      FWD  \n",
       "Evan Ferguson2023-09-16T14:00:00Z      60      FWD  \n",
       "Julián Álvarez2023-09-16T14:00:00Z     67      FWD  \n",
       "Cameron Archer2023-09-16T14:00:00Z     45      FWD  \n",
       "Taiwo Awoniyi2023-09-18T18:45:00Z      66      FWD  "
      ]
     },
     "execution_count": 99,
     "metadata": {},
     "output_type": "execute_result"
    }
   ],
   "source": [
    "predictions=pd.concat([predicted_fwds,predicted_defs,predicted_mids,predicted_gks])\n",
    "predictions['name'] = predictions['name'].str.replace('-', ' ')\n",
    "predictions.head()"
   ]
  },
  {
   "cell_type": "code",
   "execution_count": 101,
   "id": "4a86396b",
   "metadata": {},
   "outputs": [],
   "source": [
    "predictions.drop_duplicates(subset=\"name\",inplace=True)\n",
    "predictions.to_csv(f\"test.csv\")"
   ]
  },
  {
   "cell_type": "code",
   "execution_count": 102,
   "id": "7edb05bc",
   "metadata": {},
   "outputs": [],
   "source": [
    "POS = predictions[\"position\"].unique()\n",
    "CLUBS = predictions[\"team\"].unique()\n",
    "BUDGET = 1000\n",
    "pos_available = {\n",
    "    'DEF': 5,\n",
    "    'FWD': 3,\n",
    "    'MID': 5,\n",
    "    'GK': 2,\n",
    "}"
   ]
  },
  {
   "cell_type": "code",
   "execution_count": 103,
   "id": "3d92dee6",
   "metadata": {},
   "outputs": [
    {
     "name": "stdout",
     "output_type": "stream",
     "text": [
      "                                                        name           team  \\\n",
      "index                                                                         \n",
      "Erling Haaland2023-09-16T14:00:00Z            Erling Haaland       Man City   \n",
      "Evan Ferguson2023-09-16T14:00:00Z              Evan Ferguson       Brighton   \n",
      "Julián Álvarez2023-09-16T14:00:00Z            Julián Álvarez       Man City   \n",
      "Cameron Archer2023-09-16T14:00:00Z            Cameron Archer  Sheffield Utd   \n",
      "Taiwo Awoniyi2023-09-18T18:45:00Z              Taiwo Awoniyi  Nott'm Forest   \n",
      "...                                                      ...            ...   \n",
      "Wes Foderingham2023-09-16T14:00:00Z          Wes Foderingham  Sheffield Utd   \n",
      "Thomas Kaminski2023-09-16T14:00:00Z          Thomas Kaminski          Luton   \n",
      "Alphonse Areola2023-09-16T14:00:00Z          Alphonse Areola       West Ham   \n",
      "Mark Flekken2023-09-16T16:30:00Z                Mark Flekken      Brentford   \n",
      "José Malheiro de Sá2023-09-16T11:30:00Z  José Malheiro de Sá         Wolves   \n",
      "\n",
      "                                           points  value position  \n",
      "index                                                              \n",
      "Erling Haaland2023-09-16T14:00:00Z       6.220080    141      FWD  \n",
      "Evan Ferguson2023-09-16T14:00:00Z        4.772392     60      FWD  \n",
      "Julián Álvarez2023-09-16T14:00:00Z       4.547482     67      FWD  \n",
      "Cameron Archer2023-09-16T14:00:00Z       4.126239     45      FWD  \n",
      "Taiwo Awoniyi2023-09-18T18:45:00Z        4.105104     66      FWD  \n",
      "...                                           ...    ...      ...  \n",
      "Wes Foderingham2023-09-16T14:00:00Z      3.209671     45       GK  \n",
      "Thomas Kaminski2023-09-16T14:00:00Z      3.177958     45       GK  \n",
      "Alphonse Areola2023-09-16T14:00:00Z      3.067764     41       GK  \n",
      "Mark Flekken2023-09-16T16:30:00Z         2.714229     45       GK  \n",
      "José Malheiro de Sá2023-09-16T11:30:00Z  2.611295     50       GK  \n",
      "\n",
      "[298 rows x 5 columns]\n",
      "1\n"
     ]
    }
   ],
   "source": [
    "# Initialize Variables\n",
    "print(predictions)\n",
    "names = [predictions[\"name\"].loc[i] for i in predictions.index]\n",
    "print(1)\n",
    "teams = [predictions[\"team\"].loc[i] for i in predictions.index]\n",
    "positions = [predictions[\"position\"].loc[i] for i in predictions.index]\n",
    "prices = [predictions[\"value\"].loc[i] for i in predictions.index]\n",
    "points = [predictions[\"points\"].loc[i] for i in predictions.index]\n",
    "players = [LpVariable(\"player_\" + str(i), cat=\"Binary\") for i in predictions[\"name\"]]\n",
    "#print(predictions)"
   ]
  },
  {
   "cell_type": "code",
   "execution_count": 104,
   "id": "32e555ce",
   "metadata": {},
   "outputs": [
    {
     "data": {
      "text/plain": [
       "[player_Erling_Haaland,\n",
       " player_Evan_Ferguson,\n",
       " player_Julián_Álvarez,\n",
       " player_Cameron_Archer,\n",
       " player_Taiwo_Awoniyi,\n",
       " player_Ollie_Watkins,\n",
       " player_Gabriel_Jesus,\n",
       " player_Dominic_Solanke,\n",
       " player_Yoane_Wissa,\n",
       " player_Chris_Wood,\n",
       " player_Eddie_Nketiah,\n",
       " player_Callum_Wilson,\n",
       " player_Michail_Antonio,\n",
       " player_Lyle_Foster,\n",
       " player_Matheus_Santos_Carneiro_Da_Cunha,\n",
       " player_Antoine_Semenyo,\n",
       " player_Odsonne_Edouard,\n",
       " player_Nicolas_Jackson,\n",
       " player_Oliver_McBurnie,\n",
       " player_Raúl_Jiménez,\n",
       " player_Darwin_Núñez,\n",
       " player_Norberto_Bercique_Gomes_Betuncal,\n",
       " player_Jhon_Durán,\n",
       " player_Alexander_Isak,\n",
       " player_Carlton_Morris,\n",
       " player_Cody_Gakpo,\n",
       " player_Anthony_Martial,\n",
       " player_João_Pedro_Junqueira_de_Jesus,\n",
       " player_Fábio_Silva,\n",
       " player_Danny_Welbeck,\n",
       " player_Zeki_Amdouni,\n",
       " player_Dominic_Calvert_Lewin,\n",
       " player_Chiedozie_Ogbene,\n",
       " player_Rasmus_Højlund,\n",
       " player_Elijah_Adebayo,\n",
       " player_Bénie_Traoré,\n",
       " player_Kieffer_Moore,\n",
       " player_Jacob_Brown,\n",
       " player_Trent_Alexander_Arnold,\n",
       " player_Kieran_Trippier,\n",
       " player_Andrew_Robertson,\n",
       " player_Gabriel_dos_Santos_Magalhães,\n",
       " player_James_Tarkowski,\n",
       " player_Cristian_Romero,\n",
       " player_Serge_Aurier,\n",
       " player_Ben_Chilwell,\n",
       " player_Kyle_Walker,\n",
       " player_Rúben_Gato_Alves_Dias,\n",
       " player_Destiny_Udogie,\n",
       " player_Pedro_Porro,\n",
       " player_Micky_van_de_Ven,\n",
       " player_Benjamin_White,\n",
       " player_Joel_Matip,\n",
       " player_William_Saliba,\n",
       " player_Nathan_Aké,\n",
       " player_Manuel_Akanji,\n",
       " player_Ben_Davies,\n",
       " player_Matty_Cash,\n",
       " player_Willy_Boly,\n",
       " player_Lucas_Digne,\n",
       " player_Virgil_van_Dijk,\n",
       " player_Timothy_Castagne,\n",
       " player_Joško_Gvardiol,\n",
       " player_Pau_Torres,\n",
       " player_Fodé_Ballo_Touré,\n",
       " player_Ivan_Perišić,\n",
       " player_Ezri_Konsa_Ngoyo,\n",
       " player_Antonee_Robinson,\n",
       " player_Clément_Lenglet,\n",
       " player_Issa_Diop,\n",
       " player_Kenny_Tete,\n",
       " player_Ibrahima_Konaté,\n",
       " player_Joe_Worrall,\n",
       " player_Fabian_Schär,\n",
       " player_Axel_Disasi,\n",
       " player_Tim_Ream,\n",
       " player_Joe_Gomez,\n",
       " player_Scott_McKenna,\n",
       " player_Malo_Gusto,\n",
       " player_Dan_Burn,\n",
       " player_Sven_Botman,\n",
       " player_Thiago_Emiliano_da_Silva,\n",
       " player_Murillo_Santiago_Costa_dos_Santos,\n",
       " player_Gonzalo_Montiel,\n",
       " player_Andrew_Omobamidele,\n",
       " player_Neco_Williams,\n",
       " player_Oleksandr_Zinchenko,\n",
       " player_Levi_Colwill,\n",
       " player_Diego_Carlos_Santos_Silva,\n",
       " player_Marcos_Senesi,\n",
       " player_Tyrick_Mitchell,\n",
       " player_Pervis_Estupiñán,\n",
       " player_Max_Kilman,\n",
       " player_Joachim_Andersen,\n",
       " player_Marc_Guéhi,\n",
       " player_Milos_Kerkez,\n",
       " player_Joel_Ward,\n",
       " player_Max_Aarons,\n",
       " player_Issa_Kaboré,\n",
       " player_Illia_Zabarnyi,\n",
       " player_Jack_Robinson,\n",
       " player_Yasser_Larouci,\n",
       " player_Reece_Burke,\n",
       " player_Anel_Ahmedhodžić,\n",
       " player_Nayef_Aguerd,\n",
       " player_John_Egan,\n",
       " player_Raphaël_Varane,\n",
       " player_Mads_Juel_Andersen,\n",
       " player_Lisandro_Martínez,\n",
       " player_Ameen_Al_Dakhil,\n",
       " player_Kurt_Zouma,\n",
       " player_Dara_O'Shea,\n",
       " player_Connor_Roberts,\n",
       " player_Chris_Basham,\n",
       " player_Tom_Lockyer,\n",
       " player_Ryan_Giles,\n",
       " player_Nélson_Cabral_Semedo,\n",
       " player_Lewis_Dunk,\n",
       " player_Santiago_Bueno,\n",
       " player_Amari'i_Bell,\n",
       " player_Ben_Mee,\n",
       " player_Alfie_Doughty,\n",
       " player_Nathan_Patterson,\n",
       " player_Ashley_Young,\n",
       " player_Emerson_Palmieri_dos_Santos,\n",
       " player_Luke_Shaw,\n",
       " player_Craig_Dawson,\n",
       " player_Rayan_Aït_Nouri,\n",
       " player_Ethan_Pinnock,\n",
       " player_Diogo_Dalot_Teixeira,\n",
       " player_Michael_Keane,\n",
       " player_Vladimír_Coufal,\n",
       " player_Aaron_Wan_Bissaka,\n",
       " player_Konstantinos_Mavropanos,\n",
       " player_Rico_Henry,\n",
       " player_Kristoffer_Ajer,\n",
       " player_Joël_Veltman,\n",
       " player_Nathan_Collins,\n",
       " player_Adam_Webster,\n",
       " player_Aaron_Hickey,\n",
       " player_Mohamed_Salah,\n",
       " player_Solly_March,\n",
       " player_Bryan_Mbeumo,\n",
       " player_Martin_Ødegaard,\n",
       " player_Marcus_Rashford,\n",
       " player_Bukayo_Saka,\n",
       " player_Son_Heung_min,\n",
       " player_Gabriel_Martinelli_Silva,\n",
       " player_James_Ward_Prowse,\n",
       " player_Diogo_Teixeira_da_Silva,\n",
       " player_James_Maddison,\n",
       " player_Kaoru_Mitoma,\n",
       " player_Phil_Foden,\n",
       " player_Richarlison_de_Andrade,\n",
       " player_Eberechi_Eze,\n",
       " player_Dejan_Kulusevski,\n",
       " player_Jarrod_Bowen,\n",
       " player_Kai_Havertz,\n",
       " player_Raheem_Sterling,\n",
       " player_Moussa_Diaby,\n",
       " player_Pape_Matar_Sarr,\n",
       " player_Bruno_Borges_Fernandes,\n",
       " player_Luis_Díaz,\n",
       " player_Leon_Bailey,\n",
       " player_Dominik_Szoboszlai,\n",
       " player_Morgan_Gibbs_White,\n",
       " player_Pascal_Groß,\n",
       " player_Jack_Grealish,\n",
       " player_Mason_Mount,\n",
       " player_Harry_Wilson,\n",
       " player_Abdoulaye_Doucouré,\n",
       " player_Mathias_Jensen,\n",
       " player_Julio_Enciso,\n",
       " player_John_McGinn,\n",
       " player_Pedro_Lomba_Neto,\n",
       " player_Declan_Rice,\n",
       " player_Douglas_Luiz_Soares_de_Paulo,\n",
       " player_Miguel_Almirón_Rejala,\n",
       " player_Mykhailo_Mudryk,\n",
       " player_Jérémy_Doku,\n",
       " player_Mohammed_Kudus,\n",
       " player_Anthony_Elanga,\n",
       " player_Manor_Solomon,\n",
       " player_Arnaut_Danjuma_Groeneveld,\n",
       " player_Jadon_Sancho,\n",
       " player_Harvey_Barnes,\n",
       " player_Alex_Iwobi,\n",
       " player_Lucas_Tolentino_Coelho_de_Lima,\n",
       " player_Alexis_Mac_Allister,\n",
       " player_Anssumane_Fati_Vieira,\n",
       " player_Hwang_Hee_chan,\n",
       " player_Enzo_Fernández,\n",
       " player_Alejandro_Garnacho,\n",
       " player_Thomas_Partey,\n",
       " player_Antony_Matheus_dos_Santos,\n",
       " player_Harrison_Reed,\n",
       " player_Joelinton_Cássio_Apolinário_de_Lira,\n",
       " player_Bobby_De_Cordova_Reid,\n",
       " player_Andreas_Hoelgebaum_Pereira,\n",
       " player_Jefferson_Lerma_Solís,\n",
       " player_Mike_Trésor,\n",
       " player_Rodrigo_Hernandez,\n",
       " player_Brennan_Johnson,\n",
       " player_Moisés_Caicedo_Corozo,\n",
       " player_Carlos_Henrique_Casimiro,\n",
       " player_Conor_Gallagher,\n",
       " player_Billy_Gilmour,\n",
       " player_Jeffrey_Schlupp,\n",
       " player_Philip_Billing,\n",
       " player_Jordan_Ayew,\n",
       " player_Danilo_dos_Santos_de_Oliveira,\n",
       " player_Pierre_Emile_Højbjerg,\n",
       " player_Christian_Nørgaard,\n",
       " player_Carney_Chukwuemeka,\n",
       " player_Jóhann_Berg_Gudmundsson,\n",
       " player_Luis_Sinisterra,\n",
       " player_Yves_Bissouma,\n",
       " player_Bruno_Guimarães_Rodriguez_Moura,\n",
       " player_Nicolò_Zaniolo,\n",
       " player_Christian_Eriksen,\n",
       " player_Pablo_Sarabia,\n",
       " player_Saïd_Benrahma,\n",
       " player_Sandro_Tonali,\n",
       " player_Nicolás_Domínguez,\n",
       " player_Ibrahim_Sangaré,\n",
       " player_Matheus_Luiz_Nunes,\n",
       " player_Anthony_Gordon,\n",
       " player_Wilson_Odobert,\n",
       " player_Aaron_Ramsey,\n",
       " player_Han_Noah_Massengo,\n",
       " player_David_Brooks,\n",
       " player_Oliver_Norwood,\n",
       " player_Marvelous_Nakamba,\n",
       " player_Saša_Lukić,\n",
       " player_Vini_de_Souza_Costa,\n",
       " player_Orel_Mangala,\n",
       " player_Ryan_Christie,\n",
       " player_Kevin_Schade,\n",
       " player_Amadou_Onana,\n",
       " player_Ross_Barkley,\n",
       " player_Tomáš_Souček,\n",
       " player_Justin_Kluivert,\n",
       " player_Mario_Lemina,\n",
       " player_Wataru_Endo,\n",
       " player_Idrissa_Gueye,\n",
       " player_Cheick_Doucouré,\n",
       " player_James_Garner,\n",
       " player_Vitaly_Janelt,\n",
       " player_Fábio_Ferreira_Vieira,\n",
       " player_Josh_Cullen,\n",
       " player_Luca_Koleosho,\n",
       " player_Gustavo_Hamer,\n",
       " player_Mateo_Kovačić,\n",
       " player_Ryan_Yates,\n",
       " player_Sean_Longstaff,\n",
       " player_Sander_Berge,\n",
       " player_Dwight_McNeil,\n",
       " player_Boubacar_Kamara,\n",
       " player_João_Victor_Gomes_da_Silva,\n",
       " player_Tyler_Adams,\n",
       " player_Tahith_Chong,\n",
       " player_Ben_Osborn,\n",
       " player_James_Milner,\n",
       " player_Enso_González,\n",
       " player_Jean_Ricner_Bellegarde,\n",
       " player_Manuel_Benson_Hedilazio,\n",
       " player_Willian_Borges_da_Silva,\n",
       " player_Joe_Rothwell,\n",
       " player_Marcus_Tavernier,\n",
       " player_Noni_Madueke,\n",
       " player_Adama_Traoré,\n",
       " player_Edson_Álvarez_Velázquez,\n",
       " player_Elliot_Anderson,\n",
       " player_Youri_Tielemans,\n",
       " player_Pelly_Ruddock_Mpanzu,\n",
       " player_Pablo_Fornals_Malla,\n",
       " player_Harvey_Elliott,\n",
       " player_Mahmoud_Dahoud,\n",
       " player_Norberto_Murara_Neto,\n",
       " player_Bernd_Leno,\n",
       " player_Alisson_Ramses_Becker,\n",
       " player_Aaron_Ramsdale,\n",
       " player_Emiliano_Martínez_Romero,\n",
       " player_Ederson_Santana_de_Moraes,\n",
       " player_Nick_Pope,\n",
       " player_Matt_Turner,\n",
       " player_Guglielmo_Vicario,\n",
       " player_James_Trafford,\n",
       " player_Sam_Johnstone,\n",
       " player_Jordan_Pickford,\n",
       " player_Robert_Sánchez,\n",
       " player_André_Onana,\n",
       " player_Jason_Steele,\n",
       " player_Wes_Foderingham,\n",
       " player_Thomas_Kaminski,\n",
       " player_Alphonse_Areola,\n",
       " player_Mark_Flekken,\n",
       " player_José_Malheiro_de_Sá]"
      ]
     },
     "execution_count": 104,
     "metadata": {},
     "output_type": "execute_result"
    }
   ],
   "source": [
    "players"
   ]
  },
  {
   "cell_type": "code",
   "execution_count": 105,
   "id": "0fbf3460",
   "metadata": {},
   "outputs": [
    {
     "name": "stderr",
     "output_type": "stream",
     "text": [
      "C:\\Users\\kabee\\AppData\\Roaming\\Python\\Python39\\site-packages\\pulp\\pulp.py:1352: UserWarning:\n",
      "\n",
      "Spaces are not permitted in the name. Converted to '_'\n",
      "\n"
     ]
    }
   ],
   "source": [
    "# Initialize the problem\n",
    "prob = LpProblem(\"FPL Player Choices\", LpMaximize)\n",
    "\n",
    "# Define the objective\n",
    "prob += lpSum(players[i] * points[i] for i in range(len(predictions)))\n",
    "# Objective\n",
    "\n",
    "# Build the constraints\n",
    "prob += lpSum(players[i] * predictions.value[predictions.index[i]] for i in range(len(predictions))) <= BUDGET # Budget Limit\n",
    "\n",
    "for pos in POS:\n",
    " prob += lpSum(players[i] for i in range(len(predictions)) if positions[i] == pos) == pos_available[pos] # Position Limit\n",
    "\n",
    "for club in CLUBS:\n",
    " prob += lpSum(players[i] for i in range(len(predictions)) if teams[i] == club) <= 2\n",
    "# Club Limit"
   ]
  },
  {
   "cell_type": "code",
   "execution_count": 106,
   "id": "2464b577",
   "metadata": {},
   "outputs": [
    {
     "data": {
      "text/plain": [
       "1"
      ]
     },
     "execution_count": 106,
     "metadata": {},
     "output_type": "execute_result"
    }
   ],
   "source": [
    "prob.solve()"
   ]
  },
  {
   "cell_type": "code",
   "execution_count": 107,
   "id": "7314017c",
   "metadata": {},
   "outputs": [
    {
     "name": "stdout",
     "output_type": "stream",
     "text": [
      "player_Bernd_Leno\n",
      "player_Bryan_Mbeumo\n",
      "player_Cameron_Archer\n",
      "player_Cristian_Romero\n",
      "player_Evan_Ferguson\n",
      "player_Gabriel_dos_Santos_Magalhães\n",
      "player_James_Tarkowski\n",
      "player_Julián_Álvarez\n",
      "player_Kieran_Trippier\n",
      "player_Marcus_Rashford\n",
      "player_Martin_Ødegaard\n",
      "player_Mohamed_Salah\n",
      "player_Norberto_Murara_Neto\n",
      "player_Solly_March\n",
      "player_Trent_Alexander_Arnold\n"
     ]
    }
   ],
   "source": [
    "for v in prob.variables():\n",
    "    if v.varValue != 0:\n",
    "        print(v)"
   ]
  },
  {
   "cell_type": "code",
   "execution_count": 117,
   "id": "07ff9b15",
   "metadata": {},
   "outputs": [],
   "source": [
    "results_data = []\n",
    "for v in prob.variables():\n",
    "    if v.varValue != 0:\n",
    "        name_parts = v.name.split('_')\n",
    "        result = \" \".join(name_parts[1:])\n",
    "        club = predictions[predictions['name'] == result].iloc[0]['team']\n",
    "        position = predictions[predictions['name'] == result].iloc[0]['position']\n",
    "        points = predictions[predictions['name'] == result].iloc[0]['points']\n",
    "        price = predictions[predictions['name'] == result].iloc[0]['value']\n",
    "        row_dict = {'Name': result, 'Team': club,'Position':position ,'Price': price, 'Expected Points': points}\n",
    "        \n",
    "        # Append the dictionary to the list\n",
    "        results_data.append(row_dict)\n",
    "\n"
   ]
  },
  {
   "cell_type": "markdown",
   "id": "892ecdaa",
   "metadata": {},
   "source": [
    "## Final player List \n",
    "### According to required formation \n",
    "### Eg: 433, 352, 343"
   ]
  },
  {
   "cell_type": "code",
   "execution_count": 140,
   "id": "d6fed34c",
   "metadata": {},
   "outputs": [
    {
     "data": {
      "text/html": [
       "<div>\n",
       "<style scoped>\n",
       "    .dataframe tbody tr th:only-of-type {\n",
       "        vertical-align: middle;\n",
       "    }\n",
       "\n",
       "    .dataframe tbody tr th {\n",
       "        vertical-align: top;\n",
       "    }\n",
       "\n",
       "    .dataframe thead th {\n",
       "        text-align: right;\n",
       "    }\n",
       "</style>\n",
       "<table border=\"1\" class=\"dataframe\">\n",
       "  <thead>\n",
       "    <tr style=\"text-align: right;\">\n",
       "      <th></th>\n",
       "      <th>Name</th>\n",
       "      <th>Team</th>\n",
       "      <th>Position</th>\n",
       "      <th>Price</th>\n",
       "      <th>Expected Points</th>\n",
       "    </tr>\n",
       "  </thead>\n",
       "  <tbody>\n",
       "    <tr>\n",
       "      <th>0</th>\n",
       "      <td>Norberto Murara Neto</td>\n",
       "      <td>Bournemouth</td>\n",
       "      <td>GK</td>\n",
       "      <td>45</td>\n",
       "      <td>8.492094</td>\n",
       "    </tr>\n",
       "    <tr>\n",
       "      <th>1</th>\n",
       "      <td>Mohamed Salah</td>\n",
       "      <td>Liverpool</td>\n",
       "      <td>MID</td>\n",
       "      <td>125</td>\n",
       "      <td>7.021812</td>\n",
       "    </tr>\n",
       "    <tr>\n",
       "      <th>2</th>\n",
       "      <td>Solly March</td>\n",
       "      <td>Brighton</td>\n",
       "      <td>MID</td>\n",
       "      <td>66</td>\n",
       "      <td>6.152239</td>\n",
       "    </tr>\n",
       "    <tr>\n",
       "      <th>3</th>\n",
       "      <td>Bryan Mbeumo</td>\n",
       "      <td>Brentford</td>\n",
       "      <td>MID</td>\n",
       "      <td>68</td>\n",
       "      <td>6.123380</td>\n",
       "    </tr>\n",
       "    <tr>\n",
       "      <th>4</th>\n",
       "      <td>Martin Ødegaard</td>\n",
       "      <td>Arsenal</td>\n",
       "      <td>MID</td>\n",
       "      <td>85</td>\n",
       "      <td>5.547645</td>\n",
       "    </tr>\n",
       "    <tr>\n",
       "      <th>5</th>\n",
       "      <td>Trent Alexander Arnold</td>\n",
       "      <td>Liverpool</td>\n",
       "      <td>DEF</td>\n",
       "      <td>79</td>\n",
       "      <td>6.659702</td>\n",
       "    </tr>\n",
       "    <tr>\n",
       "      <th>6</th>\n",
       "      <td>Kieran Trippier</td>\n",
       "      <td>Newcastle</td>\n",
       "      <td>DEF</td>\n",
       "      <td>65</td>\n",
       "      <td>5.170406</td>\n",
       "    </tr>\n",
       "    <tr>\n",
       "      <th>7</th>\n",
       "      <td>Gabriel dos Santos Magalhães</td>\n",
       "      <td>Arsenal</td>\n",
       "      <td>DEF</td>\n",
       "      <td>48</td>\n",
       "      <td>4.585148</td>\n",
       "    </tr>\n",
       "    <tr>\n",
       "      <th>8</th>\n",
       "      <td>Evan Ferguson</td>\n",
       "      <td>Brighton</td>\n",
       "      <td>FWD</td>\n",
       "      <td>60</td>\n",
       "      <td>4.772392</td>\n",
       "    </tr>\n",
       "    <tr>\n",
       "      <th>9</th>\n",
       "      <td>Julián Álvarez</td>\n",
       "      <td>Man City</td>\n",
       "      <td>FWD</td>\n",
       "      <td>67</td>\n",
       "      <td>4.547482</td>\n",
       "    </tr>\n",
       "    <tr>\n",
       "      <th>10</th>\n",
       "      <td>Cameron Archer</td>\n",
       "      <td>Sheffield Utd</td>\n",
       "      <td>FWD</td>\n",
       "      <td>45</td>\n",
       "      <td>4.126239</td>\n",
       "    </tr>\n",
       "  </tbody>\n",
       "</table>\n",
       "</div>"
      ],
      "text/plain": [
       "                            Name           Team Position  Price  \\\n",
       "0           Norberto Murara Neto    Bournemouth       GK     45   \n",
       "1                  Mohamed Salah      Liverpool      MID    125   \n",
       "2                    Solly March       Brighton      MID     66   \n",
       "3                   Bryan Mbeumo      Brentford      MID     68   \n",
       "4                Martin Ødegaard        Arsenal      MID     85   \n",
       "5         Trent Alexander Arnold      Liverpool      DEF     79   \n",
       "6                Kieran Trippier      Newcastle      DEF     65   \n",
       "7   Gabriel dos Santos Magalhães        Arsenal      DEF     48   \n",
       "8                  Evan Ferguson       Brighton      FWD     60   \n",
       "9                 Julián Álvarez       Man City      FWD     67   \n",
       "10                Cameron Archer  Sheffield Utd      FWD     45   \n",
       "\n",
       "    Expected Points  \n",
       "0          8.492094  \n",
       "1          7.021812  \n",
       "2          6.152239  \n",
       "3          6.123380  \n",
       "4          5.547645  \n",
       "5          6.659702  \n",
       "6          5.170406  \n",
       "7          4.585148  \n",
       "8          4.772392  \n",
       "9          4.547482  \n",
       "10         4.126239  "
      ]
     },
     "execution_count": 140,
     "metadata": {},
     "output_type": "execute_result"
    }
   ],
   "source": [
    "def top_players(df, positions, quantity):\n",
    "     top_players = []\n",
    "     for position, qty in zip(positions, quantity):\n",
    "        top_players.extend(df[df['Position'] == position]\n",
    "                           .nlargest(qty, 'Expected Points')\n",
    "                           .to_dict(orient='records'))\n",
    "     return pd.DataFrame(top_players)\n",
    "# Specify the positions and quantity\n",
    "positions = [\"GK\", \"MID\", \"DEF\", \"FWD\"]\n",
    "quantity = [1, 4, 3, 3]\n",
    "\n",
    "result = top_players(results_df, positions, quantity)\n",
    "\n",
    "\n",
    "result"
   ]
  },
  {
   "cell_type": "code",
   "execution_count": 125,
   "id": "54c0a5ac",
   "metadata": {},
   "outputs": [
    {
     "name": "stdout",
     "output_type": "stream",
     "text": [
      "Cost: \n",
      "46*1.0 + 68*1.0 + 45*1.0 + 47*1.0 + 60*1.0 + 48*1.0 + 44*1.0 + 67*1.0 + 65*1.0 + 89*1.0 + 85*1.0 + 125*1.0 + 45*1.0 + 66*1.0 + 79*1.0 = 979.0\n",
      "\n",
      "Expexted Score: \n",
      "5.705319054867854*1.0 + 6.123380056987473*1.0 + 4.126238604442265*1.0 + 4.380434643855283*1.0 + 4.772391906429631*1.0 + 4.585147766200482*1.0 + 4.578567794177311*1.0 + 4.547482123606225*1.0 + 5.170406174536353*1.0 + 5.357579104695027*1.0 + 5.547645273802695*1.0 + 7.021811593498347*1.0 + 8.492093789156472*1.0 + 6.152238752603792*1.0 + 6.65970173774385*1.0= 83.22043837660306\n"
     ]
    }
   ],
   "source": [
    "score = str(prob.objective)\n",
    "constraint = [str(const) for const in prob.constraints.values()][0]\n",
    "for v in prob.variables():\n",
    " score = score.replace(v.name, str(v.varValue))\n",
    " constraint = constraint.replace(v.name, str(v.varValue))\n",
    "\n",
    "score_pretty = \" + \".join( re.findall('[0-9\\.]*\\*1.0', score) )\n",
    "constraint_pretty = \" + \".join( re.findall('[0-9\\.]*\\*1.0', constraint) )\n",
    "\n",
    "print(\"Cost: \")\n",
    "print(constraint_pretty + \" = \" + str(eval(constraint_pretty)))\n",
    "print()\n",
    "print(\"Expexted Score: \")\n",
    "print(score_pretty + \"= \" + str(eval(score_pretty)))"
   ]
  },
  {
   "cell_type": "markdown",
   "id": "83dc7647",
   "metadata": {},
   "source": [
    "# Plotting Top Ex. Points from each position "
   ]
  },
  {
   "cell_type": "code",
   "execution_count": 119,
   "id": "c8e1e2e5",
   "metadata": {},
   "outputs": [],
   "source": [
    "no_plotted_players=10"
   ]
  },
  {
   "cell_type": "code",
   "execution_count": 126,
   "id": "5c0bc406",
   "metadata": {},
   "outputs": [
    {
     "data": {
      "application/vnd.plotly.v1+json": {
       "config": {
        "plotlyServerURL": "https://plot.ly"
       },
       "data": [
        {
         "alignmentgroup": "True",
         "hovertemplate": "name=%{text}<br>points=%{y}<extra></extra>",
         "legendgroup": "Chris Wood",
         "marker": {
          "color": "#636efa",
          "pattern": {
           "shape": ""
          }
         },
         "name": "Chris Wood",
         "offsetgroup": "Chris Wood",
         "orientation": "v",
         "showlegend": true,
         "text": [
          "Chris Wood"
         ],
         "textposition": "auto",
         "type": "bar",
         "x": [
          "Chris Wood"
         ],
         "xaxis": "x",
         "y": [
          3.3077762992735367
         ],
         "yaxis": "y"
        },
        {
         "alignmentgroup": "True",
         "hovertemplate": "name=%{text}<br>points=%{y}<extra></extra>",
         "legendgroup": "Yoane Wissa",
         "marker": {
          "color": "#EF553B",
          "pattern": {
           "shape": ""
          }
         },
         "name": "Yoane Wissa",
         "offsetgroup": "Yoane Wissa",
         "orientation": "v",
         "showlegend": true,
         "text": [
          "Yoane Wissa"
         ],
         "textposition": "auto",
         "type": "bar",
         "x": [
          "Yoane Wissa"
         ],
         "xaxis": "x",
         "y": [
          3.680347676007263
         ],
         "yaxis": "y"
        },
        {
         "alignmentgroup": "True",
         "hovertemplate": "name=%{text}<br>points=%{y}<extra></extra>",
         "legendgroup": "Dominic Solanke",
         "marker": {
          "color": "#00cc96",
          "pattern": {
           "shape": ""
          }
         },
         "name": "Dominic Solanke",
         "offsetgroup": "Dominic Solanke",
         "orientation": "v",
         "showlegend": true,
         "text": [
          "Dominic Solanke"
         ],
         "textposition": "auto",
         "type": "bar",
         "x": [
          "Dominic Solanke"
         ],
         "xaxis": "x",
         "y": [
          3.684371462538088
         ],
         "yaxis": "y"
        },
        {
         "alignmentgroup": "True",
         "hovertemplate": "name=%{text}<br>points=%{y}<extra></extra>",
         "legendgroup": "Gabriel Jesus",
         "marker": {
          "color": "#ab63fa",
          "pattern": {
           "shape": ""
          }
         },
         "name": "Gabriel Jesus",
         "offsetgroup": "Gabriel Jesus",
         "orientation": "v",
         "showlegend": true,
         "text": [
          "Gabriel Jesus"
         ],
         "textposition": "auto",
         "type": "bar",
         "x": [
          "Gabriel Jesus"
         ],
         "xaxis": "x",
         "y": [
          3.750369349668954
         ],
         "yaxis": "y"
        },
        {
         "alignmentgroup": "True",
         "hovertemplate": "name=%{text}<br>points=%{y}<extra></extra>",
         "legendgroup": "Ollie Watkins",
         "marker": {
          "color": "#FFA15A",
          "pattern": {
           "shape": ""
          }
         },
         "name": "Ollie Watkins",
         "offsetgroup": "Ollie Watkins",
         "orientation": "v",
         "showlegend": true,
         "text": [
          "Ollie Watkins"
         ],
         "textposition": "auto",
         "type": "bar",
         "x": [
          "Ollie Watkins"
         ],
         "xaxis": "x",
         "y": [
          3.760505674766753
         ],
         "yaxis": "y"
        },
        {
         "alignmentgroup": "True",
         "hovertemplate": "name=%{text}<br>points=%{y}<extra></extra>",
         "legendgroup": "Taiwo Awoniyi",
         "marker": {
          "color": "#19d3f3",
          "pattern": {
           "shape": ""
          }
         },
         "name": "Taiwo Awoniyi",
         "offsetgroup": "Taiwo Awoniyi",
         "orientation": "v",
         "showlegend": true,
         "text": [
          "Taiwo Awoniyi"
         ],
         "textposition": "auto",
         "type": "bar",
         "x": [
          "Taiwo Awoniyi"
         ],
         "xaxis": "x",
         "y": [
          4.10510361378309
         ],
         "yaxis": "y"
        },
        {
         "alignmentgroup": "True",
         "hovertemplate": "name=%{text}<br>points=%{y}<extra></extra>",
         "legendgroup": "Cameron Archer",
         "marker": {
          "color": "#FF6692",
          "pattern": {
           "shape": ""
          }
         },
         "name": "Cameron Archer",
         "offsetgroup": "Cameron Archer",
         "orientation": "v",
         "showlegend": true,
         "text": [
          "Cameron Archer"
         ],
         "textposition": "auto",
         "type": "bar",
         "x": [
          "Cameron Archer"
         ],
         "xaxis": "x",
         "y": [
          4.126238604442265
         ],
         "yaxis": "y"
        },
        {
         "alignmentgroup": "True",
         "hovertemplate": "name=%{text}<br>points=%{y}<extra></extra>",
         "legendgroup": "Julián Álvarez",
         "marker": {
          "color": "#B6E880",
          "pattern": {
           "shape": ""
          }
         },
         "name": "Julián Álvarez",
         "offsetgroup": "Julián Álvarez",
         "orientation": "v",
         "showlegend": true,
         "text": [
          "Julián Álvarez"
         ],
         "textposition": "auto",
         "type": "bar",
         "x": [
          "Julián Álvarez"
         ],
         "xaxis": "x",
         "y": [
          4.547482123606225
         ],
         "yaxis": "y"
        },
        {
         "alignmentgroup": "True",
         "hovertemplate": "name=%{text}<br>points=%{y}<extra></extra>",
         "legendgroup": "Evan Ferguson",
         "marker": {
          "color": "#FF97FF",
          "pattern": {
           "shape": ""
          }
         },
         "name": "Evan Ferguson",
         "offsetgroup": "Evan Ferguson",
         "orientation": "v",
         "showlegend": true,
         "text": [
          "Evan Ferguson"
         ],
         "textposition": "auto",
         "type": "bar",
         "x": [
          "Evan Ferguson"
         ],
         "xaxis": "x",
         "y": [
          4.772391906429631
         ],
         "yaxis": "y"
        },
        {
         "alignmentgroup": "True",
         "hovertemplate": "name=%{text}<br>points=%{y}<extra></extra>",
         "legendgroup": "Erling Haaland",
         "marker": {
          "color": "#FECB52",
          "pattern": {
           "shape": ""
          }
         },
         "name": "Erling Haaland",
         "offsetgroup": "Erling Haaland",
         "orientation": "v",
         "showlegend": true,
         "text": [
          "Erling Haaland"
         ],
         "textposition": "auto",
         "type": "bar",
         "x": [
          "Erling Haaland"
         ],
         "xaxis": "x",
         "y": [
          6.220080331293293
         ],
         "yaxis": "y"
        }
       ],
       "layout": {
        "barmode": "relative",
        "legend": {
         "title": {
          "text": "name"
         },
         "tracegroupgap": 0
        },
        "template": {
         "data": {
          "bar": [
           {
            "error_x": {
             "color": "#2a3f5f"
            },
            "error_y": {
             "color": "#2a3f5f"
            },
            "marker": {
             "line": {
              "color": "#E5ECF6",
              "width": 0.5
             },
             "pattern": {
              "fillmode": "overlay",
              "size": 10,
              "solidity": 0.2
             }
            },
            "type": "bar"
           }
          ],
          "barpolar": [
           {
            "marker": {
             "line": {
              "color": "#E5ECF6",
              "width": 0.5
             },
             "pattern": {
              "fillmode": "overlay",
              "size": 10,
              "solidity": 0.2
             }
            },
            "type": "barpolar"
           }
          ],
          "carpet": [
           {
            "aaxis": {
             "endlinecolor": "#2a3f5f",
             "gridcolor": "white",
             "linecolor": "white",
             "minorgridcolor": "white",
             "startlinecolor": "#2a3f5f"
            },
            "baxis": {
             "endlinecolor": "#2a3f5f",
             "gridcolor": "white",
             "linecolor": "white",
             "minorgridcolor": "white",
             "startlinecolor": "#2a3f5f"
            },
            "type": "carpet"
           }
          ],
          "choropleth": [
           {
            "colorbar": {
             "outlinewidth": 0,
             "ticks": ""
            },
            "type": "choropleth"
           }
          ],
          "contour": [
           {
            "colorbar": {
             "outlinewidth": 0,
             "ticks": ""
            },
            "colorscale": [
             [
              0,
              "#0d0887"
             ],
             [
              0.1111111111111111,
              "#46039f"
             ],
             [
              0.2222222222222222,
              "#7201a8"
             ],
             [
              0.3333333333333333,
              "#9c179e"
             ],
             [
              0.4444444444444444,
              "#bd3786"
             ],
             [
              0.5555555555555556,
              "#d8576b"
             ],
             [
              0.6666666666666666,
              "#ed7953"
             ],
             [
              0.7777777777777778,
              "#fb9f3a"
             ],
             [
              0.8888888888888888,
              "#fdca26"
             ],
             [
              1,
              "#f0f921"
             ]
            ],
            "type": "contour"
           }
          ],
          "contourcarpet": [
           {
            "colorbar": {
             "outlinewidth": 0,
             "ticks": ""
            },
            "type": "contourcarpet"
           }
          ],
          "heatmap": [
           {
            "colorbar": {
             "outlinewidth": 0,
             "ticks": ""
            },
            "colorscale": [
             [
              0,
              "#0d0887"
             ],
             [
              0.1111111111111111,
              "#46039f"
             ],
             [
              0.2222222222222222,
              "#7201a8"
             ],
             [
              0.3333333333333333,
              "#9c179e"
             ],
             [
              0.4444444444444444,
              "#bd3786"
             ],
             [
              0.5555555555555556,
              "#d8576b"
             ],
             [
              0.6666666666666666,
              "#ed7953"
             ],
             [
              0.7777777777777778,
              "#fb9f3a"
             ],
             [
              0.8888888888888888,
              "#fdca26"
             ],
             [
              1,
              "#f0f921"
             ]
            ],
            "type": "heatmap"
           }
          ],
          "heatmapgl": [
           {
            "colorbar": {
             "outlinewidth": 0,
             "ticks": ""
            },
            "colorscale": [
             [
              0,
              "#0d0887"
             ],
             [
              0.1111111111111111,
              "#46039f"
             ],
             [
              0.2222222222222222,
              "#7201a8"
             ],
             [
              0.3333333333333333,
              "#9c179e"
             ],
             [
              0.4444444444444444,
              "#bd3786"
             ],
             [
              0.5555555555555556,
              "#d8576b"
             ],
             [
              0.6666666666666666,
              "#ed7953"
             ],
             [
              0.7777777777777778,
              "#fb9f3a"
             ],
             [
              0.8888888888888888,
              "#fdca26"
             ],
             [
              1,
              "#f0f921"
             ]
            ],
            "type": "heatmapgl"
           }
          ],
          "histogram": [
           {
            "marker": {
             "pattern": {
              "fillmode": "overlay",
              "size": 10,
              "solidity": 0.2
             }
            },
            "type": "histogram"
           }
          ],
          "histogram2d": [
           {
            "colorbar": {
             "outlinewidth": 0,
             "ticks": ""
            },
            "colorscale": [
             [
              0,
              "#0d0887"
             ],
             [
              0.1111111111111111,
              "#46039f"
             ],
             [
              0.2222222222222222,
              "#7201a8"
             ],
             [
              0.3333333333333333,
              "#9c179e"
             ],
             [
              0.4444444444444444,
              "#bd3786"
             ],
             [
              0.5555555555555556,
              "#d8576b"
             ],
             [
              0.6666666666666666,
              "#ed7953"
             ],
             [
              0.7777777777777778,
              "#fb9f3a"
             ],
             [
              0.8888888888888888,
              "#fdca26"
             ],
             [
              1,
              "#f0f921"
             ]
            ],
            "type": "histogram2d"
           }
          ],
          "histogram2dcontour": [
           {
            "colorbar": {
             "outlinewidth": 0,
             "ticks": ""
            },
            "colorscale": [
             [
              0,
              "#0d0887"
             ],
             [
              0.1111111111111111,
              "#46039f"
             ],
             [
              0.2222222222222222,
              "#7201a8"
             ],
             [
              0.3333333333333333,
              "#9c179e"
             ],
             [
              0.4444444444444444,
              "#bd3786"
             ],
             [
              0.5555555555555556,
              "#d8576b"
             ],
             [
              0.6666666666666666,
              "#ed7953"
             ],
             [
              0.7777777777777778,
              "#fb9f3a"
             ],
             [
              0.8888888888888888,
              "#fdca26"
             ],
             [
              1,
              "#f0f921"
             ]
            ],
            "type": "histogram2dcontour"
           }
          ],
          "mesh3d": [
           {
            "colorbar": {
             "outlinewidth": 0,
             "ticks": ""
            },
            "type": "mesh3d"
           }
          ],
          "parcoords": [
           {
            "line": {
             "colorbar": {
              "outlinewidth": 0,
              "ticks": ""
             }
            },
            "type": "parcoords"
           }
          ],
          "pie": [
           {
            "automargin": true,
            "type": "pie"
           }
          ],
          "scatter": [
           {
            "fillpattern": {
             "fillmode": "overlay",
             "size": 10,
             "solidity": 0.2
            },
            "type": "scatter"
           }
          ],
          "scatter3d": [
           {
            "line": {
             "colorbar": {
              "outlinewidth": 0,
              "ticks": ""
             }
            },
            "marker": {
             "colorbar": {
              "outlinewidth": 0,
              "ticks": ""
             }
            },
            "type": "scatter3d"
           }
          ],
          "scattercarpet": [
           {
            "marker": {
             "colorbar": {
              "outlinewidth": 0,
              "ticks": ""
             }
            },
            "type": "scattercarpet"
           }
          ],
          "scattergeo": [
           {
            "marker": {
             "colorbar": {
              "outlinewidth": 0,
              "ticks": ""
             }
            },
            "type": "scattergeo"
           }
          ],
          "scattergl": [
           {
            "marker": {
             "colorbar": {
              "outlinewidth": 0,
              "ticks": ""
             }
            },
            "type": "scattergl"
           }
          ],
          "scattermapbox": [
           {
            "marker": {
             "colorbar": {
              "outlinewidth": 0,
              "ticks": ""
             }
            },
            "type": "scattermapbox"
           }
          ],
          "scatterpolar": [
           {
            "marker": {
             "colorbar": {
              "outlinewidth": 0,
              "ticks": ""
             }
            },
            "type": "scatterpolar"
           }
          ],
          "scatterpolargl": [
           {
            "marker": {
             "colorbar": {
              "outlinewidth": 0,
              "ticks": ""
             }
            },
            "type": "scatterpolargl"
           }
          ],
          "scatterternary": [
           {
            "marker": {
             "colorbar": {
              "outlinewidth": 0,
              "ticks": ""
             }
            },
            "type": "scatterternary"
           }
          ],
          "surface": [
           {
            "colorbar": {
             "outlinewidth": 0,
             "ticks": ""
            },
            "colorscale": [
             [
              0,
              "#0d0887"
             ],
             [
              0.1111111111111111,
              "#46039f"
             ],
             [
              0.2222222222222222,
              "#7201a8"
             ],
             [
              0.3333333333333333,
              "#9c179e"
             ],
             [
              0.4444444444444444,
              "#bd3786"
             ],
             [
              0.5555555555555556,
              "#d8576b"
             ],
             [
              0.6666666666666666,
              "#ed7953"
             ],
             [
              0.7777777777777778,
              "#fb9f3a"
             ],
             [
              0.8888888888888888,
              "#fdca26"
             ],
             [
              1,
              "#f0f921"
             ]
            ],
            "type": "surface"
           }
          ],
          "table": [
           {
            "cells": {
             "fill": {
              "color": "#EBF0F8"
             },
             "line": {
              "color": "white"
             }
            },
            "header": {
             "fill": {
              "color": "#C8D4E3"
             },
             "line": {
              "color": "white"
             }
            },
            "type": "table"
           }
          ]
         },
         "layout": {
          "annotationdefaults": {
           "arrowcolor": "#2a3f5f",
           "arrowhead": 0,
           "arrowwidth": 1
          },
          "autotypenumbers": "strict",
          "coloraxis": {
           "colorbar": {
            "outlinewidth": 0,
            "ticks": ""
           }
          },
          "colorscale": {
           "diverging": [
            [
             0,
             "#8e0152"
            ],
            [
             0.1,
             "#c51b7d"
            ],
            [
             0.2,
             "#de77ae"
            ],
            [
             0.3,
             "#f1b6da"
            ],
            [
             0.4,
             "#fde0ef"
            ],
            [
             0.5,
             "#f7f7f7"
            ],
            [
             0.6,
             "#e6f5d0"
            ],
            [
             0.7,
             "#b8e186"
            ],
            [
             0.8,
             "#7fbc41"
            ],
            [
             0.9,
             "#4d9221"
            ],
            [
             1,
             "#276419"
            ]
           ],
           "sequential": [
            [
             0,
             "#0d0887"
            ],
            [
             0.1111111111111111,
             "#46039f"
            ],
            [
             0.2222222222222222,
             "#7201a8"
            ],
            [
             0.3333333333333333,
             "#9c179e"
            ],
            [
             0.4444444444444444,
             "#bd3786"
            ],
            [
             0.5555555555555556,
             "#d8576b"
            ],
            [
             0.6666666666666666,
             "#ed7953"
            ],
            [
             0.7777777777777778,
             "#fb9f3a"
            ],
            [
             0.8888888888888888,
             "#fdca26"
            ],
            [
             1,
             "#f0f921"
            ]
           ],
           "sequentialminus": [
            [
             0,
             "#0d0887"
            ],
            [
             0.1111111111111111,
             "#46039f"
            ],
            [
             0.2222222222222222,
             "#7201a8"
            ],
            [
             0.3333333333333333,
             "#9c179e"
            ],
            [
             0.4444444444444444,
             "#bd3786"
            ],
            [
             0.5555555555555556,
             "#d8576b"
            ],
            [
             0.6666666666666666,
             "#ed7953"
            ],
            [
             0.7777777777777778,
             "#fb9f3a"
            ],
            [
             0.8888888888888888,
             "#fdca26"
            ],
            [
             1,
             "#f0f921"
            ]
           ]
          },
          "colorway": [
           "#636efa",
           "#EF553B",
           "#00cc96",
           "#ab63fa",
           "#FFA15A",
           "#19d3f3",
           "#FF6692",
           "#B6E880",
           "#FF97FF",
           "#FECB52"
          ],
          "font": {
           "color": "#2a3f5f"
          },
          "geo": {
           "bgcolor": "white",
           "lakecolor": "white",
           "landcolor": "#E5ECF6",
           "showlakes": true,
           "showland": true,
           "subunitcolor": "white"
          },
          "hoverlabel": {
           "align": "left"
          },
          "hovermode": "closest",
          "mapbox": {
           "style": "light"
          },
          "paper_bgcolor": "white",
          "plot_bgcolor": "#E5ECF6",
          "polar": {
           "angularaxis": {
            "gridcolor": "white",
            "linecolor": "white",
            "ticks": ""
           },
           "bgcolor": "#E5ECF6",
           "radialaxis": {
            "gridcolor": "white",
            "linecolor": "white",
            "ticks": ""
           }
          },
          "scene": {
           "xaxis": {
            "backgroundcolor": "#E5ECF6",
            "gridcolor": "white",
            "gridwidth": 2,
            "linecolor": "white",
            "showbackground": true,
            "ticks": "",
            "zerolinecolor": "white"
           },
           "yaxis": {
            "backgroundcolor": "#E5ECF6",
            "gridcolor": "white",
            "gridwidth": 2,
            "linecolor": "white",
            "showbackground": true,
            "ticks": "",
            "zerolinecolor": "white"
           },
           "zaxis": {
            "backgroundcolor": "#E5ECF6",
            "gridcolor": "white",
            "gridwidth": 2,
            "linecolor": "white",
            "showbackground": true,
            "ticks": "",
            "zerolinecolor": "white"
           }
          },
          "shapedefaults": {
           "line": {
            "color": "#2a3f5f"
           }
          },
          "ternary": {
           "aaxis": {
            "gridcolor": "white",
            "linecolor": "white",
            "ticks": ""
           },
           "baxis": {
            "gridcolor": "white",
            "linecolor": "white",
            "ticks": ""
           },
           "bgcolor": "#E5ECF6",
           "caxis": {
            "gridcolor": "white",
            "linecolor": "white",
            "ticks": ""
           }
          },
          "title": {
           "x": 0.05
          },
          "xaxis": {
           "automargin": true,
           "gridcolor": "white",
           "linecolor": "white",
           "ticks": "",
           "title": {
            "standoff": 15
           },
           "zerolinecolor": "white",
           "zerolinewidth": 2
          },
          "yaxis": {
           "automargin": true,
           "gridcolor": "white",
           "linecolor": "white",
           "ticks": "",
           "title": {
            "standoff": 15
           },
           "zerolinecolor": "white",
           "zerolinewidth": 2
          }
         }
        },
        "title": {
         "text": "Long-Form Input"
        },
        "xaxis": {
         "anchor": "y",
         "categoryarray": [
          "Chris Wood",
          "Yoane Wissa",
          "Dominic Solanke",
          "Gabriel Jesus",
          "Ollie Watkins",
          "Taiwo Awoniyi",
          "Cameron Archer",
          "Julián Álvarez",
          "Evan Ferguson",
          "Erling Haaland"
         ],
         "categoryorder": "array",
         "domain": [
          0,
          1
         ],
         "showticklabels": false,
         "title": {
          "text": "name"
         },
         "visible": false
        },
        "yaxis": {
         "anchor": "x",
         "domain": [
          0,
          1
         ],
         "title": {
          "text": "points"
         }
        }
       }
      },
      "text/html": [
       "<div>                            <div id=\"f0ea8527-d416-40cc-a390-d98fd42f4883\" class=\"plotly-graph-div\" style=\"height:525px; width:100%;\"></div>            <script type=\"text/javascript\">                require([\"plotly\"], function(Plotly) {                    window.PLOTLYENV=window.PLOTLYENV || {};                                    if (document.getElementById(\"f0ea8527-d416-40cc-a390-d98fd42f4883\")) {                    Plotly.newPlot(                        \"f0ea8527-d416-40cc-a390-d98fd42f4883\",                        [{\"alignmentgroup\":\"True\",\"hovertemplate\":\"name=%{text}<br>points=%{y}<extra></extra>\",\"legendgroup\":\"Chris Wood\",\"marker\":{\"color\":\"#636efa\",\"pattern\":{\"shape\":\"\"}},\"name\":\"Chris Wood\",\"offsetgroup\":\"Chris Wood\",\"orientation\":\"v\",\"showlegend\":true,\"text\":[\"Chris Wood\"],\"textposition\":\"auto\",\"x\":[\"Chris Wood\"],\"xaxis\":\"x\",\"y\":[3.3077762992735367],\"yaxis\":\"y\",\"type\":\"bar\"},{\"alignmentgroup\":\"True\",\"hovertemplate\":\"name=%{text}<br>points=%{y}<extra></extra>\",\"legendgroup\":\"Yoane Wissa\",\"marker\":{\"color\":\"#EF553B\",\"pattern\":{\"shape\":\"\"}},\"name\":\"Yoane Wissa\",\"offsetgroup\":\"Yoane Wissa\",\"orientation\":\"v\",\"showlegend\":true,\"text\":[\"Yoane Wissa\"],\"textposition\":\"auto\",\"x\":[\"Yoane Wissa\"],\"xaxis\":\"x\",\"y\":[3.680347676007263],\"yaxis\":\"y\",\"type\":\"bar\"},{\"alignmentgroup\":\"True\",\"hovertemplate\":\"name=%{text}<br>points=%{y}<extra></extra>\",\"legendgroup\":\"Dominic Solanke\",\"marker\":{\"color\":\"#00cc96\",\"pattern\":{\"shape\":\"\"}},\"name\":\"Dominic Solanke\",\"offsetgroup\":\"Dominic Solanke\",\"orientation\":\"v\",\"showlegend\":true,\"text\":[\"Dominic Solanke\"],\"textposition\":\"auto\",\"x\":[\"Dominic Solanke\"],\"xaxis\":\"x\",\"y\":[3.684371462538088],\"yaxis\":\"y\",\"type\":\"bar\"},{\"alignmentgroup\":\"True\",\"hovertemplate\":\"name=%{text}<br>points=%{y}<extra></extra>\",\"legendgroup\":\"Gabriel Jesus\",\"marker\":{\"color\":\"#ab63fa\",\"pattern\":{\"shape\":\"\"}},\"name\":\"Gabriel Jesus\",\"offsetgroup\":\"Gabriel Jesus\",\"orientation\":\"v\",\"showlegend\":true,\"text\":[\"Gabriel Jesus\"],\"textposition\":\"auto\",\"x\":[\"Gabriel Jesus\"],\"xaxis\":\"x\",\"y\":[3.750369349668954],\"yaxis\":\"y\",\"type\":\"bar\"},{\"alignmentgroup\":\"True\",\"hovertemplate\":\"name=%{text}<br>points=%{y}<extra></extra>\",\"legendgroup\":\"Ollie Watkins\",\"marker\":{\"color\":\"#FFA15A\",\"pattern\":{\"shape\":\"\"}},\"name\":\"Ollie Watkins\",\"offsetgroup\":\"Ollie Watkins\",\"orientation\":\"v\",\"showlegend\":true,\"text\":[\"Ollie Watkins\"],\"textposition\":\"auto\",\"x\":[\"Ollie Watkins\"],\"xaxis\":\"x\",\"y\":[3.760505674766753],\"yaxis\":\"y\",\"type\":\"bar\"},{\"alignmentgroup\":\"True\",\"hovertemplate\":\"name=%{text}<br>points=%{y}<extra></extra>\",\"legendgroup\":\"Taiwo Awoniyi\",\"marker\":{\"color\":\"#19d3f3\",\"pattern\":{\"shape\":\"\"}},\"name\":\"Taiwo Awoniyi\",\"offsetgroup\":\"Taiwo Awoniyi\",\"orientation\":\"v\",\"showlegend\":true,\"text\":[\"Taiwo Awoniyi\"],\"textposition\":\"auto\",\"x\":[\"Taiwo Awoniyi\"],\"xaxis\":\"x\",\"y\":[4.10510361378309],\"yaxis\":\"y\",\"type\":\"bar\"},{\"alignmentgroup\":\"True\",\"hovertemplate\":\"name=%{text}<br>points=%{y}<extra></extra>\",\"legendgroup\":\"Cameron Archer\",\"marker\":{\"color\":\"#FF6692\",\"pattern\":{\"shape\":\"\"}},\"name\":\"Cameron Archer\",\"offsetgroup\":\"Cameron Archer\",\"orientation\":\"v\",\"showlegend\":true,\"text\":[\"Cameron Archer\"],\"textposition\":\"auto\",\"x\":[\"Cameron Archer\"],\"xaxis\":\"x\",\"y\":[4.126238604442265],\"yaxis\":\"y\",\"type\":\"bar\"},{\"alignmentgroup\":\"True\",\"hovertemplate\":\"name=%{text}<br>points=%{y}<extra></extra>\",\"legendgroup\":\"Juli\\u00e1n \\u00c1lvarez\",\"marker\":{\"color\":\"#B6E880\",\"pattern\":{\"shape\":\"\"}},\"name\":\"Juli\\u00e1n \\u00c1lvarez\",\"offsetgroup\":\"Juli\\u00e1n \\u00c1lvarez\",\"orientation\":\"v\",\"showlegend\":true,\"text\":[\"Juli\\u00e1n \\u00c1lvarez\"],\"textposition\":\"auto\",\"x\":[\"Juli\\u00e1n \\u00c1lvarez\"],\"xaxis\":\"x\",\"y\":[4.547482123606225],\"yaxis\":\"y\",\"type\":\"bar\"},{\"alignmentgroup\":\"True\",\"hovertemplate\":\"name=%{text}<br>points=%{y}<extra></extra>\",\"legendgroup\":\"Evan Ferguson\",\"marker\":{\"color\":\"#FF97FF\",\"pattern\":{\"shape\":\"\"}},\"name\":\"Evan Ferguson\",\"offsetgroup\":\"Evan Ferguson\",\"orientation\":\"v\",\"showlegend\":true,\"text\":[\"Evan Ferguson\"],\"textposition\":\"auto\",\"x\":[\"Evan Ferguson\"],\"xaxis\":\"x\",\"y\":[4.772391906429631],\"yaxis\":\"y\",\"type\":\"bar\"},{\"alignmentgroup\":\"True\",\"hovertemplate\":\"name=%{text}<br>points=%{y}<extra></extra>\",\"legendgroup\":\"Erling Haaland\",\"marker\":{\"color\":\"#FECB52\",\"pattern\":{\"shape\":\"\"}},\"name\":\"Erling Haaland\",\"offsetgroup\":\"Erling Haaland\",\"orientation\":\"v\",\"showlegend\":true,\"text\":[\"Erling Haaland\"],\"textposition\":\"auto\",\"x\":[\"Erling Haaland\"],\"xaxis\":\"x\",\"y\":[6.220080331293293],\"yaxis\":\"y\",\"type\":\"bar\"}],                        {\"template\":{\"data\":{\"histogram2dcontour\":[{\"type\":\"histogram2dcontour\",\"colorbar\":{\"outlinewidth\":0,\"ticks\":\"\"},\"colorscale\":[[0.0,\"#0d0887\"],[0.1111111111111111,\"#46039f\"],[0.2222222222222222,\"#7201a8\"],[0.3333333333333333,\"#9c179e\"],[0.4444444444444444,\"#bd3786\"],[0.5555555555555556,\"#d8576b\"],[0.6666666666666666,\"#ed7953\"],[0.7777777777777778,\"#fb9f3a\"],[0.8888888888888888,\"#fdca26\"],[1.0,\"#f0f921\"]]}],\"choropleth\":[{\"type\":\"choropleth\",\"colorbar\":{\"outlinewidth\":0,\"ticks\":\"\"}}],\"histogram2d\":[{\"type\":\"histogram2d\",\"colorbar\":{\"outlinewidth\":0,\"ticks\":\"\"},\"colorscale\":[[0.0,\"#0d0887\"],[0.1111111111111111,\"#46039f\"],[0.2222222222222222,\"#7201a8\"],[0.3333333333333333,\"#9c179e\"],[0.4444444444444444,\"#bd3786\"],[0.5555555555555556,\"#d8576b\"],[0.6666666666666666,\"#ed7953\"],[0.7777777777777778,\"#fb9f3a\"],[0.8888888888888888,\"#fdca26\"],[1.0,\"#f0f921\"]]}],\"heatmap\":[{\"type\":\"heatmap\",\"colorbar\":{\"outlinewidth\":0,\"ticks\":\"\"},\"colorscale\":[[0.0,\"#0d0887\"],[0.1111111111111111,\"#46039f\"],[0.2222222222222222,\"#7201a8\"],[0.3333333333333333,\"#9c179e\"],[0.4444444444444444,\"#bd3786\"],[0.5555555555555556,\"#d8576b\"],[0.6666666666666666,\"#ed7953\"],[0.7777777777777778,\"#fb9f3a\"],[0.8888888888888888,\"#fdca26\"],[1.0,\"#f0f921\"]]}],\"heatmapgl\":[{\"type\":\"heatmapgl\",\"colorbar\":{\"outlinewidth\":0,\"ticks\":\"\"},\"colorscale\":[[0.0,\"#0d0887\"],[0.1111111111111111,\"#46039f\"],[0.2222222222222222,\"#7201a8\"],[0.3333333333333333,\"#9c179e\"],[0.4444444444444444,\"#bd3786\"],[0.5555555555555556,\"#d8576b\"],[0.6666666666666666,\"#ed7953\"],[0.7777777777777778,\"#fb9f3a\"],[0.8888888888888888,\"#fdca26\"],[1.0,\"#f0f921\"]]}],\"contourcarpet\":[{\"type\":\"contourcarpet\",\"colorbar\":{\"outlinewidth\":0,\"ticks\":\"\"}}],\"contour\":[{\"type\":\"contour\",\"colorbar\":{\"outlinewidth\":0,\"ticks\":\"\"},\"colorscale\":[[0.0,\"#0d0887\"],[0.1111111111111111,\"#46039f\"],[0.2222222222222222,\"#7201a8\"],[0.3333333333333333,\"#9c179e\"],[0.4444444444444444,\"#bd3786\"],[0.5555555555555556,\"#d8576b\"],[0.6666666666666666,\"#ed7953\"],[0.7777777777777778,\"#fb9f3a\"],[0.8888888888888888,\"#fdca26\"],[1.0,\"#f0f921\"]]}],\"surface\":[{\"type\":\"surface\",\"colorbar\":{\"outlinewidth\":0,\"ticks\":\"\"},\"colorscale\":[[0.0,\"#0d0887\"],[0.1111111111111111,\"#46039f\"],[0.2222222222222222,\"#7201a8\"],[0.3333333333333333,\"#9c179e\"],[0.4444444444444444,\"#bd3786\"],[0.5555555555555556,\"#d8576b\"],[0.6666666666666666,\"#ed7953\"],[0.7777777777777778,\"#fb9f3a\"],[0.8888888888888888,\"#fdca26\"],[1.0,\"#f0f921\"]]}],\"mesh3d\":[{\"type\":\"mesh3d\",\"colorbar\":{\"outlinewidth\":0,\"ticks\":\"\"}}],\"scatter\":[{\"fillpattern\":{\"fillmode\":\"overlay\",\"size\":10,\"solidity\":0.2},\"type\":\"scatter\"}],\"parcoords\":[{\"type\":\"parcoords\",\"line\":{\"colorbar\":{\"outlinewidth\":0,\"ticks\":\"\"}}}],\"scatterpolargl\":[{\"type\":\"scatterpolargl\",\"marker\":{\"colorbar\":{\"outlinewidth\":0,\"ticks\":\"\"}}}],\"bar\":[{\"error_x\":{\"color\":\"#2a3f5f\"},\"error_y\":{\"color\":\"#2a3f5f\"},\"marker\":{\"line\":{\"color\":\"#E5ECF6\",\"width\":0.5},\"pattern\":{\"fillmode\":\"overlay\",\"size\":10,\"solidity\":0.2}},\"type\":\"bar\"}],\"scattergeo\":[{\"type\":\"scattergeo\",\"marker\":{\"colorbar\":{\"outlinewidth\":0,\"ticks\":\"\"}}}],\"scatterpolar\":[{\"type\":\"scatterpolar\",\"marker\":{\"colorbar\":{\"outlinewidth\":0,\"ticks\":\"\"}}}],\"histogram\":[{\"marker\":{\"pattern\":{\"fillmode\":\"overlay\",\"size\":10,\"solidity\":0.2}},\"type\":\"histogram\"}],\"scattergl\":[{\"type\":\"scattergl\",\"marker\":{\"colorbar\":{\"outlinewidth\":0,\"ticks\":\"\"}}}],\"scatter3d\":[{\"type\":\"scatter3d\",\"line\":{\"colorbar\":{\"outlinewidth\":0,\"ticks\":\"\"}},\"marker\":{\"colorbar\":{\"outlinewidth\":0,\"ticks\":\"\"}}}],\"scattermapbox\":[{\"type\":\"scattermapbox\",\"marker\":{\"colorbar\":{\"outlinewidth\":0,\"ticks\":\"\"}}}],\"scatterternary\":[{\"type\":\"scatterternary\",\"marker\":{\"colorbar\":{\"outlinewidth\":0,\"ticks\":\"\"}}}],\"scattercarpet\":[{\"type\":\"scattercarpet\",\"marker\":{\"colorbar\":{\"outlinewidth\":0,\"ticks\":\"\"}}}],\"carpet\":[{\"aaxis\":{\"endlinecolor\":\"#2a3f5f\",\"gridcolor\":\"white\",\"linecolor\":\"white\",\"minorgridcolor\":\"white\",\"startlinecolor\":\"#2a3f5f\"},\"baxis\":{\"endlinecolor\":\"#2a3f5f\",\"gridcolor\":\"white\",\"linecolor\":\"white\",\"minorgridcolor\":\"white\",\"startlinecolor\":\"#2a3f5f\"},\"type\":\"carpet\"}],\"table\":[{\"cells\":{\"fill\":{\"color\":\"#EBF0F8\"},\"line\":{\"color\":\"white\"}},\"header\":{\"fill\":{\"color\":\"#C8D4E3\"},\"line\":{\"color\":\"white\"}},\"type\":\"table\"}],\"barpolar\":[{\"marker\":{\"line\":{\"color\":\"#E5ECF6\",\"width\":0.5},\"pattern\":{\"fillmode\":\"overlay\",\"size\":10,\"solidity\":0.2}},\"type\":\"barpolar\"}],\"pie\":[{\"automargin\":true,\"type\":\"pie\"}]},\"layout\":{\"autotypenumbers\":\"strict\",\"colorway\":[\"#636efa\",\"#EF553B\",\"#00cc96\",\"#ab63fa\",\"#FFA15A\",\"#19d3f3\",\"#FF6692\",\"#B6E880\",\"#FF97FF\",\"#FECB52\"],\"font\":{\"color\":\"#2a3f5f\"},\"hovermode\":\"closest\",\"hoverlabel\":{\"align\":\"left\"},\"paper_bgcolor\":\"white\",\"plot_bgcolor\":\"#E5ECF6\",\"polar\":{\"bgcolor\":\"#E5ECF6\",\"angularaxis\":{\"gridcolor\":\"white\",\"linecolor\":\"white\",\"ticks\":\"\"},\"radialaxis\":{\"gridcolor\":\"white\",\"linecolor\":\"white\",\"ticks\":\"\"}},\"ternary\":{\"bgcolor\":\"#E5ECF6\",\"aaxis\":{\"gridcolor\":\"white\",\"linecolor\":\"white\",\"ticks\":\"\"},\"baxis\":{\"gridcolor\":\"white\",\"linecolor\":\"white\",\"ticks\":\"\"},\"caxis\":{\"gridcolor\":\"white\",\"linecolor\":\"white\",\"ticks\":\"\"}},\"coloraxis\":{\"colorbar\":{\"outlinewidth\":0,\"ticks\":\"\"}},\"colorscale\":{\"sequential\":[[0.0,\"#0d0887\"],[0.1111111111111111,\"#46039f\"],[0.2222222222222222,\"#7201a8\"],[0.3333333333333333,\"#9c179e\"],[0.4444444444444444,\"#bd3786\"],[0.5555555555555556,\"#d8576b\"],[0.6666666666666666,\"#ed7953\"],[0.7777777777777778,\"#fb9f3a\"],[0.8888888888888888,\"#fdca26\"],[1.0,\"#f0f921\"]],\"sequentialminus\":[[0.0,\"#0d0887\"],[0.1111111111111111,\"#46039f\"],[0.2222222222222222,\"#7201a8\"],[0.3333333333333333,\"#9c179e\"],[0.4444444444444444,\"#bd3786\"],[0.5555555555555556,\"#d8576b\"],[0.6666666666666666,\"#ed7953\"],[0.7777777777777778,\"#fb9f3a\"],[0.8888888888888888,\"#fdca26\"],[1.0,\"#f0f921\"]],\"diverging\":[[0,\"#8e0152\"],[0.1,\"#c51b7d\"],[0.2,\"#de77ae\"],[0.3,\"#f1b6da\"],[0.4,\"#fde0ef\"],[0.5,\"#f7f7f7\"],[0.6,\"#e6f5d0\"],[0.7,\"#b8e186\"],[0.8,\"#7fbc41\"],[0.9,\"#4d9221\"],[1,\"#276419\"]]},\"xaxis\":{\"gridcolor\":\"white\",\"linecolor\":\"white\",\"ticks\":\"\",\"title\":{\"standoff\":15},\"zerolinecolor\":\"white\",\"automargin\":true,\"zerolinewidth\":2},\"yaxis\":{\"gridcolor\":\"white\",\"linecolor\":\"white\",\"ticks\":\"\",\"title\":{\"standoff\":15},\"zerolinecolor\":\"white\",\"automargin\":true,\"zerolinewidth\":2},\"scene\":{\"xaxis\":{\"backgroundcolor\":\"#E5ECF6\",\"gridcolor\":\"white\",\"linecolor\":\"white\",\"showbackground\":true,\"ticks\":\"\",\"zerolinecolor\":\"white\",\"gridwidth\":2},\"yaxis\":{\"backgroundcolor\":\"#E5ECF6\",\"gridcolor\":\"white\",\"linecolor\":\"white\",\"showbackground\":true,\"ticks\":\"\",\"zerolinecolor\":\"white\",\"gridwidth\":2},\"zaxis\":{\"backgroundcolor\":\"#E5ECF6\",\"gridcolor\":\"white\",\"linecolor\":\"white\",\"showbackground\":true,\"ticks\":\"\",\"zerolinecolor\":\"white\",\"gridwidth\":2}},\"shapedefaults\":{\"line\":{\"color\":\"#2a3f5f\"}},\"annotationdefaults\":{\"arrowcolor\":\"#2a3f5f\",\"arrowhead\":0,\"arrowwidth\":1},\"geo\":{\"bgcolor\":\"white\",\"landcolor\":\"#E5ECF6\",\"subunitcolor\":\"white\",\"showland\":true,\"showlakes\":true,\"lakecolor\":\"white\"},\"title\":{\"x\":0.05},\"mapbox\":{\"style\":\"light\"}}},\"xaxis\":{\"anchor\":\"y\",\"domain\":[0.0,1.0],\"title\":{\"text\":\"name\"},\"categoryorder\":\"array\",\"categoryarray\":[\"Chris Wood\",\"Yoane Wissa\",\"Dominic Solanke\",\"Gabriel Jesus\",\"Ollie Watkins\",\"Taiwo Awoniyi\",\"Cameron Archer\",\"Juli\\u00e1n \\u00c1lvarez\",\"Evan Ferguson\",\"Erling Haaland\"],\"visible\":false,\"showticklabels\":false},\"yaxis\":{\"anchor\":\"x\",\"domain\":[0.0,1.0],\"title\":{\"text\":\"points\"}},\"legend\":{\"title\":{\"text\":\"name\"},\"tracegroupgap\":0},\"title\":{\"text\":\"Long-Form Input\"},\"barmode\":\"relative\"},                        {\"responsive\": true}                    ).then(function(){\n",
       "                            \n",
       "var gd = document.getElementById('f0ea8527-d416-40cc-a390-d98fd42f4883');\n",
       "var x = new MutationObserver(function (mutations, observer) {{\n",
       "        var display = window.getComputedStyle(gd).display;\n",
       "        if (!display || display === 'none') {{\n",
       "            console.log([gd, 'removed!']);\n",
       "            Plotly.purge(gd);\n",
       "            observer.disconnect();\n",
       "        }}\n",
       "}});\n",
       "\n",
       "// Listen for the removal of the full notebook cells\n",
       "var notebookContainer = gd.closest('#notebook-container');\n",
       "if (notebookContainer) {{\n",
       "    x.observe(notebookContainer, {childList: true});\n",
       "}}\n",
       "\n",
       "// Listen for the clearing of the current output cell\n",
       "var outputEl = gd.closest('.output');\n",
       "if (outputEl) {{\n",
       "    x.observe(outputEl, {childList: true});\n",
       "}}\n",
       "\n",
       "                        })                };                });            </script>        </div>"
      ]
     },
     "metadata": {},
     "output_type": "display_data"
    }
   ],
   "source": [
    "fig = px.bar(predicted_fwds.head(no_plotted_players).sort_values(\"points\", ascending=True), x=\"name\", y=\"points\",color=\"name\" ,text=\"name\", title=\"Long-Form Input\")\n",
    "fig.update_xaxes(visible=False, showticklabels=False)\n",
    "fig.show()\n",
    "fig.write_image(\"plots/forwards.png\")"
   ]
  },
  {
   "cell_type": "code",
   "execution_count": 127,
   "id": "f718c32e",
   "metadata": {},
   "outputs": [
    {
     "data": {
      "application/vnd.plotly.v1+json": {
       "config": {
        "plotlyServerURL": "https://plot.ly"
       },
       "data": [
        {
         "alignmentgroup": "True",
         "hovertemplate": "name=%{text}<br>points=%{y}<extra></extra>",
         "legendgroup": "Diogo Teixeira da Silva",
         "marker": {
          "color": "#636efa",
          "pattern": {
           "shape": ""
          }
         },
         "name": "Diogo Teixeira da Silva",
         "offsetgroup": "Diogo Teixeira da Silva",
         "orientation": "v",
         "showlegend": true,
         "text": [
          "Diogo Teixeira da Silva"
         ],
         "textposition": "auto",
         "type": "bar",
         "x": [
          "Diogo Teixeira da Silva"
         ],
         "xaxis": "x",
         "y": [
          4.845522736511922
         ],
         "yaxis": "y"
        },
        {
         "alignmentgroup": "True",
         "hovertemplate": "name=%{text}<br>points=%{y}<extra></extra>",
         "legendgroup": "James Ward-Prowse",
         "marker": {
          "color": "#EF553B",
          "pattern": {
           "shape": ""
          }
         },
         "name": "James Ward-Prowse",
         "offsetgroup": "James Ward-Prowse",
         "orientation": "v",
         "showlegend": true,
         "text": [
          "James Ward-Prowse"
         ],
         "textposition": "auto",
         "type": "bar",
         "x": [
          "James Ward-Prowse"
         ],
         "xaxis": "x",
         "y": [
          4.898063418516026
         ],
         "yaxis": "y"
        },
        {
         "alignmentgroup": "True",
         "hovertemplate": "name=%{text}<br>points=%{y}<extra></extra>",
         "legendgroup": "Gabriel Martinelli Silva",
         "marker": {
          "color": "#00cc96",
          "pattern": {
           "shape": ""
          }
         },
         "name": "Gabriel Martinelli Silva",
         "offsetgroup": "Gabriel Martinelli Silva",
         "orientation": "v",
         "showlegend": true,
         "text": [
          "Gabriel Martinelli Silva"
         ],
         "textposition": "auto",
         "type": "bar",
         "x": [
          "Gabriel Martinelli Silva"
         ],
         "xaxis": "x",
         "y": [
          4.980721615762386
         ],
         "yaxis": "y"
        },
        {
         "alignmentgroup": "True",
         "hovertemplate": "name=%{text}<br>points=%{y}<extra></extra>",
         "legendgroup": "Son Heung-min",
         "marker": {
          "color": "#ab63fa",
          "pattern": {
           "shape": ""
          }
         },
         "name": "Son Heung-min",
         "offsetgroup": "Son Heung-min",
         "orientation": "v",
         "showlegend": true,
         "text": [
          "Son Heung-min"
         ],
         "textposition": "auto",
         "type": "bar",
         "x": [
          "Son Heung-min"
         ],
         "xaxis": "x",
         "y": [
          5.04433335048338
         ],
         "yaxis": "y"
        },
        {
         "alignmentgroup": "True",
         "hovertemplate": "name=%{text}<br>points=%{y}<extra></extra>",
         "legendgroup": "Bukayo Saka",
         "marker": {
          "color": "#FFA15A",
          "pattern": {
           "shape": ""
          }
         },
         "name": "Bukayo Saka",
         "offsetgroup": "Bukayo Saka",
         "orientation": "v",
         "showlegend": true,
         "text": [
          "Bukayo Saka"
         ],
         "textposition": "auto",
         "type": "bar",
         "x": [
          "Bukayo Saka"
         ],
         "xaxis": "x",
         "y": [
          5.114537938458787
         ],
         "yaxis": "y"
        },
        {
         "alignmentgroup": "True",
         "hovertemplate": "name=%{text}<br>points=%{y}<extra></extra>",
         "legendgroup": "Marcus Rashford",
         "marker": {
          "color": "#19d3f3",
          "pattern": {
           "shape": ""
          }
         },
         "name": "Marcus Rashford",
         "offsetgroup": "Marcus Rashford",
         "orientation": "v",
         "showlegend": true,
         "text": [
          "Marcus Rashford"
         ],
         "textposition": "auto",
         "type": "bar",
         "x": [
          "Marcus Rashford"
         ],
         "xaxis": "x",
         "y": [
          5.357579104695027
         ],
         "yaxis": "y"
        },
        {
         "alignmentgroup": "True",
         "hovertemplate": "name=%{text}<br>points=%{y}<extra></extra>",
         "legendgroup": "Martin Ødegaard",
         "marker": {
          "color": "#FF6692",
          "pattern": {
           "shape": ""
          }
         },
         "name": "Martin Ødegaard",
         "offsetgroup": "Martin Ødegaard",
         "orientation": "v",
         "showlegend": true,
         "text": [
          "Martin Ødegaard"
         ],
         "textposition": "auto",
         "type": "bar",
         "x": [
          "Martin Ødegaard"
         ],
         "xaxis": "x",
         "y": [
          5.547645273802695
         ],
         "yaxis": "y"
        },
        {
         "alignmentgroup": "True",
         "hovertemplate": "name=%{text}<br>points=%{y}<extra></extra>",
         "legendgroup": "Bryan Mbeumo",
         "marker": {
          "color": "#B6E880",
          "pattern": {
           "shape": ""
          }
         },
         "name": "Bryan Mbeumo",
         "offsetgroup": "Bryan Mbeumo",
         "orientation": "v",
         "showlegend": true,
         "text": [
          "Bryan Mbeumo"
         ],
         "textposition": "auto",
         "type": "bar",
         "x": [
          "Bryan Mbeumo"
         ],
         "xaxis": "x",
         "y": [
          6.123380056987473
         ],
         "yaxis": "y"
        },
        {
         "alignmentgroup": "True",
         "hovertemplate": "name=%{text}<br>points=%{y}<extra></extra>",
         "legendgroup": "Solly March",
         "marker": {
          "color": "#FF97FF",
          "pattern": {
           "shape": ""
          }
         },
         "name": "Solly March",
         "offsetgroup": "Solly March",
         "orientation": "v",
         "showlegend": true,
         "text": [
          "Solly March"
         ],
         "textposition": "auto",
         "type": "bar",
         "x": [
          "Solly March"
         ],
         "xaxis": "x",
         "y": [
          6.152238752603792
         ],
         "yaxis": "y"
        },
        {
         "alignmentgroup": "True",
         "hovertemplate": "name=%{text}<br>points=%{y}<extra></extra>",
         "legendgroup": "Mohamed Salah",
         "marker": {
          "color": "#FECB52",
          "pattern": {
           "shape": ""
          }
         },
         "name": "Mohamed Salah",
         "offsetgroup": "Mohamed Salah",
         "orientation": "v",
         "showlegend": true,
         "text": [
          "Mohamed Salah"
         ],
         "textposition": "auto",
         "type": "bar",
         "x": [
          "Mohamed Salah"
         ],
         "xaxis": "x",
         "y": [
          7.021811593498347
         ],
         "yaxis": "y"
        }
       ],
       "layout": {
        "barmode": "relative",
        "legend": {
         "title": {
          "text": "name"
         },
         "tracegroupgap": 0
        },
        "template": {
         "data": {
          "bar": [
           {
            "error_x": {
             "color": "#2a3f5f"
            },
            "error_y": {
             "color": "#2a3f5f"
            },
            "marker": {
             "line": {
              "color": "#E5ECF6",
              "width": 0.5
             },
             "pattern": {
              "fillmode": "overlay",
              "size": 10,
              "solidity": 0.2
             }
            },
            "type": "bar"
           }
          ],
          "barpolar": [
           {
            "marker": {
             "line": {
              "color": "#E5ECF6",
              "width": 0.5
             },
             "pattern": {
              "fillmode": "overlay",
              "size": 10,
              "solidity": 0.2
             }
            },
            "type": "barpolar"
           }
          ],
          "carpet": [
           {
            "aaxis": {
             "endlinecolor": "#2a3f5f",
             "gridcolor": "white",
             "linecolor": "white",
             "minorgridcolor": "white",
             "startlinecolor": "#2a3f5f"
            },
            "baxis": {
             "endlinecolor": "#2a3f5f",
             "gridcolor": "white",
             "linecolor": "white",
             "minorgridcolor": "white",
             "startlinecolor": "#2a3f5f"
            },
            "type": "carpet"
           }
          ],
          "choropleth": [
           {
            "colorbar": {
             "outlinewidth": 0,
             "ticks": ""
            },
            "type": "choropleth"
           }
          ],
          "contour": [
           {
            "colorbar": {
             "outlinewidth": 0,
             "ticks": ""
            },
            "colorscale": [
             [
              0,
              "#0d0887"
             ],
             [
              0.1111111111111111,
              "#46039f"
             ],
             [
              0.2222222222222222,
              "#7201a8"
             ],
             [
              0.3333333333333333,
              "#9c179e"
             ],
             [
              0.4444444444444444,
              "#bd3786"
             ],
             [
              0.5555555555555556,
              "#d8576b"
             ],
             [
              0.6666666666666666,
              "#ed7953"
             ],
             [
              0.7777777777777778,
              "#fb9f3a"
             ],
             [
              0.8888888888888888,
              "#fdca26"
             ],
             [
              1,
              "#f0f921"
             ]
            ],
            "type": "contour"
           }
          ],
          "contourcarpet": [
           {
            "colorbar": {
             "outlinewidth": 0,
             "ticks": ""
            },
            "type": "contourcarpet"
           }
          ],
          "heatmap": [
           {
            "colorbar": {
             "outlinewidth": 0,
             "ticks": ""
            },
            "colorscale": [
             [
              0,
              "#0d0887"
             ],
             [
              0.1111111111111111,
              "#46039f"
             ],
             [
              0.2222222222222222,
              "#7201a8"
             ],
             [
              0.3333333333333333,
              "#9c179e"
             ],
             [
              0.4444444444444444,
              "#bd3786"
             ],
             [
              0.5555555555555556,
              "#d8576b"
             ],
             [
              0.6666666666666666,
              "#ed7953"
             ],
             [
              0.7777777777777778,
              "#fb9f3a"
             ],
             [
              0.8888888888888888,
              "#fdca26"
             ],
             [
              1,
              "#f0f921"
             ]
            ],
            "type": "heatmap"
           }
          ],
          "heatmapgl": [
           {
            "colorbar": {
             "outlinewidth": 0,
             "ticks": ""
            },
            "colorscale": [
             [
              0,
              "#0d0887"
             ],
             [
              0.1111111111111111,
              "#46039f"
             ],
             [
              0.2222222222222222,
              "#7201a8"
             ],
             [
              0.3333333333333333,
              "#9c179e"
             ],
             [
              0.4444444444444444,
              "#bd3786"
             ],
             [
              0.5555555555555556,
              "#d8576b"
             ],
             [
              0.6666666666666666,
              "#ed7953"
             ],
             [
              0.7777777777777778,
              "#fb9f3a"
             ],
             [
              0.8888888888888888,
              "#fdca26"
             ],
             [
              1,
              "#f0f921"
             ]
            ],
            "type": "heatmapgl"
           }
          ],
          "histogram": [
           {
            "marker": {
             "pattern": {
              "fillmode": "overlay",
              "size": 10,
              "solidity": 0.2
             }
            },
            "type": "histogram"
           }
          ],
          "histogram2d": [
           {
            "colorbar": {
             "outlinewidth": 0,
             "ticks": ""
            },
            "colorscale": [
             [
              0,
              "#0d0887"
             ],
             [
              0.1111111111111111,
              "#46039f"
             ],
             [
              0.2222222222222222,
              "#7201a8"
             ],
             [
              0.3333333333333333,
              "#9c179e"
             ],
             [
              0.4444444444444444,
              "#bd3786"
             ],
             [
              0.5555555555555556,
              "#d8576b"
             ],
             [
              0.6666666666666666,
              "#ed7953"
             ],
             [
              0.7777777777777778,
              "#fb9f3a"
             ],
             [
              0.8888888888888888,
              "#fdca26"
             ],
             [
              1,
              "#f0f921"
             ]
            ],
            "type": "histogram2d"
           }
          ],
          "histogram2dcontour": [
           {
            "colorbar": {
             "outlinewidth": 0,
             "ticks": ""
            },
            "colorscale": [
             [
              0,
              "#0d0887"
             ],
             [
              0.1111111111111111,
              "#46039f"
             ],
             [
              0.2222222222222222,
              "#7201a8"
             ],
             [
              0.3333333333333333,
              "#9c179e"
             ],
             [
              0.4444444444444444,
              "#bd3786"
             ],
             [
              0.5555555555555556,
              "#d8576b"
             ],
             [
              0.6666666666666666,
              "#ed7953"
             ],
             [
              0.7777777777777778,
              "#fb9f3a"
             ],
             [
              0.8888888888888888,
              "#fdca26"
             ],
             [
              1,
              "#f0f921"
             ]
            ],
            "type": "histogram2dcontour"
           }
          ],
          "mesh3d": [
           {
            "colorbar": {
             "outlinewidth": 0,
             "ticks": ""
            },
            "type": "mesh3d"
           }
          ],
          "parcoords": [
           {
            "line": {
             "colorbar": {
              "outlinewidth": 0,
              "ticks": ""
             }
            },
            "type": "parcoords"
           }
          ],
          "pie": [
           {
            "automargin": true,
            "type": "pie"
           }
          ],
          "scatter": [
           {
            "fillpattern": {
             "fillmode": "overlay",
             "size": 10,
             "solidity": 0.2
            },
            "type": "scatter"
           }
          ],
          "scatter3d": [
           {
            "line": {
             "colorbar": {
              "outlinewidth": 0,
              "ticks": ""
             }
            },
            "marker": {
             "colorbar": {
              "outlinewidth": 0,
              "ticks": ""
             }
            },
            "type": "scatter3d"
           }
          ],
          "scattercarpet": [
           {
            "marker": {
             "colorbar": {
              "outlinewidth": 0,
              "ticks": ""
             }
            },
            "type": "scattercarpet"
           }
          ],
          "scattergeo": [
           {
            "marker": {
             "colorbar": {
              "outlinewidth": 0,
              "ticks": ""
             }
            },
            "type": "scattergeo"
           }
          ],
          "scattergl": [
           {
            "marker": {
             "colorbar": {
              "outlinewidth": 0,
              "ticks": ""
             }
            },
            "type": "scattergl"
           }
          ],
          "scattermapbox": [
           {
            "marker": {
             "colorbar": {
              "outlinewidth": 0,
              "ticks": ""
             }
            },
            "type": "scattermapbox"
           }
          ],
          "scatterpolar": [
           {
            "marker": {
             "colorbar": {
              "outlinewidth": 0,
              "ticks": ""
             }
            },
            "type": "scatterpolar"
           }
          ],
          "scatterpolargl": [
           {
            "marker": {
             "colorbar": {
              "outlinewidth": 0,
              "ticks": ""
             }
            },
            "type": "scatterpolargl"
           }
          ],
          "scatterternary": [
           {
            "marker": {
             "colorbar": {
              "outlinewidth": 0,
              "ticks": ""
             }
            },
            "type": "scatterternary"
           }
          ],
          "surface": [
           {
            "colorbar": {
             "outlinewidth": 0,
             "ticks": ""
            },
            "colorscale": [
             [
              0,
              "#0d0887"
             ],
             [
              0.1111111111111111,
              "#46039f"
             ],
             [
              0.2222222222222222,
              "#7201a8"
             ],
             [
              0.3333333333333333,
              "#9c179e"
             ],
             [
              0.4444444444444444,
              "#bd3786"
             ],
             [
              0.5555555555555556,
              "#d8576b"
             ],
             [
              0.6666666666666666,
              "#ed7953"
             ],
             [
              0.7777777777777778,
              "#fb9f3a"
             ],
             [
              0.8888888888888888,
              "#fdca26"
             ],
             [
              1,
              "#f0f921"
             ]
            ],
            "type": "surface"
           }
          ],
          "table": [
           {
            "cells": {
             "fill": {
              "color": "#EBF0F8"
             },
             "line": {
              "color": "white"
             }
            },
            "header": {
             "fill": {
              "color": "#C8D4E3"
             },
             "line": {
              "color": "white"
             }
            },
            "type": "table"
           }
          ]
         },
         "layout": {
          "annotationdefaults": {
           "arrowcolor": "#2a3f5f",
           "arrowhead": 0,
           "arrowwidth": 1
          },
          "autotypenumbers": "strict",
          "coloraxis": {
           "colorbar": {
            "outlinewidth": 0,
            "ticks": ""
           }
          },
          "colorscale": {
           "diverging": [
            [
             0,
             "#8e0152"
            ],
            [
             0.1,
             "#c51b7d"
            ],
            [
             0.2,
             "#de77ae"
            ],
            [
             0.3,
             "#f1b6da"
            ],
            [
             0.4,
             "#fde0ef"
            ],
            [
             0.5,
             "#f7f7f7"
            ],
            [
             0.6,
             "#e6f5d0"
            ],
            [
             0.7,
             "#b8e186"
            ],
            [
             0.8,
             "#7fbc41"
            ],
            [
             0.9,
             "#4d9221"
            ],
            [
             1,
             "#276419"
            ]
           ],
           "sequential": [
            [
             0,
             "#0d0887"
            ],
            [
             0.1111111111111111,
             "#46039f"
            ],
            [
             0.2222222222222222,
             "#7201a8"
            ],
            [
             0.3333333333333333,
             "#9c179e"
            ],
            [
             0.4444444444444444,
             "#bd3786"
            ],
            [
             0.5555555555555556,
             "#d8576b"
            ],
            [
             0.6666666666666666,
             "#ed7953"
            ],
            [
             0.7777777777777778,
             "#fb9f3a"
            ],
            [
             0.8888888888888888,
             "#fdca26"
            ],
            [
             1,
             "#f0f921"
            ]
           ],
           "sequentialminus": [
            [
             0,
             "#0d0887"
            ],
            [
             0.1111111111111111,
             "#46039f"
            ],
            [
             0.2222222222222222,
             "#7201a8"
            ],
            [
             0.3333333333333333,
             "#9c179e"
            ],
            [
             0.4444444444444444,
             "#bd3786"
            ],
            [
             0.5555555555555556,
             "#d8576b"
            ],
            [
             0.6666666666666666,
             "#ed7953"
            ],
            [
             0.7777777777777778,
             "#fb9f3a"
            ],
            [
             0.8888888888888888,
             "#fdca26"
            ],
            [
             1,
             "#f0f921"
            ]
           ]
          },
          "colorway": [
           "#636efa",
           "#EF553B",
           "#00cc96",
           "#ab63fa",
           "#FFA15A",
           "#19d3f3",
           "#FF6692",
           "#B6E880",
           "#FF97FF",
           "#FECB52"
          ],
          "font": {
           "color": "#2a3f5f"
          },
          "geo": {
           "bgcolor": "white",
           "lakecolor": "white",
           "landcolor": "#E5ECF6",
           "showlakes": true,
           "showland": true,
           "subunitcolor": "white"
          },
          "hoverlabel": {
           "align": "left"
          },
          "hovermode": "closest",
          "mapbox": {
           "style": "light"
          },
          "paper_bgcolor": "white",
          "plot_bgcolor": "#E5ECF6",
          "polar": {
           "angularaxis": {
            "gridcolor": "white",
            "linecolor": "white",
            "ticks": ""
           },
           "bgcolor": "#E5ECF6",
           "radialaxis": {
            "gridcolor": "white",
            "linecolor": "white",
            "ticks": ""
           }
          },
          "scene": {
           "xaxis": {
            "backgroundcolor": "#E5ECF6",
            "gridcolor": "white",
            "gridwidth": 2,
            "linecolor": "white",
            "showbackground": true,
            "ticks": "",
            "zerolinecolor": "white"
           },
           "yaxis": {
            "backgroundcolor": "#E5ECF6",
            "gridcolor": "white",
            "gridwidth": 2,
            "linecolor": "white",
            "showbackground": true,
            "ticks": "",
            "zerolinecolor": "white"
           },
           "zaxis": {
            "backgroundcolor": "#E5ECF6",
            "gridcolor": "white",
            "gridwidth": 2,
            "linecolor": "white",
            "showbackground": true,
            "ticks": "",
            "zerolinecolor": "white"
           }
          },
          "shapedefaults": {
           "line": {
            "color": "#2a3f5f"
           }
          },
          "ternary": {
           "aaxis": {
            "gridcolor": "white",
            "linecolor": "white",
            "ticks": ""
           },
           "baxis": {
            "gridcolor": "white",
            "linecolor": "white",
            "ticks": ""
           },
           "bgcolor": "#E5ECF6",
           "caxis": {
            "gridcolor": "white",
            "linecolor": "white",
            "ticks": ""
           }
          },
          "title": {
           "x": 0.05
          },
          "xaxis": {
           "automargin": true,
           "gridcolor": "white",
           "linecolor": "white",
           "ticks": "",
           "title": {
            "standoff": 15
           },
           "zerolinecolor": "white",
           "zerolinewidth": 2
          },
          "yaxis": {
           "automargin": true,
           "gridcolor": "white",
           "linecolor": "white",
           "ticks": "",
           "title": {
            "standoff": 15
           },
           "zerolinecolor": "white",
           "zerolinewidth": 2
          }
         }
        },
        "title": {
         "text": "Long-Form Input"
        },
        "xaxis": {
         "anchor": "y",
         "categoryarray": [
          "Diogo Teixeira da Silva",
          "James Ward-Prowse",
          "Gabriel Martinelli Silva",
          "Son Heung-min",
          "Bukayo Saka",
          "Marcus Rashford",
          "Martin Ødegaard",
          "Bryan Mbeumo",
          "Solly March",
          "Mohamed Salah"
         ],
         "categoryorder": "array",
         "domain": [
          0,
          1
         ],
         "showticklabels": false,
         "title": {
          "text": "name"
         },
         "visible": false
        },
        "yaxis": {
         "anchor": "x",
         "domain": [
          0,
          1
         ],
         "title": {
          "text": "points"
         }
        }
       }
      },
      "text/html": [
       "<div>                            <div id=\"a46152f1-8695-4be8-87e5-511ce182517d\" class=\"plotly-graph-div\" style=\"height:525px; width:100%;\"></div>            <script type=\"text/javascript\">                require([\"plotly\"], function(Plotly) {                    window.PLOTLYENV=window.PLOTLYENV || {};                                    if (document.getElementById(\"a46152f1-8695-4be8-87e5-511ce182517d\")) {                    Plotly.newPlot(                        \"a46152f1-8695-4be8-87e5-511ce182517d\",                        [{\"alignmentgroup\":\"True\",\"hovertemplate\":\"name=%{text}<br>points=%{y}<extra></extra>\",\"legendgroup\":\"Diogo Teixeira da Silva\",\"marker\":{\"color\":\"#636efa\",\"pattern\":{\"shape\":\"\"}},\"name\":\"Diogo Teixeira da Silva\",\"offsetgroup\":\"Diogo Teixeira da Silva\",\"orientation\":\"v\",\"showlegend\":true,\"text\":[\"Diogo Teixeira da Silva\"],\"textposition\":\"auto\",\"x\":[\"Diogo Teixeira da Silva\"],\"xaxis\":\"x\",\"y\":[4.845522736511922],\"yaxis\":\"y\",\"type\":\"bar\"},{\"alignmentgroup\":\"True\",\"hovertemplate\":\"name=%{text}<br>points=%{y}<extra></extra>\",\"legendgroup\":\"James Ward-Prowse\",\"marker\":{\"color\":\"#EF553B\",\"pattern\":{\"shape\":\"\"}},\"name\":\"James Ward-Prowse\",\"offsetgroup\":\"James Ward-Prowse\",\"orientation\":\"v\",\"showlegend\":true,\"text\":[\"James Ward-Prowse\"],\"textposition\":\"auto\",\"x\":[\"James Ward-Prowse\"],\"xaxis\":\"x\",\"y\":[4.898063418516026],\"yaxis\":\"y\",\"type\":\"bar\"},{\"alignmentgroup\":\"True\",\"hovertemplate\":\"name=%{text}<br>points=%{y}<extra></extra>\",\"legendgroup\":\"Gabriel Martinelli Silva\",\"marker\":{\"color\":\"#00cc96\",\"pattern\":{\"shape\":\"\"}},\"name\":\"Gabriel Martinelli Silva\",\"offsetgroup\":\"Gabriel Martinelli Silva\",\"orientation\":\"v\",\"showlegend\":true,\"text\":[\"Gabriel Martinelli Silva\"],\"textposition\":\"auto\",\"x\":[\"Gabriel Martinelli Silva\"],\"xaxis\":\"x\",\"y\":[4.980721615762386],\"yaxis\":\"y\",\"type\":\"bar\"},{\"alignmentgroup\":\"True\",\"hovertemplate\":\"name=%{text}<br>points=%{y}<extra></extra>\",\"legendgroup\":\"Son Heung-min\",\"marker\":{\"color\":\"#ab63fa\",\"pattern\":{\"shape\":\"\"}},\"name\":\"Son Heung-min\",\"offsetgroup\":\"Son Heung-min\",\"orientation\":\"v\",\"showlegend\":true,\"text\":[\"Son Heung-min\"],\"textposition\":\"auto\",\"x\":[\"Son Heung-min\"],\"xaxis\":\"x\",\"y\":[5.04433335048338],\"yaxis\":\"y\",\"type\":\"bar\"},{\"alignmentgroup\":\"True\",\"hovertemplate\":\"name=%{text}<br>points=%{y}<extra></extra>\",\"legendgroup\":\"Bukayo Saka\",\"marker\":{\"color\":\"#FFA15A\",\"pattern\":{\"shape\":\"\"}},\"name\":\"Bukayo Saka\",\"offsetgroup\":\"Bukayo Saka\",\"orientation\":\"v\",\"showlegend\":true,\"text\":[\"Bukayo Saka\"],\"textposition\":\"auto\",\"x\":[\"Bukayo Saka\"],\"xaxis\":\"x\",\"y\":[5.114537938458787],\"yaxis\":\"y\",\"type\":\"bar\"},{\"alignmentgroup\":\"True\",\"hovertemplate\":\"name=%{text}<br>points=%{y}<extra></extra>\",\"legendgroup\":\"Marcus Rashford\",\"marker\":{\"color\":\"#19d3f3\",\"pattern\":{\"shape\":\"\"}},\"name\":\"Marcus Rashford\",\"offsetgroup\":\"Marcus Rashford\",\"orientation\":\"v\",\"showlegend\":true,\"text\":[\"Marcus Rashford\"],\"textposition\":\"auto\",\"x\":[\"Marcus Rashford\"],\"xaxis\":\"x\",\"y\":[5.357579104695027],\"yaxis\":\"y\",\"type\":\"bar\"},{\"alignmentgroup\":\"True\",\"hovertemplate\":\"name=%{text}<br>points=%{y}<extra></extra>\",\"legendgroup\":\"Martin \\u00d8degaard\",\"marker\":{\"color\":\"#FF6692\",\"pattern\":{\"shape\":\"\"}},\"name\":\"Martin \\u00d8degaard\",\"offsetgroup\":\"Martin \\u00d8degaard\",\"orientation\":\"v\",\"showlegend\":true,\"text\":[\"Martin \\u00d8degaard\"],\"textposition\":\"auto\",\"x\":[\"Martin \\u00d8degaard\"],\"xaxis\":\"x\",\"y\":[5.547645273802695],\"yaxis\":\"y\",\"type\":\"bar\"},{\"alignmentgroup\":\"True\",\"hovertemplate\":\"name=%{text}<br>points=%{y}<extra></extra>\",\"legendgroup\":\"Bryan Mbeumo\",\"marker\":{\"color\":\"#B6E880\",\"pattern\":{\"shape\":\"\"}},\"name\":\"Bryan Mbeumo\",\"offsetgroup\":\"Bryan Mbeumo\",\"orientation\":\"v\",\"showlegend\":true,\"text\":[\"Bryan Mbeumo\"],\"textposition\":\"auto\",\"x\":[\"Bryan Mbeumo\"],\"xaxis\":\"x\",\"y\":[6.123380056987473],\"yaxis\":\"y\",\"type\":\"bar\"},{\"alignmentgroup\":\"True\",\"hovertemplate\":\"name=%{text}<br>points=%{y}<extra></extra>\",\"legendgroup\":\"Solly March\",\"marker\":{\"color\":\"#FF97FF\",\"pattern\":{\"shape\":\"\"}},\"name\":\"Solly March\",\"offsetgroup\":\"Solly March\",\"orientation\":\"v\",\"showlegend\":true,\"text\":[\"Solly March\"],\"textposition\":\"auto\",\"x\":[\"Solly March\"],\"xaxis\":\"x\",\"y\":[6.152238752603792],\"yaxis\":\"y\",\"type\":\"bar\"},{\"alignmentgroup\":\"True\",\"hovertemplate\":\"name=%{text}<br>points=%{y}<extra></extra>\",\"legendgroup\":\"Mohamed Salah\",\"marker\":{\"color\":\"#FECB52\",\"pattern\":{\"shape\":\"\"}},\"name\":\"Mohamed Salah\",\"offsetgroup\":\"Mohamed Salah\",\"orientation\":\"v\",\"showlegend\":true,\"text\":[\"Mohamed Salah\"],\"textposition\":\"auto\",\"x\":[\"Mohamed Salah\"],\"xaxis\":\"x\",\"y\":[7.021811593498347],\"yaxis\":\"y\",\"type\":\"bar\"}],                        {\"template\":{\"data\":{\"histogram2dcontour\":[{\"type\":\"histogram2dcontour\",\"colorbar\":{\"outlinewidth\":0,\"ticks\":\"\"},\"colorscale\":[[0.0,\"#0d0887\"],[0.1111111111111111,\"#46039f\"],[0.2222222222222222,\"#7201a8\"],[0.3333333333333333,\"#9c179e\"],[0.4444444444444444,\"#bd3786\"],[0.5555555555555556,\"#d8576b\"],[0.6666666666666666,\"#ed7953\"],[0.7777777777777778,\"#fb9f3a\"],[0.8888888888888888,\"#fdca26\"],[1.0,\"#f0f921\"]]}],\"choropleth\":[{\"type\":\"choropleth\",\"colorbar\":{\"outlinewidth\":0,\"ticks\":\"\"}}],\"histogram2d\":[{\"type\":\"histogram2d\",\"colorbar\":{\"outlinewidth\":0,\"ticks\":\"\"},\"colorscale\":[[0.0,\"#0d0887\"],[0.1111111111111111,\"#46039f\"],[0.2222222222222222,\"#7201a8\"],[0.3333333333333333,\"#9c179e\"],[0.4444444444444444,\"#bd3786\"],[0.5555555555555556,\"#d8576b\"],[0.6666666666666666,\"#ed7953\"],[0.7777777777777778,\"#fb9f3a\"],[0.8888888888888888,\"#fdca26\"],[1.0,\"#f0f921\"]]}],\"heatmap\":[{\"type\":\"heatmap\",\"colorbar\":{\"outlinewidth\":0,\"ticks\":\"\"},\"colorscale\":[[0.0,\"#0d0887\"],[0.1111111111111111,\"#46039f\"],[0.2222222222222222,\"#7201a8\"],[0.3333333333333333,\"#9c179e\"],[0.4444444444444444,\"#bd3786\"],[0.5555555555555556,\"#d8576b\"],[0.6666666666666666,\"#ed7953\"],[0.7777777777777778,\"#fb9f3a\"],[0.8888888888888888,\"#fdca26\"],[1.0,\"#f0f921\"]]}],\"heatmapgl\":[{\"type\":\"heatmapgl\",\"colorbar\":{\"outlinewidth\":0,\"ticks\":\"\"},\"colorscale\":[[0.0,\"#0d0887\"],[0.1111111111111111,\"#46039f\"],[0.2222222222222222,\"#7201a8\"],[0.3333333333333333,\"#9c179e\"],[0.4444444444444444,\"#bd3786\"],[0.5555555555555556,\"#d8576b\"],[0.6666666666666666,\"#ed7953\"],[0.7777777777777778,\"#fb9f3a\"],[0.8888888888888888,\"#fdca26\"],[1.0,\"#f0f921\"]]}],\"contourcarpet\":[{\"type\":\"contourcarpet\",\"colorbar\":{\"outlinewidth\":0,\"ticks\":\"\"}}],\"contour\":[{\"type\":\"contour\",\"colorbar\":{\"outlinewidth\":0,\"ticks\":\"\"},\"colorscale\":[[0.0,\"#0d0887\"],[0.1111111111111111,\"#46039f\"],[0.2222222222222222,\"#7201a8\"],[0.3333333333333333,\"#9c179e\"],[0.4444444444444444,\"#bd3786\"],[0.5555555555555556,\"#d8576b\"],[0.6666666666666666,\"#ed7953\"],[0.7777777777777778,\"#fb9f3a\"],[0.8888888888888888,\"#fdca26\"],[1.0,\"#f0f921\"]]}],\"surface\":[{\"type\":\"surface\",\"colorbar\":{\"outlinewidth\":0,\"ticks\":\"\"},\"colorscale\":[[0.0,\"#0d0887\"],[0.1111111111111111,\"#46039f\"],[0.2222222222222222,\"#7201a8\"],[0.3333333333333333,\"#9c179e\"],[0.4444444444444444,\"#bd3786\"],[0.5555555555555556,\"#d8576b\"],[0.6666666666666666,\"#ed7953\"],[0.7777777777777778,\"#fb9f3a\"],[0.8888888888888888,\"#fdca26\"],[1.0,\"#f0f921\"]]}],\"mesh3d\":[{\"type\":\"mesh3d\",\"colorbar\":{\"outlinewidth\":0,\"ticks\":\"\"}}],\"scatter\":[{\"fillpattern\":{\"fillmode\":\"overlay\",\"size\":10,\"solidity\":0.2},\"type\":\"scatter\"}],\"parcoords\":[{\"type\":\"parcoords\",\"line\":{\"colorbar\":{\"outlinewidth\":0,\"ticks\":\"\"}}}],\"scatterpolargl\":[{\"type\":\"scatterpolargl\",\"marker\":{\"colorbar\":{\"outlinewidth\":0,\"ticks\":\"\"}}}],\"bar\":[{\"error_x\":{\"color\":\"#2a3f5f\"},\"error_y\":{\"color\":\"#2a3f5f\"},\"marker\":{\"line\":{\"color\":\"#E5ECF6\",\"width\":0.5},\"pattern\":{\"fillmode\":\"overlay\",\"size\":10,\"solidity\":0.2}},\"type\":\"bar\"}],\"scattergeo\":[{\"type\":\"scattergeo\",\"marker\":{\"colorbar\":{\"outlinewidth\":0,\"ticks\":\"\"}}}],\"scatterpolar\":[{\"type\":\"scatterpolar\",\"marker\":{\"colorbar\":{\"outlinewidth\":0,\"ticks\":\"\"}}}],\"histogram\":[{\"marker\":{\"pattern\":{\"fillmode\":\"overlay\",\"size\":10,\"solidity\":0.2}},\"type\":\"histogram\"}],\"scattergl\":[{\"type\":\"scattergl\",\"marker\":{\"colorbar\":{\"outlinewidth\":0,\"ticks\":\"\"}}}],\"scatter3d\":[{\"type\":\"scatter3d\",\"line\":{\"colorbar\":{\"outlinewidth\":0,\"ticks\":\"\"}},\"marker\":{\"colorbar\":{\"outlinewidth\":0,\"ticks\":\"\"}}}],\"scattermapbox\":[{\"type\":\"scattermapbox\",\"marker\":{\"colorbar\":{\"outlinewidth\":0,\"ticks\":\"\"}}}],\"scatterternary\":[{\"type\":\"scatterternary\",\"marker\":{\"colorbar\":{\"outlinewidth\":0,\"ticks\":\"\"}}}],\"scattercarpet\":[{\"type\":\"scattercarpet\",\"marker\":{\"colorbar\":{\"outlinewidth\":0,\"ticks\":\"\"}}}],\"carpet\":[{\"aaxis\":{\"endlinecolor\":\"#2a3f5f\",\"gridcolor\":\"white\",\"linecolor\":\"white\",\"minorgridcolor\":\"white\",\"startlinecolor\":\"#2a3f5f\"},\"baxis\":{\"endlinecolor\":\"#2a3f5f\",\"gridcolor\":\"white\",\"linecolor\":\"white\",\"minorgridcolor\":\"white\",\"startlinecolor\":\"#2a3f5f\"},\"type\":\"carpet\"}],\"table\":[{\"cells\":{\"fill\":{\"color\":\"#EBF0F8\"},\"line\":{\"color\":\"white\"}},\"header\":{\"fill\":{\"color\":\"#C8D4E3\"},\"line\":{\"color\":\"white\"}},\"type\":\"table\"}],\"barpolar\":[{\"marker\":{\"line\":{\"color\":\"#E5ECF6\",\"width\":0.5},\"pattern\":{\"fillmode\":\"overlay\",\"size\":10,\"solidity\":0.2}},\"type\":\"barpolar\"}],\"pie\":[{\"automargin\":true,\"type\":\"pie\"}]},\"layout\":{\"autotypenumbers\":\"strict\",\"colorway\":[\"#636efa\",\"#EF553B\",\"#00cc96\",\"#ab63fa\",\"#FFA15A\",\"#19d3f3\",\"#FF6692\",\"#B6E880\",\"#FF97FF\",\"#FECB52\"],\"font\":{\"color\":\"#2a3f5f\"},\"hovermode\":\"closest\",\"hoverlabel\":{\"align\":\"left\"},\"paper_bgcolor\":\"white\",\"plot_bgcolor\":\"#E5ECF6\",\"polar\":{\"bgcolor\":\"#E5ECF6\",\"angularaxis\":{\"gridcolor\":\"white\",\"linecolor\":\"white\",\"ticks\":\"\"},\"radialaxis\":{\"gridcolor\":\"white\",\"linecolor\":\"white\",\"ticks\":\"\"}},\"ternary\":{\"bgcolor\":\"#E5ECF6\",\"aaxis\":{\"gridcolor\":\"white\",\"linecolor\":\"white\",\"ticks\":\"\"},\"baxis\":{\"gridcolor\":\"white\",\"linecolor\":\"white\",\"ticks\":\"\"},\"caxis\":{\"gridcolor\":\"white\",\"linecolor\":\"white\",\"ticks\":\"\"}},\"coloraxis\":{\"colorbar\":{\"outlinewidth\":0,\"ticks\":\"\"}},\"colorscale\":{\"sequential\":[[0.0,\"#0d0887\"],[0.1111111111111111,\"#46039f\"],[0.2222222222222222,\"#7201a8\"],[0.3333333333333333,\"#9c179e\"],[0.4444444444444444,\"#bd3786\"],[0.5555555555555556,\"#d8576b\"],[0.6666666666666666,\"#ed7953\"],[0.7777777777777778,\"#fb9f3a\"],[0.8888888888888888,\"#fdca26\"],[1.0,\"#f0f921\"]],\"sequentialminus\":[[0.0,\"#0d0887\"],[0.1111111111111111,\"#46039f\"],[0.2222222222222222,\"#7201a8\"],[0.3333333333333333,\"#9c179e\"],[0.4444444444444444,\"#bd3786\"],[0.5555555555555556,\"#d8576b\"],[0.6666666666666666,\"#ed7953\"],[0.7777777777777778,\"#fb9f3a\"],[0.8888888888888888,\"#fdca26\"],[1.0,\"#f0f921\"]],\"diverging\":[[0,\"#8e0152\"],[0.1,\"#c51b7d\"],[0.2,\"#de77ae\"],[0.3,\"#f1b6da\"],[0.4,\"#fde0ef\"],[0.5,\"#f7f7f7\"],[0.6,\"#e6f5d0\"],[0.7,\"#b8e186\"],[0.8,\"#7fbc41\"],[0.9,\"#4d9221\"],[1,\"#276419\"]]},\"xaxis\":{\"gridcolor\":\"white\",\"linecolor\":\"white\",\"ticks\":\"\",\"title\":{\"standoff\":15},\"zerolinecolor\":\"white\",\"automargin\":true,\"zerolinewidth\":2},\"yaxis\":{\"gridcolor\":\"white\",\"linecolor\":\"white\",\"ticks\":\"\",\"title\":{\"standoff\":15},\"zerolinecolor\":\"white\",\"automargin\":true,\"zerolinewidth\":2},\"scene\":{\"xaxis\":{\"backgroundcolor\":\"#E5ECF6\",\"gridcolor\":\"white\",\"linecolor\":\"white\",\"showbackground\":true,\"ticks\":\"\",\"zerolinecolor\":\"white\",\"gridwidth\":2},\"yaxis\":{\"backgroundcolor\":\"#E5ECF6\",\"gridcolor\":\"white\",\"linecolor\":\"white\",\"showbackground\":true,\"ticks\":\"\",\"zerolinecolor\":\"white\",\"gridwidth\":2},\"zaxis\":{\"backgroundcolor\":\"#E5ECF6\",\"gridcolor\":\"white\",\"linecolor\":\"white\",\"showbackground\":true,\"ticks\":\"\",\"zerolinecolor\":\"white\",\"gridwidth\":2}},\"shapedefaults\":{\"line\":{\"color\":\"#2a3f5f\"}},\"annotationdefaults\":{\"arrowcolor\":\"#2a3f5f\",\"arrowhead\":0,\"arrowwidth\":1},\"geo\":{\"bgcolor\":\"white\",\"landcolor\":\"#E5ECF6\",\"subunitcolor\":\"white\",\"showland\":true,\"showlakes\":true,\"lakecolor\":\"white\"},\"title\":{\"x\":0.05},\"mapbox\":{\"style\":\"light\"}}},\"xaxis\":{\"anchor\":\"y\",\"domain\":[0.0,1.0],\"title\":{\"text\":\"name\"},\"categoryorder\":\"array\",\"categoryarray\":[\"Diogo Teixeira da Silva\",\"James Ward-Prowse\",\"Gabriel Martinelli Silva\",\"Son Heung-min\",\"Bukayo Saka\",\"Marcus Rashford\",\"Martin \\u00d8degaard\",\"Bryan Mbeumo\",\"Solly March\",\"Mohamed Salah\"],\"visible\":false,\"showticklabels\":false},\"yaxis\":{\"anchor\":\"x\",\"domain\":[0.0,1.0],\"title\":{\"text\":\"points\"}},\"legend\":{\"title\":{\"text\":\"name\"},\"tracegroupgap\":0},\"title\":{\"text\":\"Long-Form Input\"},\"barmode\":\"relative\"},                        {\"responsive\": true}                    ).then(function(){\n",
       "                            \n",
       "var gd = document.getElementById('a46152f1-8695-4be8-87e5-511ce182517d');\n",
       "var x = new MutationObserver(function (mutations, observer) {{\n",
       "        var display = window.getComputedStyle(gd).display;\n",
       "        if (!display || display === 'none') {{\n",
       "            console.log([gd, 'removed!']);\n",
       "            Plotly.purge(gd);\n",
       "            observer.disconnect();\n",
       "        }}\n",
       "}});\n",
       "\n",
       "// Listen for the removal of the full notebook cells\n",
       "var notebookContainer = gd.closest('#notebook-container');\n",
       "if (notebookContainer) {{\n",
       "    x.observe(notebookContainer, {childList: true});\n",
       "}}\n",
       "\n",
       "// Listen for the clearing of the current output cell\n",
       "var outputEl = gd.closest('.output');\n",
       "if (outputEl) {{\n",
       "    x.observe(outputEl, {childList: true});\n",
       "}}\n",
       "\n",
       "                        })                };                });            </script>        </div>"
      ]
     },
     "metadata": {},
     "output_type": "display_data"
    }
   ],
   "source": [
    "fig = px.bar(predicted_mids.head(no_plotted_players).sort_values(\"points\", ascending=True), x=\"name\", y=\"points\",color=\"name\" ,text=\"name\", title=\"Long-Form Input\")\n",
    "fig.update_xaxes(visible=False, showticklabels=False)\n",
    "fig.show()\n",
    "fig.write_image(\"plots/mids.png\")"
   ]
  },
  {
   "cell_type": "code",
   "execution_count": 122,
   "id": "643ae0cf",
   "metadata": {},
   "outputs": [
    {
     "data": {
      "application/vnd.plotly.v1+json": {
       "config": {
        "plotlyServerURL": "https://plot.ly"
       },
       "data": [
        {
         "alignmentgroup": "True",
         "hovertemplate": "name=%{text}<br>points=%{y}<extra></extra>",
         "legendgroup": "Rúben Gato Alves Dias",
         "marker": {
          "color": "#636efa",
          "pattern": {
           "shape": ""
          }
         },
         "name": "Rúben Gato Alves Dias",
         "offsetgroup": "Rúben Gato Alves Dias",
         "orientation": "v",
         "showlegend": true,
         "text": [
          "Rúben Gato Alves Dias"
         ],
         "textposition": "auto",
         "type": "bar",
         "x": [
          "Rúben Gato Alves Dias"
         ],
         "xaxis": "x",
         "y": [
          4.131868592637368
         ],
         "yaxis": "y"
        },
        {
         "alignmentgroup": "True",
         "hovertemplate": "name=%{text}<br>points=%{y}<extra></extra>",
         "legendgroup": "Kyle Walker",
         "marker": {
          "color": "#EF553B",
          "pattern": {
           "shape": ""
          }
         },
         "name": "Kyle Walker",
         "offsetgroup": "Kyle Walker",
         "orientation": "v",
         "showlegend": true,
         "text": [
          "Kyle Walker"
         ],
         "textposition": "auto",
         "type": "bar",
         "x": [
          "Kyle Walker"
         ],
         "xaxis": "x",
         "y": [
          4.180817402780045
         ],
         "yaxis": "y"
        },
        {
         "alignmentgroup": "True",
         "hovertemplate": "name=%{text}<br>points=%{y}<extra></extra>",
         "legendgroup": "Ben Chilwell",
         "marker": {
          "color": "#00cc96",
          "pattern": {
           "shape": ""
          }
         },
         "name": "Ben Chilwell",
         "offsetgroup": "Ben Chilwell",
         "orientation": "v",
         "showlegend": true,
         "text": [
          "Ben Chilwell"
         ],
         "textposition": "auto",
         "type": "bar",
         "x": [
          "Ben Chilwell"
         ],
         "xaxis": "x",
         "y": [
          4.216494831007915
         ],
         "yaxis": "y"
        },
        {
         "alignmentgroup": "True",
         "hovertemplate": "name=%{text}<br>points=%{y}<extra></extra>",
         "legendgroup": "Serge Aurier",
         "marker": {
          "color": "#ab63fa",
          "pattern": {
           "shape": ""
          }
         },
         "name": "Serge Aurier",
         "offsetgroup": "Serge Aurier",
         "orientation": "v",
         "showlegend": true,
         "text": [
          "Serge Aurier"
         ],
         "textposition": "auto",
         "type": "bar",
         "x": [
          "Serge Aurier"
         ],
         "xaxis": "x",
         "y": [
          4.281312197618497
         ],
         "yaxis": "y"
        },
        {
         "alignmentgroup": "True",
         "hovertemplate": "name=%{text}<br>points=%{y}<extra></extra>",
         "legendgroup": "Cristian Romero",
         "marker": {
          "color": "#FFA15A",
          "pattern": {
           "shape": ""
          }
         },
         "name": "Cristian Romero",
         "offsetgroup": "Cristian Romero",
         "orientation": "v",
         "showlegend": true,
         "text": [
          "Cristian Romero"
         ],
         "textposition": "auto",
         "type": "bar",
         "x": [
          "Cristian Romero"
         ],
         "xaxis": "x",
         "y": [
          4.380434643855283
         ],
         "yaxis": "y"
        },
        {
         "alignmentgroup": "True",
         "hovertemplate": "name=%{text}<br>points=%{y}<extra></extra>",
         "legendgroup": "James Tarkowski",
         "marker": {
          "color": "#19d3f3",
          "pattern": {
           "shape": ""
          }
         },
         "name": "James Tarkowski",
         "offsetgroup": "James Tarkowski",
         "orientation": "v",
         "showlegend": true,
         "text": [
          "James Tarkowski"
         ],
         "textposition": "auto",
         "type": "bar",
         "x": [
          "James Tarkowski"
         ],
         "xaxis": "x",
         "y": [
          4.578567794177311
         ],
         "yaxis": "y"
        },
        {
         "alignmentgroup": "True",
         "hovertemplate": "name=%{text}<br>points=%{y}<extra></extra>",
         "legendgroup": "Gabriel dos Santos Magalhães",
         "marker": {
          "color": "#FF6692",
          "pattern": {
           "shape": ""
          }
         },
         "name": "Gabriel dos Santos Magalhães",
         "offsetgroup": "Gabriel dos Santos Magalhães",
         "orientation": "v",
         "showlegend": true,
         "text": [
          "Gabriel dos Santos Magalhães"
         ],
         "textposition": "auto",
         "type": "bar",
         "x": [
          "Gabriel dos Santos Magalhães"
         ],
         "xaxis": "x",
         "y": [
          4.585147766200482
         ],
         "yaxis": "y"
        },
        {
         "alignmentgroup": "True",
         "hovertemplate": "name=%{text}<br>points=%{y}<extra></extra>",
         "legendgroup": "Andrew Robertson",
         "marker": {
          "color": "#B6E880",
          "pattern": {
           "shape": ""
          }
         },
         "name": "Andrew Robertson",
         "offsetgroup": "Andrew Robertson",
         "orientation": "v",
         "showlegend": true,
         "text": [
          "Andrew Robertson"
         ],
         "textposition": "auto",
         "type": "bar",
         "x": [
          "Andrew Robertson"
         ],
         "xaxis": "x",
         "y": [
          4.734156114751576
         ],
         "yaxis": "y"
        },
        {
         "alignmentgroup": "True",
         "hovertemplate": "name=%{text}<br>points=%{y}<extra></extra>",
         "legendgroup": "Kieran Trippier",
         "marker": {
          "color": "#FF97FF",
          "pattern": {
           "shape": ""
          }
         },
         "name": "Kieran Trippier",
         "offsetgroup": "Kieran Trippier",
         "orientation": "v",
         "showlegend": true,
         "text": [
          "Kieran Trippier"
         ],
         "textposition": "auto",
         "type": "bar",
         "x": [
          "Kieran Trippier"
         ],
         "xaxis": "x",
         "y": [
          5.170406174536353
         ],
         "yaxis": "y"
        },
        {
         "alignmentgroup": "True",
         "hovertemplate": "name=%{text}<br>points=%{y}<extra></extra>",
         "legendgroup": "Trent Alexander-Arnold",
         "marker": {
          "color": "#FECB52",
          "pattern": {
           "shape": ""
          }
         },
         "name": "Trent Alexander-Arnold",
         "offsetgroup": "Trent Alexander-Arnold",
         "orientation": "v",
         "showlegend": true,
         "text": [
          "Trent Alexander-Arnold"
         ],
         "textposition": "auto",
         "type": "bar",
         "x": [
          "Trent Alexander-Arnold"
         ],
         "xaxis": "x",
         "y": [
          6.65970173774385
         ],
         "yaxis": "y"
        }
       ],
       "layout": {
        "barmode": "relative",
        "legend": {
         "title": {
          "text": "name"
         },
         "tracegroupgap": 0
        },
        "template": {
         "data": {
          "bar": [
           {
            "error_x": {
             "color": "#2a3f5f"
            },
            "error_y": {
             "color": "#2a3f5f"
            },
            "marker": {
             "line": {
              "color": "#E5ECF6",
              "width": 0.5
             },
             "pattern": {
              "fillmode": "overlay",
              "size": 10,
              "solidity": 0.2
             }
            },
            "type": "bar"
           }
          ],
          "barpolar": [
           {
            "marker": {
             "line": {
              "color": "#E5ECF6",
              "width": 0.5
             },
             "pattern": {
              "fillmode": "overlay",
              "size": 10,
              "solidity": 0.2
             }
            },
            "type": "barpolar"
           }
          ],
          "carpet": [
           {
            "aaxis": {
             "endlinecolor": "#2a3f5f",
             "gridcolor": "white",
             "linecolor": "white",
             "minorgridcolor": "white",
             "startlinecolor": "#2a3f5f"
            },
            "baxis": {
             "endlinecolor": "#2a3f5f",
             "gridcolor": "white",
             "linecolor": "white",
             "minorgridcolor": "white",
             "startlinecolor": "#2a3f5f"
            },
            "type": "carpet"
           }
          ],
          "choropleth": [
           {
            "colorbar": {
             "outlinewidth": 0,
             "ticks": ""
            },
            "type": "choropleth"
           }
          ],
          "contour": [
           {
            "colorbar": {
             "outlinewidth": 0,
             "ticks": ""
            },
            "colorscale": [
             [
              0,
              "#0d0887"
             ],
             [
              0.1111111111111111,
              "#46039f"
             ],
             [
              0.2222222222222222,
              "#7201a8"
             ],
             [
              0.3333333333333333,
              "#9c179e"
             ],
             [
              0.4444444444444444,
              "#bd3786"
             ],
             [
              0.5555555555555556,
              "#d8576b"
             ],
             [
              0.6666666666666666,
              "#ed7953"
             ],
             [
              0.7777777777777778,
              "#fb9f3a"
             ],
             [
              0.8888888888888888,
              "#fdca26"
             ],
             [
              1,
              "#f0f921"
             ]
            ],
            "type": "contour"
           }
          ],
          "contourcarpet": [
           {
            "colorbar": {
             "outlinewidth": 0,
             "ticks": ""
            },
            "type": "contourcarpet"
           }
          ],
          "heatmap": [
           {
            "colorbar": {
             "outlinewidth": 0,
             "ticks": ""
            },
            "colorscale": [
             [
              0,
              "#0d0887"
             ],
             [
              0.1111111111111111,
              "#46039f"
             ],
             [
              0.2222222222222222,
              "#7201a8"
             ],
             [
              0.3333333333333333,
              "#9c179e"
             ],
             [
              0.4444444444444444,
              "#bd3786"
             ],
             [
              0.5555555555555556,
              "#d8576b"
             ],
             [
              0.6666666666666666,
              "#ed7953"
             ],
             [
              0.7777777777777778,
              "#fb9f3a"
             ],
             [
              0.8888888888888888,
              "#fdca26"
             ],
             [
              1,
              "#f0f921"
             ]
            ],
            "type": "heatmap"
           }
          ],
          "heatmapgl": [
           {
            "colorbar": {
             "outlinewidth": 0,
             "ticks": ""
            },
            "colorscale": [
             [
              0,
              "#0d0887"
             ],
             [
              0.1111111111111111,
              "#46039f"
             ],
             [
              0.2222222222222222,
              "#7201a8"
             ],
             [
              0.3333333333333333,
              "#9c179e"
             ],
             [
              0.4444444444444444,
              "#bd3786"
             ],
             [
              0.5555555555555556,
              "#d8576b"
             ],
             [
              0.6666666666666666,
              "#ed7953"
             ],
             [
              0.7777777777777778,
              "#fb9f3a"
             ],
             [
              0.8888888888888888,
              "#fdca26"
             ],
             [
              1,
              "#f0f921"
             ]
            ],
            "type": "heatmapgl"
           }
          ],
          "histogram": [
           {
            "marker": {
             "pattern": {
              "fillmode": "overlay",
              "size": 10,
              "solidity": 0.2
             }
            },
            "type": "histogram"
           }
          ],
          "histogram2d": [
           {
            "colorbar": {
             "outlinewidth": 0,
             "ticks": ""
            },
            "colorscale": [
             [
              0,
              "#0d0887"
             ],
             [
              0.1111111111111111,
              "#46039f"
             ],
             [
              0.2222222222222222,
              "#7201a8"
             ],
             [
              0.3333333333333333,
              "#9c179e"
             ],
             [
              0.4444444444444444,
              "#bd3786"
             ],
             [
              0.5555555555555556,
              "#d8576b"
             ],
             [
              0.6666666666666666,
              "#ed7953"
             ],
             [
              0.7777777777777778,
              "#fb9f3a"
             ],
             [
              0.8888888888888888,
              "#fdca26"
             ],
             [
              1,
              "#f0f921"
             ]
            ],
            "type": "histogram2d"
           }
          ],
          "histogram2dcontour": [
           {
            "colorbar": {
             "outlinewidth": 0,
             "ticks": ""
            },
            "colorscale": [
             [
              0,
              "#0d0887"
             ],
             [
              0.1111111111111111,
              "#46039f"
             ],
             [
              0.2222222222222222,
              "#7201a8"
             ],
             [
              0.3333333333333333,
              "#9c179e"
             ],
             [
              0.4444444444444444,
              "#bd3786"
             ],
             [
              0.5555555555555556,
              "#d8576b"
             ],
             [
              0.6666666666666666,
              "#ed7953"
             ],
             [
              0.7777777777777778,
              "#fb9f3a"
             ],
             [
              0.8888888888888888,
              "#fdca26"
             ],
             [
              1,
              "#f0f921"
             ]
            ],
            "type": "histogram2dcontour"
           }
          ],
          "mesh3d": [
           {
            "colorbar": {
             "outlinewidth": 0,
             "ticks": ""
            },
            "type": "mesh3d"
           }
          ],
          "parcoords": [
           {
            "line": {
             "colorbar": {
              "outlinewidth": 0,
              "ticks": ""
             }
            },
            "type": "parcoords"
           }
          ],
          "pie": [
           {
            "automargin": true,
            "type": "pie"
           }
          ],
          "scatter": [
           {
            "fillpattern": {
             "fillmode": "overlay",
             "size": 10,
             "solidity": 0.2
            },
            "type": "scatter"
           }
          ],
          "scatter3d": [
           {
            "line": {
             "colorbar": {
              "outlinewidth": 0,
              "ticks": ""
             }
            },
            "marker": {
             "colorbar": {
              "outlinewidth": 0,
              "ticks": ""
             }
            },
            "type": "scatter3d"
           }
          ],
          "scattercarpet": [
           {
            "marker": {
             "colorbar": {
              "outlinewidth": 0,
              "ticks": ""
             }
            },
            "type": "scattercarpet"
           }
          ],
          "scattergeo": [
           {
            "marker": {
             "colorbar": {
              "outlinewidth": 0,
              "ticks": ""
             }
            },
            "type": "scattergeo"
           }
          ],
          "scattergl": [
           {
            "marker": {
             "colorbar": {
              "outlinewidth": 0,
              "ticks": ""
             }
            },
            "type": "scattergl"
           }
          ],
          "scattermapbox": [
           {
            "marker": {
             "colorbar": {
              "outlinewidth": 0,
              "ticks": ""
             }
            },
            "type": "scattermapbox"
           }
          ],
          "scatterpolar": [
           {
            "marker": {
             "colorbar": {
              "outlinewidth": 0,
              "ticks": ""
             }
            },
            "type": "scatterpolar"
           }
          ],
          "scatterpolargl": [
           {
            "marker": {
             "colorbar": {
              "outlinewidth": 0,
              "ticks": ""
             }
            },
            "type": "scatterpolargl"
           }
          ],
          "scatterternary": [
           {
            "marker": {
             "colorbar": {
              "outlinewidth": 0,
              "ticks": ""
             }
            },
            "type": "scatterternary"
           }
          ],
          "surface": [
           {
            "colorbar": {
             "outlinewidth": 0,
             "ticks": ""
            },
            "colorscale": [
             [
              0,
              "#0d0887"
             ],
             [
              0.1111111111111111,
              "#46039f"
             ],
             [
              0.2222222222222222,
              "#7201a8"
             ],
             [
              0.3333333333333333,
              "#9c179e"
             ],
             [
              0.4444444444444444,
              "#bd3786"
             ],
             [
              0.5555555555555556,
              "#d8576b"
             ],
             [
              0.6666666666666666,
              "#ed7953"
             ],
             [
              0.7777777777777778,
              "#fb9f3a"
             ],
             [
              0.8888888888888888,
              "#fdca26"
             ],
             [
              1,
              "#f0f921"
             ]
            ],
            "type": "surface"
           }
          ],
          "table": [
           {
            "cells": {
             "fill": {
              "color": "#EBF0F8"
             },
             "line": {
              "color": "white"
             }
            },
            "header": {
             "fill": {
              "color": "#C8D4E3"
             },
             "line": {
              "color": "white"
             }
            },
            "type": "table"
           }
          ]
         },
         "layout": {
          "annotationdefaults": {
           "arrowcolor": "#2a3f5f",
           "arrowhead": 0,
           "arrowwidth": 1
          },
          "autotypenumbers": "strict",
          "coloraxis": {
           "colorbar": {
            "outlinewidth": 0,
            "ticks": ""
           }
          },
          "colorscale": {
           "diverging": [
            [
             0,
             "#8e0152"
            ],
            [
             0.1,
             "#c51b7d"
            ],
            [
             0.2,
             "#de77ae"
            ],
            [
             0.3,
             "#f1b6da"
            ],
            [
             0.4,
             "#fde0ef"
            ],
            [
             0.5,
             "#f7f7f7"
            ],
            [
             0.6,
             "#e6f5d0"
            ],
            [
             0.7,
             "#b8e186"
            ],
            [
             0.8,
             "#7fbc41"
            ],
            [
             0.9,
             "#4d9221"
            ],
            [
             1,
             "#276419"
            ]
           ],
           "sequential": [
            [
             0,
             "#0d0887"
            ],
            [
             0.1111111111111111,
             "#46039f"
            ],
            [
             0.2222222222222222,
             "#7201a8"
            ],
            [
             0.3333333333333333,
             "#9c179e"
            ],
            [
             0.4444444444444444,
             "#bd3786"
            ],
            [
             0.5555555555555556,
             "#d8576b"
            ],
            [
             0.6666666666666666,
             "#ed7953"
            ],
            [
             0.7777777777777778,
             "#fb9f3a"
            ],
            [
             0.8888888888888888,
             "#fdca26"
            ],
            [
             1,
             "#f0f921"
            ]
           ],
           "sequentialminus": [
            [
             0,
             "#0d0887"
            ],
            [
             0.1111111111111111,
             "#46039f"
            ],
            [
             0.2222222222222222,
             "#7201a8"
            ],
            [
             0.3333333333333333,
             "#9c179e"
            ],
            [
             0.4444444444444444,
             "#bd3786"
            ],
            [
             0.5555555555555556,
             "#d8576b"
            ],
            [
             0.6666666666666666,
             "#ed7953"
            ],
            [
             0.7777777777777778,
             "#fb9f3a"
            ],
            [
             0.8888888888888888,
             "#fdca26"
            ],
            [
             1,
             "#f0f921"
            ]
           ]
          },
          "colorway": [
           "#636efa",
           "#EF553B",
           "#00cc96",
           "#ab63fa",
           "#FFA15A",
           "#19d3f3",
           "#FF6692",
           "#B6E880",
           "#FF97FF",
           "#FECB52"
          ],
          "font": {
           "color": "#2a3f5f"
          },
          "geo": {
           "bgcolor": "white",
           "lakecolor": "white",
           "landcolor": "#E5ECF6",
           "showlakes": true,
           "showland": true,
           "subunitcolor": "white"
          },
          "hoverlabel": {
           "align": "left"
          },
          "hovermode": "closest",
          "mapbox": {
           "style": "light"
          },
          "paper_bgcolor": "white",
          "plot_bgcolor": "#E5ECF6",
          "polar": {
           "angularaxis": {
            "gridcolor": "white",
            "linecolor": "white",
            "ticks": ""
           },
           "bgcolor": "#E5ECF6",
           "radialaxis": {
            "gridcolor": "white",
            "linecolor": "white",
            "ticks": ""
           }
          },
          "scene": {
           "xaxis": {
            "backgroundcolor": "#E5ECF6",
            "gridcolor": "white",
            "gridwidth": 2,
            "linecolor": "white",
            "showbackground": true,
            "ticks": "",
            "zerolinecolor": "white"
           },
           "yaxis": {
            "backgroundcolor": "#E5ECF6",
            "gridcolor": "white",
            "gridwidth": 2,
            "linecolor": "white",
            "showbackground": true,
            "ticks": "",
            "zerolinecolor": "white"
           },
           "zaxis": {
            "backgroundcolor": "#E5ECF6",
            "gridcolor": "white",
            "gridwidth": 2,
            "linecolor": "white",
            "showbackground": true,
            "ticks": "",
            "zerolinecolor": "white"
           }
          },
          "shapedefaults": {
           "line": {
            "color": "#2a3f5f"
           }
          },
          "ternary": {
           "aaxis": {
            "gridcolor": "white",
            "linecolor": "white",
            "ticks": ""
           },
           "baxis": {
            "gridcolor": "white",
            "linecolor": "white",
            "ticks": ""
           },
           "bgcolor": "#E5ECF6",
           "caxis": {
            "gridcolor": "white",
            "linecolor": "white",
            "ticks": ""
           }
          },
          "title": {
           "x": 0.05
          },
          "xaxis": {
           "automargin": true,
           "gridcolor": "white",
           "linecolor": "white",
           "ticks": "",
           "title": {
            "standoff": 15
           },
           "zerolinecolor": "white",
           "zerolinewidth": 2
          },
          "yaxis": {
           "automargin": true,
           "gridcolor": "white",
           "linecolor": "white",
           "ticks": "",
           "title": {
            "standoff": 15
           },
           "zerolinecolor": "white",
           "zerolinewidth": 2
          }
         }
        },
        "title": {
         "text": "Long-Form Input"
        },
        "xaxis": {
         "anchor": "y",
         "categoryarray": [
          "Rúben Gato Alves Dias",
          "Kyle Walker",
          "Ben Chilwell",
          "Serge Aurier",
          "Cristian Romero",
          "James Tarkowski",
          "Gabriel dos Santos Magalhães",
          "Andrew Robertson",
          "Kieran Trippier",
          "Trent Alexander-Arnold"
         ],
         "categoryorder": "array",
         "domain": [
          0,
          1
         ],
         "showticklabels": false,
         "title": {
          "text": "name"
         },
         "visible": false
        },
        "yaxis": {
         "anchor": "x",
         "domain": [
          0,
          1
         ],
         "title": {
          "text": "points"
         }
        }
       }
      },
      "text/html": [
       "<div>                            <div id=\"ab10cf2c-89d8-4106-adb6-8e5e48c71eeb\" class=\"plotly-graph-div\" style=\"height:525px; width:100%;\"></div>            <script type=\"text/javascript\">                require([\"plotly\"], function(Plotly) {                    window.PLOTLYENV=window.PLOTLYENV || {};                                    if (document.getElementById(\"ab10cf2c-89d8-4106-adb6-8e5e48c71eeb\")) {                    Plotly.newPlot(                        \"ab10cf2c-89d8-4106-adb6-8e5e48c71eeb\",                        [{\"alignmentgroup\":\"True\",\"hovertemplate\":\"name=%{text}<br>points=%{y}<extra></extra>\",\"legendgroup\":\"R\\u00faben Gato Alves Dias\",\"marker\":{\"color\":\"#636efa\",\"pattern\":{\"shape\":\"\"}},\"name\":\"R\\u00faben Gato Alves Dias\",\"offsetgroup\":\"R\\u00faben Gato Alves Dias\",\"orientation\":\"v\",\"showlegend\":true,\"text\":[\"R\\u00faben Gato Alves Dias\"],\"textposition\":\"auto\",\"x\":[\"R\\u00faben Gato Alves Dias\"],\"xaxis\":\"x\",\"y\":[4.131868592637368],\"yaxis\":\"y\",\"type\":\"bar\"},{\"alignmentgroup\":\"True\",\"hovertemplate\":\"name=%{text}<br>points=%{y}<extra></extra>\",\"legendgroup\":\"Kyle Walker\",\"marker\":{\"color\":\"#EF553B\",\"pattern\":{\"shape\":\"\"}},\"name\":\"Kyle Walker\",\"offsetgroup\":\"Kyle Walker\",\"orientation\":\"v\",\"showlegend\":true,\"text\":[\"Kyle Walker\"],\"textposition\":\"auto\",\"x\":[\"Kyle Walker\"],\"xaxis\":\"x\",\"y\":[4.180817402780045],\"yaxis\":\"y\",\"type\":\"bar\"},{\"alignmentgroup\":\"True\",\"hovertemplate\":\"name=%{text}<br>points=%{y}<extra></extra>\",\"legendgroup\":\"Ben Chilwell\",\"marker\":{\"color\":\"#00cc96\",\"pattern\":{\"shape\":\"\"}},\"name\":\"Ben Chilwell\",\"offsetgroup\":\"Ben Chilwell\",\"orientation\":\"v\",\"showlegend\":true,\"text\":[\"Ben Chilwell\"],\"textposition\":\"auto\",\"x\":[\"Ben Chilwell\"],\"xaxis\":\"x\",\"y\":[4.216494831007915],\"yaxis\":\"y\",\"type\":\"bar\"},{\"alignmentgroup\":\"True\",\"hovertemplate\":\"name=%{text}<br>points=%{y}<extra></extra>\",\"legendgroup\":\"Serge Aurier\",\"marker\":{\"color\":\"#ab63fa\",\"pattern\":{\"shape\":\"\"}},\"name\":\"Serge Aurier\",\"offsetgroup\":\"Serge Aurier\",\"orientation\":\"v\",\"showlegend\":true,\"text\":[\"Serge Aurier\"],\"textposition\":\"auto\",\"x\":[\"Serge Aurier\"],\"xaxis\":\"x\",\"y\":[4.281312197618497],\"yaxis\":\"y\",\"type\":\"bar\"},{\"alignmentgroup\":\"True\",\"hovertemplate\":\"name=%{text}<br>points=%{y}<extra></extra>\",\"legendgroup\":\"Cristian Romero\",\"marker\":{\"color\":\"#FFA15A\",\"pattern\":{\"shape\":\"\"}},\"name\":\"Cristian Romero\",\"offsetgroup\":\"Cristian Romero\",\"orientation\":\"v\",\"showlegend\":true,\"text\":[\"Cristian Romero\"],\"textposition\":\"auto\",\"x\":[\"Cristian Romero\"],\"xaxis\":\"x\",\"y\":[4.380434643855283],\"yaxis\":\"y\",\"type\":\"bar\"},{\"alignmentgroup\":\"True\",\"hovertemplate\":\"name=%{text}<br>points=%{y}<extra></extra>\",\"legendgroup\":\"James Tarkowski\",\"marker\":{\"color\":\"#19d3f3\",\"pattern\":{\"shape\":\"\"}},\"name\":\"James Tarkowski\",\"offsetgroup\":\"James Tarkowski\",\"orientation\":\"v\",\"showlegend\":true,\"text\":[\"James Tarkowski\"],\"textposition\":\"auto\",\"x\":[\"James Tarkowski\"],\"xaxis\":\"x\",\"y\":[4.578567794177311],\"yaxis\":\"y\",\"type\":\"bar\"},{\"alignmentgroup\":\"True\",\"hovertemplate\":\"name=%{text}<br>points=%{y}<extra></extra>\",\"legendgroup\":\"Gabriel dos Santos Magalh\\u00e3es\",\"marker\":{\"color\":\"#FF6692\",\"pattern\":{\"shape\":\"\"}},\"name\":\"Gabriel dos Santos Magalh\\u00e3es\",\"offsetgroup\":\"Gabriel dos Santos Magalh\\u00e3es\",\"orientation\":\"v\",\"showlegend\":true,\"text\":[\"Gabriel dos Santos Magalh\\u00e3es\"],\"textposition\":\"auto\",\"x\":[\"Gabriel dos Santos Magalh\\u00e3es\"],\"xaxis\":\"x\",\"y\":[4.585147766200482],\"yaxis\":\"y\",\"type\":\"bar\"},{\"alignmentgroup\":\"True\",\"hovertemplate\":\"name=%{text}<br>points=%{y}<extra></extra>\",\"legendgroup\":\"Andrew Robertson\",\"marker\":{\"color\":\"#B6E880\",\"pattern\":{\"shape\":\"\"}},\"name\":\"Andrew Robertson\",\"offsetgroup\":\"Andrew Robertson\",\"orientation\":\"v\",\"showlegend\":true,\"text\":[\"Andrew Robertson\"],\"textposition\":\"auto\",\"x\":[\"Andrew Robertson\"],\"xaxis\":\"x\",\"y\":[4.734156114751576],\"yaxis\":\"y\",\"type\":\"bar\"},{\"alignmentgroup\":\"True\",\"hovertemplate\":\"name=%{text}<br>points=%{y}<extra></extra>\",\"legendgroup\":\"Kieran Trippier\",\"marker\":{\"color\":\"#FF97FF\",\"pattern\":{\"shape\":\"\"}},\"name\":\"Kieran Trippier\",\"offsetgroup\":\"Kieran Trippier\",\"orientation\":\"v\",\"showlegend\":true,\"text\":[\"Kieran Trippier\"],\"textposition\":\"auto\",\"x\":[\"Kieran Trippier\"],\"xaxis\":\"x\",\"y\":[5.170406174536353],\"yaxis\":\"y\",\"type\":\"bar\"},{\"alignmentgroup\":\"True\",\"hovertemplate\":\"name=%{text}<br>points=%{y}<extra></extra>\",\"legendgroup\":\"Trent Alexander-Arnold\",\"marker\":{\"color\":\"#FECB52\",\"pattern\":{\"shape\":\"\"}},\"name\":\"Trent Alexander-Arnold\",\"offsetgroup\":\"Trent Alexander-Arnold\",\"orientation\":\"v\",\"showlegend\":true,\"text\":[\"Trent Alexander-Arnold\"],\"textposition\":\"auto\",\"x\":[\"Trent Alexander-Arnold\"],\"xaxis\":\"x\",\"y\":[6.65970173774385],\"yaxis\":\"y\",\"type\":\"bar\"}],                        {\"template\":{\"data\":{\"histogram2dcontour\":[{\"type\":\"histogram2dcontour\",\"colorbar\":{\"outlinewidth\":0,\"ticks\":\"\"},\"colorscale\":[[0.0,\"#0d0887\"],[0.1111111111111111,\"#46039f\"],[0.2222222222222222,\"#7201a8\"],[0.3333333333333333,\"#9c179e\"],[0.4444444444444444,\"#bd3786\"],[0.5555555555555556,\"#d8576b\"],[0.6666666666666666,\"#ed7953\"],[0.7777777777777778,\"#fb9f3a\"],[0.8888888888888888,\"#fdca26\"],[1.0,\"#f0f921\"]]}],\"choropleth\":[{\"type\":\"choropleth\",\"colorbar\":{\"outlinewidth\":0,\"ticks\":\"\"}}],\"histogram2d\":[{\"type\":\"histogram2d\",\"colorbar\":{\"outlinewidth\":0,\"ticks\":\"\"},\"colorscale\":[[0.0,\"#0d0887\"],[0.1111111111111111,\"#46039f\"],[0.2222222222222222,\"#7201a8\"],[0.3333333333333333,\"#9c179e\"],[0.4444444444444444,\"#bd3786\"],[0.5555555555555556,\"#d8576b\"],[0.6666666666666666,\"#ed7953\"],[0.7777777777777778,\"#fb9f3a\"],[0.8888888888888888,\"#fdca26\"],[1.0,\"#f0f921\"]]}],\"heatmap\":[{\"type\":\"heatmap\",\"colorbar\":{\"outlinewidth\":0,\"ticks\":\"\"},\"colorscale\":[[0.0,\"#0d0887\"],[0.1111111111111111,\"#46039f\"],[0.2222222222222222,\"#7201a8\"],[0.3333333333333333,\"#9c179e\"],[0.4444444444444444,\"#bd3786\"],[0.5555555555555556,\"#d8576b\"],[0.6666666666666666,\"#ed7953\"],[0.7777777777777778,\"#fb9f3a\"],[0.8888888888888888,\"#fdca26\"],[1.0,\"#f0f921\"]]}],\"heatmapgl\":[{\"type\":\"heatmapgl\",\"colorbar\":{\"outlinewidth\":0,\"ticks\":\"\"},\"colorscale\":[[0.0,\"#0d0887\"],[0.1111111111111111,\"#46039f\"],[0.2222222222222222,\"#7201a8\"],[0.3333333333333333,\"#9c179e\"],[0.4444444444444444,\"#bd3786\"],[0.5555555555555556,\"#d8576b\"],[0.6666666666666666,\"#ed7953\"],[0.7777777777777778,\"#fb9f3a\"],[0.8888888888888888,\"#fdca26\"],[1.0,\"#f0f921\"]]}],\"contourcarpet\":[{\"type\":\"contourcarpet\",\"colorbar\":{\"outlinewidth\":0,\"ticks\":\"\"}}],\"contour\":[{\"type\":\"contour\",\"colorbar\":{\"outlinewidth\":0,\"ticks\":\"\"},\"colorscale\":[[0.0,\"#0d0887\"],[0.1111111111111111,\"#46039f\"],[0.2222222222222222,\"#7201a8\"],[0.3333333333333333,\"#9c179e\"],[0.4444444444444444,\"#bd3786\"],[0.5555555555555556,\"#d8576b\"],[0.6666666666666666,\"#ed7953\"],[0.7777777777777778,\"#fb9f3a\"],[0.8888888888888888,\"#fdca26\"],[1.0,\"#f0f921\"]]}],\"surface\":[{\"type\":\"surface\",\"colorbar\":{\"outlinewidth\":0,\"ticks\":\"\"},\"colorscale\":[[0.0,\"#0d0887\"],[0.1111111111111111,\"#46039f\"],[0.2222222222222222,\"#7201a8\"],[0.3333333333333333,\"#9c179e\"],[0.4444444444444444,\"#bd3786\"],[0.5555555555555556,\"#d8576b\"],[0.6666666666666666,\"#ed7953\"],[0.7777777777777778,\"#fb9f3a\"],[0.8888888888888888,\"#fdca26\"],[1.0,\"#f0f921\"]]}],\"mesh3d\":[{\"type\":\"mesh3d\",\"colorbar\":{\"outlinewidth\":0,\"ticks\":\"\"}}],\"scatter\":[{\"fillpattern\":{\"fillmode\":\"overlay\",\"size\":10,\"solidity\":0.2},\"type\":\"scatter\"}],\"parcoords\":[{\"type\":\"parcoords\",\"line\":{\"colorbar\":{\"outlinewidth\":0,\"ticks\":\"\"}}}],\"scatterpolargl\":[{\"type\":\"scatterpolargl\",\"marker\":{\"colorbar\":{\"outlinewidth\":0,\"ticks\":\"\"}}}],\"bar\":[{\"error_x\":{\"color\":\"#2a3f5f\"},\"error_y\":{\"color\":\"#2a3f5f\"},\"marker\":{\"line\":{\"color\":\"#E5ECF6\",\"width\":0.5},\"pattern\":{\"fillmode\":\"overlay\",\"size\":10,\"solidity\":0.2}},\"type\":\"bar\"}],\"scattergeo\":[{\"type\":\"scattergeo\",\"marker\":{\"colorbar\":{\"outlinewidth\":0,\"ticks\":\"\"}}}],\"scatterpolar\":[{\"type\":\"scatterpolar\",\"marker\":{\"colorbar\":{\"outlinewidth\":0,\"ticks\":\"\"}}}],\"histogram\":[{\"marker\":{\"pattern\":{\"fillmode\":\"overlay\",\"size\":10,\"solidity\":0.2}},\"type\":\"histogram\"}],\"scattergl\":[{\"type\":\"scattergl\",\"marker\":{\"colorbar\":{\"outlinewidth\":0,\"ticks\":\"\"}}}],\"scatter3d\":[{\"type\":\"scatter3d\",\"line\":{\"colorbar\":{\"outlinewidth\":0,\"ticks\":\"\"}},\"marker\":{\"colorbar\":{\"outlinewidth\":0,\"ticks\":\"\"}}}],\"scattermapbox\":[{\"type\":\"scattermapbox\",\"marker\":{\"colorbar\":{\"outlinewidth\":0,\"ticks\":\"\"}}}],\"scatterternary\":[{\"type\":\"scatterternary\",\"marker\":{\"colorbar\":{\"outlinewidth\":0,\"ticks\":\"\"}}}],\"scattercarpet\":[{\"type\":\"scattercarpet\",\"marker\":{\"colorbar\":{\"outlinewidth\":0,\"ticks\":\"\"}}}],\"carpet\":[{\"aaxis\":{\"endlinecolor\":\"#2a3f5f\",\"gridcolor\":\"white\",\"linecolor\":\"white\",\"minorgridcolor\":\"white\",\"startlinecolor\":\"#2a3f5f\"},\"baxis\":{\"endlinecolor\":\"#2a3f5f\",\"gridcolor\":\"white\",\"linecolor\":\"white\",\"minorgridcolor\":\"white\",\"startlinecolor\":\"#2a3f5f\"},\"type\":\"carpet\"}],\"table\":[{\"cells\":{\"fill\":{\"color\":\"#EBF0F8\"},\"line\":{\"color\":\"white\"}},\"header\":{\"fill\":{\"color\":\"#C8D4E3\"},\"line\":{\"color\":\"white\"}},\"type\":\"table\"}],\"barpolar\":[{\"marker\":{\"line\":{\"color\":\"#E5ECF6\",\"width\":0.5},\"pattern\":{\"fillmode\":\"overlay\",\"size\":10,\"solidity\":0.2}},\"type\":\"barpolar\"}],\"pie\":[{\"automargin\":true,\"type\":\"pie\"}]},\"layout\":{\"autotypenumbers\":\"strict\",\"colorway\":[\"#636efa\",\"#EF553B\",\"#00cc96\",\"#ab63fa\",\"#FFA15A\",\"#19d3f3\",\"#FF6692\",\"#B6E880\",\"#FF97FF\",\"#FECB52\"],\"font\":{\"color\":\"#2a3f5f\"},\"hovermode\":\"closest\",\"hoverlabel\":{\"align\":\"left\"},\"paper_bgcolor\":\"white\",\"plot_bgcolor\":\"#E5ECF6\",\"polar\":{\"bgcolor\":\"#E5ECF6\",\"angularaxis\":{\"gridcolor\":\"white\",\"linecolor\":\"white\",\"ticks\":\"\"},\"radialaxis\":{\"gridcolor\":\"white\",\"linecolor\":\"white\",\"ticks\":\"\"}},\"ternary\":{\"bgcolor\":\"#E5ECF6\",\"aaxis\":{\"gridcolor\":\"white\",\"linecolor\":\"white\",\"ticks\":\"\"},\"baxis\":{\"gridcolor\":\"white\",\"linecolor\":\"white\",\"ticks\":\"\"},\"caxis\":{\"gridcolor\":\"white\",\"linecolor\":\"white\",\"ticks\":\"\"}},\"coloraxis\":{\"colorbar\":{\"outlinewidth\":0,\"ticks\":\"\"}},\"colorscale\":{\"sequential\":[[0.0,\"#0d0887\"],[0.1111111111111111,\"#46039f\"],[0.2222222222222222,\"#7201a8\"],[0.3333333333333333,\"#9c179e\"],[0.4444444444444444,\"#bd3786\"],[0.5555555555555556,\"#d8576b\"],[0.6666666666666666,\"#ed7953\"],[0.7777777777777778,\"#fb9f3a\"],[0.8888888888888888,\"#fdca26\"],[1.0,\"#f0f921\"]],\"sequentialminus\":[[0.0,\"#0d0887\"],[0.1111111111111111,\"#46039f\"],[0.2222222222222222,\"#7201a8\"],[0.3333333333333333,\"#9c179e\"],[0.4444444444444444,\"#bd3786\"],[0.5555555555555556,\"#d8576b\"],[0.6666666666666666,\"#ed7953\"],[0.7777777777777778,\"#fb9f3a\"],[0.8888888888888888,\"#fdca26\"],[1.0,\"#f0f921\"]],\"diverging\":[[0,\"#8e0152\"],[0.1,\"#c51b7d\"],[0.2,\"#de77ae\"],[0.3,\"#f1b6da\"],[0.4,\"#fde0ef\"],[0.5,\"#f7f7f7\"],[0.6,\"#e6f5d0\"],[0.7,\"#b8e186\"],[0.8,\"#7fbc41\"],[0.9,\"#4d9221\"],[1,\"#276419\"]]},\"xaxis\":{\"gridcolor\":\"white\",\"linecolor\":\"white\",\"ticks\":\"\",\"title\":{\"standoff\":15},\"zerolinecolor\":\"white\",\"automargin\":true,\"zerolinewidth\":2},\"yaxis\":{\"gridcolor\":\"white\",\"linecolor\":\"white\",\"ticks\":\"\",\"title\":{\"standoff\":15},\"zerolinecolor\":\"white\",\"automargin\":true,\"zerolinewidth\":2},\"scene\":{\"xaxis\":{\"backgroundcolor\":\"#E5ECF6\",\"gridcolor\":\"white\",\"linecolor\":\"white\",\"showbackground\":true,\"ticks\":\"\",\"zerolinecolor\":\"white\",\"gridwidth\":2},\"yaxis\":{\"backgroundcolor\":\"#E5ECF6\",\"gridcolor\":\"white\",\"linecolor\":\"white\",\"showbackground\":true,\"ticks\":\"\",\"zerolinecolor\":\"white\",\"gridwidth\":2},\"zaxis\":{\"backgroundcolor\":\"#E5ECF6\",\"gridcolor\":\"white\",\"linecolor\":\"white\",\"showbackground\":true,\"ticks\":\"\",\"zerolinecolor\":\"white\",\"gridwidth\":2}},\"shapedefaults\":{\"line\":{\"color\":\"#2a3f5f\"}},\"annotationdefaults\":{\"arrowcolor\":\"#2a3f5f\",\"arrowhead\":0,\"arrowwidth\":1},\"geo\":{\"bgcolor\":\"white\",\"landcolor\":\"#E5ECF6\",\"subunitcolor\":\"white\",\"showland\":true,\"showlakes\":true,\"lakecolor\":\"white\"},\"title\":{\"x\":0.05},\"mapbox\":{\"style\":\"light\"}}},\"xaxis\":{\"anchor\":\"y\",\"domain\":[0.0,1.0],\"title\":{\"text\":\"name\"},\"categoryorder\":\"array\",\"categoryarray\":[\"R\\u00faben Gato Alves Dias\",\"Kyle Walker\",\"Ben Chilwell\",\"Serge Aurier\",\"Cristian Romero\",\"James Tarkowski\",\"Gabriel dos Santos Magalh\\u00e3es\",\"Andrew Robertson\",\"Kieran Trippier\",\"Trent Alexander-Arnold\"],\"visible\":false,\"showticklabels\":false},\"yaxis\":{\"anchor\":\"x\",\"domain\":[0.0,1.0],\"title\":{\"text\":\"points\"}},\"legend\":{\"title\":{\"text\":\"name\"},\"tracegroupgap\":0},\"title\":{\"text\":\"Long-Form Input\"},\"barmode\":\"relative\"},                        {\"responsive\": true}                    ).then(function(){\n",
       "                            \n",
       "var gd = document.getElementById('ab10cf2c-89d8-4106-adb6-8e5e48c71eeb');\n",
       "var x = new MutationObserver(function (mutations, observer) {{\n",
       "        var display = window.getComputedStyle(gd).display;\n",
       "        if (!display || display === 'none') {{\n",
       "            console.log([gd, 'removed!']);\n",
       "            Plotly.purge(gd);\n",
       "            observer.disconnect();\n",
       "        }}\n",
       "}});\n",
       "\n",
       "// Listen for the removal of the full notebook cells\n",
       "var notebookContainer = gd.closest('#notebook-container');\n",
       "if (notebookContainer) {{\n",
       "    x.observe(notebookContainer, {childList: true});\n",
       "}}\n",
       "\n",
       "// Listen for the clearing of the current output cell\n",
       "var outputEl = gd.closest('.output');\n",
       "if (outputEl) {{\n",
       "    x.observe(outputEl, {childList: true});\n",
       "}}\n",
       "\n",
       "                        })                };                });            </script>        </div>"
      ]
     },
     "metadata": {},
     "output_type": "display_data"
    }
   ],
   "source": [
    "fig = px.bar(predicted_defs.head(no_plotted_players).sort_values(\"points\", ascending=True), x=\"name\", y=\"points\",color=\"name\" ,text=\"name\", title=\"Long-Form Input\")\n",
    "fig.update_xaxes(visible=False, showticklabels=False)\n",
    "fig.show()\n",
    "fig.write_image(\"plots/defs.png\")"
   ]
  },
  {
   "cell_type": "code",
   "execution_count": 123,
   "id": "2434f50b",
   "metadata": {},
   "outputs": [
    {
     "data": {
      "application/vnd.plotly.v1+json": {
       "config": {
        "plotlyServerURL": "https://plot.ly"
       },
       "data": [
        {
         "alignmentgroup": "True",
         "hovertemplate": "name=%{text}<br>points=%{y}<extra></extra>",
         "legendgroup": "James Trafford",
         "marker": {
          "color": "#636efa",
          "pattern": {
           "shape": ""
          }
         },
         "name": "James Trafford",
         "offsetgroup": "James Trafford",
         "orientation": "v",
         "showlegend": true,
         "text": [
          "James Trafford"
         ],
         "textposition": "auto",
         "type": "bar",
         "x": [
          "James Trafford"
         ],
         "xaxis": "x",
         "y": [
          3.6464757225272977
         ],
         "yaxis": "y"
        },
        {
         "alignmentgroup": "True",
         "hovertemplate": "name=%{text}<br>points=%{y}<extra></extra>",
         "legendgroup": "Guglielmo Vicario",
         "marker": {
          "color": "#EF553B",
          "pattern": {
           "shape": ""
          }
         },
         "name": "Guglielmo Vicario",
         "offsetgroup": "Guglielmo Vicario",
         "orientation": "v",
         "showlegend": true,
         "text": [
          "Guglielmo Vicario"
         ],
         "textposition": "auto",
         "type": "bar",
         "x": [
          "Guglielmo Vicario"
         ],
         "xaxis": "x",
         "y": [
          3.7904503591058
         ],
         "yaxis": "y"
        },
        {
         "alignmentgroup": "True",
         "hovertemplate": "name=%{text}<br>points=%{y}<extra></extra>",
         "legendgroup": "Matt Turner",
         "marker": {
          "color": "#00cc96",
          "pattern": {
           "shape": ""
          }
         },
         "name": "Matt Turner",
         "offsetgroup": "Matt Turner",
         "orientation": "v",
         "showlegend": true,
         "text": [
          "Matt Turner"
         ],
         "textposition": "auto",
         "type": "bar",
         "x": [
          "Matt Turner"
         ],
         "xaxis": "x",
         "y": [
          4.076010480454707
         ],
         "yaxis": "y"
        },
        {
         "alignmentgroup": "True",
         "hovertemplate": "name=%{text}<br>points=%{y}<extra></extra>",
         "legendgroup": "Nick Pope",
         "marker": {
          "color": "#ab63fa",
          "pattern": {
           "shape": ""
          }
         },
         "name": "Nick Pope",
         "offsetgroup": "Nick Pope",
         "orientation": "v",
         "showlegend": true,
         "text": [
          "Nick Pope"
         ],
         "textposition": "auto",
         "type": "bar",
         "x": [
          "Nick Pope"
         ],
         "xaxis": "x",
         "y": [
          4.154400567587702
         ],
         "yaxis": "y"
        },
        {
         "alignmentgroup": "True",
         "hovertemplate": "name=%{text}<br>points=%{y}<extra></extra>",
         "legendgroup": "Ederson Santana de Moraes",
         "marker": {
          "color": "#FFA15A",
          "pattern": {
           "shape": ""
          }
         },
         "name": "Ederson Santana de Moraes",
         "offsetgroup": "Ederson Santana de Moraes",
         "orientation": "v",
         "showlegend": true,
         "text": [
          "Ederson Santana de Moraes"
         ],
         "textposition": "auto",
         "type": "bar",
         "x": [
          "Ederson Santana de Moraes"
         ],
         "xaxis": "x",
         "y": [
          4.347601190965086
         ],
         "yaxis": "y"
        },
        {
         "alignmentgroup": "True",
         "hovertemplate": "name=%{text}<br>points=%{y}<extra></extra>",
         "legendgroup": "Emiliano Martínez Romero",
         "marker": {
          "color": "#19d3f3",
          "pattern": {
           "shape": ""
          }
         },
         "name": "Emiliano Martínez Romero",
         "offsetgroup": "Emiliano Martínez Romero",
         "orientation": "v",
         "showlegend": true,
         "text": [
          "Emiliano Martínez Romero"
         ],
         "textposition": "auto",
         "type": "bar",
         "x": [
          "Emiliano Martínez Romero"
         ],
         "xaxis": "x",
         "y": [
          4.50568825036757
         ],
         "yaxis": "y"
        },
        {
         "alignmentgroup": "True",
         "hovertemplate": "name=%{text}<br>points=%{y}<extra></extra>",
         "legendgroup": "Aaron Ramsdale",
         "marker": {
          "color": "#FF6692",
          "pattern": {
           "shape": ""
          }
         },
         "name": "Aaron Ramsdale",
         "offsetgroup": "Aaron Ramsdale",
         "orientation": "v",
         "showlegend": true,
         "text": [
          "Aaron Ramsdale"
         ],
         "textposition": "auto",
         "type": "bar",
         "x": [
          "Aaron Ramsdale"
         ],
         "xaxis": "x",
         "y": [
          4.922074512225175
         ],
         "yaxis": "y"
        },
        {
         "alignmentgroup": "True",
         "hovertemplate": "name=%{text}<br>points=%{y}<extra></extra>",
         "legendgroup": "Alisson Ramses Becker",
         "marker": {
          "color": "#B6E880",
          "pattern": {
           "shape": ""
          }
         },
         "name": "Alisson Ramses Becker",
         "offsetgroup": "Alisson Ramses Becker",
         "orientation": "v",
         "showlegend": true,
         "text": [
          "Alisson Ramses Becker"
         ],
         "textposition": "auto",
         "type": "bar",
         "x": [
          "Alisson Ramses Becker"
         ],
         "xaxis": "x",
         "y": [
          5.259277805599347
         ],
         "yaxis": "y"
        },
        {
         "alignmentgroup": "True",
         "hovertemplate": "name=%{text}<br>points=%{y}<extra></extra>",
         "legendgroup": "Bernd Leno",
         "marker": {
          "color": "#FF97FF",
          "pattern": {
           "shape": ""
          }
         },
         "name": "Bernd Leno",
         "offsetgroup": "Bernd Leno",
         "orientation": "v",
         "showlegend": true,
         "text": [
          "Bernd Leno"
         ],
         "textposition": "auto",
         "type": "bar",
         "x": [
          "Bernd Leno"
         ],
         "xaxis": "x",
         "y": [
          5.705319054867854
         ],
         "yaxis": "y"
        },
        {
         "alignmentgroup": "True",
         "hovertemplate": "name=%{text}<br>points=%{y}<extra></extra>",
         "legendgroup": "Norberto Murara Neto",
         "marker": {
          "color": "#FECB52",
          "pattern": {
           "shape": ""
          }
         },
         "name": "Norberto Murara Neto",
         "offsetgroup": "Norberto Murara Neto",
         "orientation": "v",
         "showlegend": true,
         "text": [
          "Norberto Murara Neto"
         ],
         "textposition": "auto",
         "type": "bar",
         "x": [
          "Norberto Murara Neto"
         ],
         "xaxis": "x",
         "y": [
          8.492093789156472
         ],
         "yaxis": "y"
        }
       ],
       "layout": {
        "barmode": "relative",
        "legend": {
         "title": {
          "text": "name"
         },
         "tracegroupgap": 0
        },
        "template": {
         "data": {
          "bar": [
           {
            "error_x": {
             "color": "#2a3f5f"
            },
            "error_y": {
             "color": "#2a3f5f"
            },
            "marker": {
             "line": {
              "color": "#E5ECF6",
              "width": 0.5
             },
             "pattern": {
              "fillmode": "overlay",
              "size": 10,
              "solidity": 0.2
             }
            },
            "type": "bar"
           }
          ],
          "barpolar": [
           {
            "marker": {
             "line": {
              "color": "#E5ECF6",
              "width": 0.5
             },
             "pattern": {
              "fillmode": "overlay",
              "size": 10,
              "solidity": 0.2
             }
            },
            "type": "barpolar"
           }
          ],
          "carpet": [
           {
            "aaxis": {
             "endlinecolor": "#2a3f5f",
             "gridcolor": "white",
             "linecolor": "white",
             "minorgridcolor": "white",
             "startlinecolor": "#2a3f5f"
            },
            "baxis": {
             "endlinecolor": "#2a3f5f",
             "gridcolor": "white",
             "linecolor": "white",
             "minorgridcolor": "white",
             "startlinecolor": "#2a3f5f"
            },
            "type": "carpet"
           }
          ],
          "choropleth": [
           {
            "colorbar": {
             "outlinewidth": 0,
             "ticks": ""
            },
            "type": "choropleth"
           }
          ],
          "contour": [
           {
            "colorbar": {
             "outlinewidth": 0,
             "ticks": ""
            },
            "colorscale": [
             [
              0,
              "#0d0887"
             ],
             [
              0.1111111111111111,
              "#46039f"
             ],
             [
              0.2222222222222222,
              "#7201a8"
             ],
             [
              0.3333333333333333,
              "#9c179e"
             ],
             [
              0.4444444444444444,
              "#bd3786"
             ],
             [
              0.5555555555555556,
              "#d8576b"
             ],
             [
              0.6666666666666666,
              "#ed7953"
             ],
             [
              0.7777777777777778,
              "#fb9f3a"
             ],
             [
              0.8888888888888888,
              "#fdca26"
             ],
             [
              1,
              "#f0f921"
             ]
            ],
            "type": "contour"
           }
          ],
          "contourcarpet": [
           {
            "colorbar": {
             "outlinewidth": 0,
             "ticks": ""
            },
            "type": "contourcarpet"
           }
          ],
          "heatmap": [
           {
            "colorbar": {
             "outlinewidth": 0,
             "ticks": ""
            },
            "colorscale": [
             [
              0,
              "#0d0887"
             ],
             [
              0.1111111111111111,
              "#46039f"
             ],
             [
              0.2222222222222222,
              "#7201a8"
             ],
             [
              0.3333333333333333,
              "#9c179e"
             ],
             [
              0.4444444444444444,
              "#bd3786"
             ],
             [
              0.5555555555555556,
              "#d8576b"
             ],
             [
              0.6666666666666666,
              "#ed7953"
             ],
             [
              0.7777777777777778,
              "#fb9f3a"
             ],
             [
              0.8888888888888888,
              "#fdca26"
             ],
             [
              1,
              "#f0f921"
             ]
            ],
            "type": "heatmap"
           }
          ],
          "heatmapgl": [
           {
            "colorbar": {
             "outlinewidth": 0,
             "ticks": ""
            },
            "colorscale": [
             [
              0,
              "#0d0887"
             ],
             [
              0.1111111111111111,
              "#46039f"
             ],
             [
              0.2222222222222222,
              "#7201a8"
             ],
             [
              0.3333333333333333,
              "#9c179e"
             ],
             [
              0.4444444444444444,
              "#bd3786"
             ],
             [
              0.5555555555555556,
              "#d8576b"
             ],
             [
              0.6666666666666666,
              "#ed7953"
             ],
             [
              0.7777777777777778,
              "#fb9f3a"
             ],
             [
              0.8888888888888888,
              "#fdca26"
             ],
             [
              1,
              "#f0f921"
             ]
            ],
            "type": "heatmapgl"
           }
          ],
          "histogram": [
           {
            "marker": {
             "pattern": {
              "fillmode": "overlay",
              "size": 10,
              "solidity": 0.2
             }
            },
            "type": "histogram"
           }
          ],
          "histogram2d": [
           {
            "colorbar": {
             "outlinewidth": 0,
             "ticks": ""
            },
            "colorscale": [
             [
              0,
              "#0d0887"
             ],
             [
              0.1111111111111111,
              "#46039f"
             ],
             [
              0.2222222222222222,
              "#7201a8"
             ],
             [
              0.3333333333333333,
              "#9c179e"
             ],
             [
              0.4444444444444444,
              "#bd3786"
             ],
             [
              0.5555555555555556,
              "#d8576b"
             ],
             [
              0.6666666666666666,
              "#ed7953"
             ],
             [
              0.7777777777777778,
              "#fb9f3a"
             ],
             [
              0.8888888888888888,
              "#fdca26"
             ],
             [
              1,
              "#f0f921"
             ]
            ],
            "type": "histogram2d"
           }
          ],
          "histogram2dcontour": [
           {
            "colorbar": {
             "outlinewidth": 0,
             "ticks": ""
            },
            "colorscale": [
             [
              0,
              "#0d0887"
             ],
             [
              0.1111111111111111,
              "#46039f"
             ],
             [
              0.2222222222222222,
              "#7201a8"
             ],
             [
              0.3333333333333333,
              "#9c179e"
             ],
             [
              0.4444444444444444,
              "#bd3786"
             ],
             [
              0.5555555555555556,
              "#d8576b"
             ],
             [
              0.6666666666666666,
              "#ed7953"
             ],
             [
              0.7777777777777778,
              "#fb9f3a"
             ],
             [
              0.8888888888888888,
              "#fdca26"
             ],
             [
              1,
              "#f0f921"
             ]
            ],
            "type": "histogram2dcontour"
           }
          ],
          "mesh3d": [
           {
            "colorbar": {
             "outlinewidth": 0,
             "ticks": ""
            },
            "type": "mesh3d"
           }
          ],
          "parcoords": [
           {
            "line": {
             "colorbar": {
              "outlinewidth": 0,
              "ticks": ""
             }
            },
            "type": "parcoords"
           }
          ],
          "pie": [
           {
            "automargin": true,
            "type": "pie"
           }
          ],
          "scatter": [
           {
            "fillpattern": {
             "fillmode": "overlay",
             "size": 10,
             "solidity": 0.2
            },
            "type": "scatter"
           }
          ],
          "scatter3d": [
           {
            "line": {
             "colorbar": {
              "outlinewidth": 0,
              "ticks": ""
             }
            },
            "marker": {
             "colorbar": {
              "outlinewidth": 0,
              "ticks": ""
             }
            },
            "type": "scatter3d"
           }
          ],
          "scattercarpet": [
           {
            "marker": {
             "colorbar": {
              "outlinewidth": 0,
              "ticks": ""
             }
            },
            "type": "scattercarpet"
           }
          ],
          "scattergeo": [
           {
            "marker": {
             "colorbar": {
              "outlinewidth": 0,
              "ticks": ""
             }
            },
            "type": "scattergeo"
           }
          ],
          "scattergl": [
           {
            "marker": {
             "colorbar": {
              "outlinewidth": 0,
              "ticks": ""
             }
            },
            "type": "scattergl"
           }
          ],
          "scattermapbox": [
           {
            "marker": {
             "colorbar": {
              "outlinewidth": 0,
              "ticks": ""
             }
            },
            "type": "scattermapbox"
           }
          ],
          "scatterpolar": [
           {
            "marker": {
             "colorbar": {
              "outlinewidth": 0,
              "ticks": ""
             }
            },
            "type": "scatterpolar"
           }
          ],
          "scatterpolargl": [
           {
            "marker": {
             "colorbar": {
              "outlinewidth": 0,
              "ticks": ""
             }
            },
            "type": "scatterpolargl"
           }
          ],
          "scatterternary": [
           {
            "marker": {
             "colorbar": {
              "outlinewidth": 0,
              "ticks": ""
             }
            },
            "type": "scatterternary"
           }
          ],
          "surface": [
           {
            "colorbar": {
             "outlinewidth": 0,
             "ticks": ""
            },
            "colorscale": [
             [
              0,
              "#0d0887"
             ],
             [
              0.1111111111111111,
              "#46039f"
             ],
             [
              0.2222222222222222,
              "#7201a8"
             ],
             [
              0.3333333333333333,
              "#9c179e"
             ],
             [
              0.4444444444444444,
              "#bd3786"
             ],
             [
              0.5555555555555556,
              "#d8576b"
             ],
             [
              0.6666666666666666,
              "#ed7953"
             ],
             [
              0.7777777777777778,
              "#fb9f3a"
             ],
             [
              0.8888888888888888,
              "#fdca26"
             ],
             [
              1,
              "#f0f921"
             ]
            ],
            "type": "surface"
           }
          ],
          "table": [
           {
            "cells": {
             "fill": {
              "color": "#EBF0F8"
             },
             "line": {
              "color": "white"
             }
            },
            "header": {
             "fill": {
              "color": "#C8D4E3"
             },
             "line": {
              "color": "white"
             }
            },
            "type": "table"
           }
          ]
         },
         "layout": {
          "annotationdefaults": {
           "arrowcolor": "#2a3f5f",
           "arrowhead": 0,
           "arrowwidth": 1
          },
          "autotypenumbers": "strict",
          "coloraxis": {
           "colorbar": {
            "outlinewidth": 0,
            "ticks": ""
           }
          },
          "colorscale": {
           "diverging": [
            [
             0,
             "#8e0152"
            ],
            [
             0.1,
             "#c51b7d"
            ],
            [
             0.2,
             "#de77ae"
            ],
            [
             0.3,
             "#f1b6da"
            ],
            [
             0.4,
             "#fde0ef"
            ],
            [
             0.5,
             "#f7f7f7"
            ],
            [
             0.6,
             "#e6f5d0"
            ],
            [
             0.7,
             "#b8e186"
            ],
            [
             0.8,
             "#7fbc41"
            ],
            [
             0.9,
             "#4d9221"
            ],
            [
             1,
             "#276419"
            ]
           ],
           "sequential": [
            [
             0,
             "#0d0887"
            ],
            [
             0.1111111111111111,
             "#46039f"
            ],
            [
             0.2222222222222222,
             "#7201a8"
            ],
            [
             0.3333333333333333,
             "#9c179e"
            ],
            [
             0.4444444444444444,
             "#bd3786"
            ],
            [
             0.5555555555555556,
             "#d8576b"
            ],
            [
             0.6666666666666666,
             "#ed7953"
            ],
            [
             0.7777777777777778,
             "#fb9f3a"
            ],
            [
             0.8888888888888888,
             "#fdca26"
            ],
            [
             1,
             "#f0f921"
            ]
           ],
           "sequentialminus": [
            [
             0,
             "#0d0887"
            ],
            [
             0.1111111111111111,
             "#46039f"
            ],
            [
             0.2222222222222222,
             "#7201a8"
            ],
            [
             0.3333333333333333,
             "#9c179e"
            ],
            [
             0.4444444444444444,
             "#bd3786"
            ],
            [
             0.5555555555555556,
             "#d8576b"
            ],
            [
             0.6666666666666666,
             "#ed7953"
            ],
            [
             0.7777777777777778,
             "#fb9f3a"
            ],
            [
             0.8888888888888888,
             "#fdca26"
            ],
            [
             1,
             "#f0f921"
            ]
           ]
          },
          "colorway": [
           "#636efa",
           "#EF553B",
           "#00cc96",
           "#ab63fa",
           "#FFA15A",
           "#19d3f3",
           "#FF6692",
           "#B6E880",
           "#FF97FF",
           "#FECB52"
          ],
          "font": {
           "color": "#2a3f5f"
          },
          "geo": {
           "bgcolor": "white",
           "lakecolor": "white",
           "landcolor": "#E5ECF6",
           "showlakes": true,
           "showland": true,
           "subunitcolor": "white"
          },
          "hoverlabel": {
           "align": "left"
          },
          "hovermode": "closest",
          "mapbox": {
           "style": "light"
          },
          "paper_bgcolor": "white",
          "plot_bgcolor": "#E5ECF6",
          "polar": {
           "angularaxis": {
            "gridcolor": "white",
            "linecolor": "white",
            "ticks": ""
           },
           "bgcolor": "#E5ECF6",
           "radialaxis": {
            "gridcolor": "white",
            "linecolor": "white",
            "ticks": ""
           }
          },
          "scene": {
           "xaxis": {
            "backgroundcolor": "#E5ECF6",
            "gridcolor": "white",
            "gridwidth": 2,
            "linecolor": "white",
            "showbackground": true,
            "ticks": "",
            "zerolinecolor": "white"
           },
           "yaxis": {
            "backgroundcolor": "#E5ECF6",
            "gridcolor": "white",
            "gridwidth": 2,
            "linecolor": "white",
            "showbackground": true,
            "ticks": "",
            "zerolinecolor": "white"
           },
           "zaxis": {
            "backgroundcolor": "#E5ECF6",
            "gridcolor": "white",
            "gridwidth": 2,
            "linecolor": "white",
            "showbackground": true,
            "ticks": "",
            "zerolinecolor": "white"
           }
          },
          "shapedefaults": {
           "line": {
            "color": "#2a3f5f"
           }
          },
          "ternary": {
           "aaxis": {
            "gridcolor": "white",
            "linecolor": "white",
            "ticks": ""
           },
           "baxis": {
            "gridcolor": "white",
            "linecolor": "white",
            "ticks": ""
           },
           "bgcolor": "#E5ECF6",
           "caxis": {
            "gridcolor": "white",
            "linecolor": "white",
            "ticks": ""
           }
          },
          "title": {
           "x": 0.05
          },
          "xaxis": {
           "automargin": true,
           "gridcolor": "white",
           "linecolor": "white",
           "ticks": "",
           "title": {
            "standoff": 15
           },
           "zerolinecolor": "white",
           "zerolinewidth": 2
          },
          "yaxis": {
           "automargin": true,
           "gridcolor": "white",
           "linecolor": "white",
           "ticks": "",
           "title": {
            "standoff": 15
           },
           "zerolinecolor": "white",
           "zerolinewidth": 2
          }
         }
        },
        "title": {
         "text": "Long-Form Input"
        },
        "xaxis": {
         "anchor": "y",
         "categoryarray": [
          "James Trafford",
          "Guglielmo Vicario",
          "Matt Turner",
          "Nick Pope",
          "Ederson Santana de Moraes",
          "Emiliano Martínez Romero",
          "Aaron Ramsdale",
          "Alisson Ramses Becker",
          "Bernd Leno",
          "Norberto Murara Neto"
         ],
         "categoryorder": "array",
         "domain": [
          0,
          1
         ],
         "showticklabels": false,
         "title": {
          "text": "name"
         },
         "visible": false
        },
        "yaxis": {
         "anchor": "x",
         "domain": [
          0,
          1
         ],
         "title": {
          "text": "points"
         }
        }
       }
      },
      "text/html": [
       "<div>                            <div id=\"a585092c-1527-4cfc-88d1-4554292a8711\" class=\"plotly-graph-div\" style=\"height:525px; width:100%;\"></div>            <script type=\"text/javascript\">                require([\"plotly\"], function(Plotly) {                    window.PLOTLYENV=window.PLOTLYENV || {};                                    if (document.getElementById(\"a585092c-1527-4cfc-88d1-4554292a8711\")) {                    Plotly.newPlot(                        \"a585092c-1527-4cfc-88d1-4554292a8711\",                        [{\"alignmentgroup\":\"True\",\"hovertemplate\":\"name=%{text}<br>points=%{y}<extra></extra>\",\"legendgroup\":\"James Trafford\",\"marker\":{\"color\":\"#636efa\",\"pattern\":{\"shape\":\"\"}},\"name\":\"James Trafford\",\"offsetgroup\":\"James Trafford\",\"orientation\":\"v\",\"showlegend\":true,\"text\":[\"James Trafford\"],\"textposition\":\"auto\",\"x\":[\"James Trafford\"],\"xaxis\":\"x\",\"y\":[3.6464757225272977],\"yaxis\":\"y\",\"type\":\"bar\"},{\"alignmentgroup\":\"True\",\"hovertemplate\":\"name=%{text}<br>points=%{y}<extra></extra>\",\"legendgroup\":\"Guglielmo Vicario\",\"marker\":{\"color\":\"#EF553B\",\"pattern\":{\"shape\":\"\"}},\"name\":\"Guglielmo Vicario\",\"offsetgroup\":\"Guglielmo Vicario\",\"orientation\":\"v\",\"showlegend\":true,\"text\":[\"Guglielmo Vicario\"],\"textposition\":\"auto\",\"x\":[\"Guglielmo Vicario\"],\"xaxis\":\"x\",\"y\":[3.7904503591058],\"yaxis\":\"y\",\"type\":\"bar\"},{\"alignmentgroup\":\"True\",\"hovertemplate\":\"name=%{text}<br>points=%{y}<extra></extra>\",\"legendgroup\":\"Matt Turner\",\"marker\":{\"color\":\"#00cc96\",\"pattern\":{\"shape\":\"\"}},\"name\":\"Matt Turner\",\"offsetgroup\":\"Matt Turner\",\"orientation\":\"v\",\"showlegend\":true,\"text\":[\"Matt Turner\"],\"textposition\":\"auto\",\"x\":[\"Matt Turner\"],\"xaxis\":\"x\",\"y\":[4.076010480454707],\"yaxis\":\"y\",\"type\":\"bar\"},{\"alignmentgroup\":\"True\",\"hovertemplate\":\"name=%{text}<br>points=%{y}<extra></extra>\",\"legendgroup\":\"Nick Pope\",\"marker\":{\"color\":\"#ab63fa\",\"pattern\":{\"shape\":\"\"}},\"name\":\"Nick Pope\",\"offsetgroup\":\"Nick Pope\",\"orientation\":\"v\",\"showlegend\":true,\"text\":[\"Nick Pope\"],\"textposition\":\"auto\",\"x\":[\"Nick Pope\"],\"xaxis\":\"x\",\"y\":[4.154400567587702],\"yaxis\":\"y\",\"type\":\"bar\"},{\"alignmentgroup\":\"True\",\"hovertemplate\":\"name=%{text}<br>points=%{y}<extra></extra>\",\"legendgroup\":\"Ederson Santana de Moraes\",\"marker\":{\"color\":\"#FFA15A\",\"pattern\":{\"shape\":\"\"}},\"name\":\"Ederson Santana de Moraes\",\"offsetgroup\":\"Ederson Santana de Moraes\",\"orientation\":\"v\",\"showlegend\":true,\"text\":[\"Ederson Santana de Moraes\"],\"textposition\":\"auto\",\"x\":[\"Ederson Santana de Moraes\"],\"xaxis\":\"x\",\"y\":[4.347601190965086],\"yaxis\":\"y\",\"type\":\"bar\"},{\"alignmentgroup\":\"True\",\"hovertemplate\":\"name=%{text}<br>points=%{y}<extra></extra>\",\"legendgroup\":\"Emiliano Mart\\u00ednez Romero\",\"marker\":{\"color\":\"#19d3f3\",\"pattern\":{\"shape\":\"\"}},\"name\":\"Emiliano Mart\\u00ednez Romero\",\"offsetgroup\":\"Emiliano Mart\\u00ednez Romero\",\"orientation\":\"v\",\"showlegend\":true,\"text\":[\"Emiliano Mart\\u00ednez Romero\"],\"textposition\":\"auto\",\"x\":[\"Emiliano Mart\\u00ednez Romero\"],\"xaxis\":\"x\",\"y\":[4.50568825036757],\"yaxis\":\"y\",\"type\":\"bar\"},{\"alignmentgroup\":\"True\",\"hovertemplate\":\"name=%{text}<br>points=%{y}<extra></extra>\",\"legendgroup\":\"Aaron Ramsdale\",\"marker\":{\"color\":\"#FF6692\",\"pattern\":{\"shape\":\"\"}},\"name\":\"Aaron Ramsdale\",\"offsetgroup\":\"Aaron Ramsdale\",\"orientation\":\"v\",\"showlegend\":true,\"text\":[\"Aaron Ramsdale\"],\"textposition\":\"auto\",\"x\":[\"Aaron Ramsdale\"],\"xaxis\":\"x\",\"y\":[4.922074512225175],\"yaxis\":\"y\",\"type\":\"bar\"},{\"alignmentgroup\":\"True\",\"hovertemplate\":\"name=%{text}<br>points=%{y}<extra></extra>\",\"legendgroup\":\"Alisson Ramses Becker\",\"marker\":{\"color\":\"#B6E880\",\"pattern\":{\"shape\":\"\"}},\"name\":\"Alisson Ramses Becker\",\"offsetgroup\":\"Alisson Ramses Becker\",\"orientation\":\"v\",\"showlegend\":true,\"text\":[\"Alisson Ramses Becker\"],\"textposition\":\"auto\",\"x\":[\"Alisson Ramses Becker\"],\"xaxis\":\"x\",\"y\":[5.259277805599347],\"yaxis\":\"y\",\"type\":\"bar\"},{\"alignmentgroup\":\"True\",\"hovertemplate\":\"name=%{text}<br>points=%{y}<extra></extra>\",\"legendgroup\":\"Bernd Leno\",\"marker\":{\"color\":\"#FF97FF\",\"pattern\":{\"shape\":\"\"}},\"name\":\"Bernd Leno\",\"offsetgroup\":\"Bernd Leno\",\"orientation\":\"v\",\"showlegend\":true,\"text\":[\"Bernd Leno\"],\"textposition\":\"auto\",\"x\":[\"Bernd Leno\"],\"xaxis\":\"x\",\"y\":[5.705319054867854],\"yaxis\":\"y\",\"type\":\"bar\"},{\"alignmentgroup\":\"True\",\"hovertemplate\":\"name=%{text}<br>points=%{y}<extra></extra>\",\"legendgroup\":\"Norberto Murara Neto\",\"marker\":{\"color\":\"#FECB52\",\"pattern\":{\"shape\":\"\"}},\"name\":\"Norberto Murara Neto\",\"offsetgroup\":\"Norberto Murara Neto\",\"orientation\":\"v\",\"showlegend\":true,\"text\":[\"Norberto Murara Neto\"],\"textposition\":\"auto\",\"x\":[\"Norberto Murara Neto\"],\"xaxis\":\"x\",\"y\":[8.492093789156472],\"yaxis\":\"y\",\"type\":\"bar\"}],                        {\"template\":{\"data\":{\"histogram2dcontour\":[{\"type\":\"histogram2dcontour\",\"colorbar\":{\"outlinewidth\":0,\"ticks\":\"\"},\"colorscale\":[[0.0,\"#0d0887\"],[0.1111111111111111,\"#46039f\"],[0.2222222222222222,\"#7201a8\"],[0.3333333333333333,\"#9c179e\"],[0.4444444444444444,\"#bd3786\"],[0.5555555555555556,\"#d8576b\"],[0.6666666666666666,\"#ed7953\"],[0.7777777777777778,\"#fb9f3a\"],[0.8888888888888888,\"#fdca26\"],[1.0,\"#f0f921\"]]}],\"choropleth\":[{\"type\":\"choropleth\",\"colorbar\":{\"outlinewidth\":0,\"ticks\":\"\"}}],\"histogram2d\":[{\"type\":\"histogram2d\",\"colorbar\":{\"outlinewidth\":0,\"ticks\":\"\"},\"colorscale\":[[0.0,\"#0d0887\"],[0.1111111111111111,\"#46039f\"],[0.2222222222222222,\"#7201a8\"],[0.3333333333333333,\"#9c179e\"],[0.4444444444444444,\"#bd3786\"],[0.5555555555555556,\"#d8576b\"],[0.6666666666666666,\"#ed7953\"],[0.7777777777777778,\"#fb9f3a\"],[0.8888888888888888,\"#fdca26\"],[1.0,\"#f0f921\"]]}],\"heatmap\":[{\"type\":\"heatmap\",\"colorbar\":{\"outlinewidth\":0,\"ticks\":\"\"},\"colorscale\":[[0.0,\"#0d0887\"],[0.1111111111111111,\"#46039f\"],[0.2222222222222222,\"#7201a8\"],[0.3333333333333333,\"#9c179e\"],[0.4444444444444444,\"#bd3786\"],[0.5555555555555556,\"#d8576b\"],[0.6666666666666666,\"#ed7953\"],[0.7777777777777778,\"#fb9f3a\"],[0.8888888888888888,\"#fdca26\"],[1.0,\"#f0f921\"]]}],\"heatmapgl\":[{\"type\":\"heatmapgl\",\"colorbar\":{\"outlinewidth\":0,\"ticks\":\"\"},\"colorscale\":[[0.0,\"#0d0887\"],[0.1111111111111111,\"#46039f\"],[0.2222222222222222,\"#7201a8\"],[0.3333333333333333,\"#9c179e\"],[0.4444444444444444,\"#bd3786\"],[0.5555555555555556,\"#d8576b\"],[0.6666666666666666,\"#ed7953\"],[0.7777777777777778,\"#fb9f3a\"],[0.8888888888888888,\"#fdca26\"],[1.0,\"#f0f921\"]]}],\"contourcarpet\":[{\"type\":\"contourcarpet\",\"colorbar\":{\"outlinewidth\":0,\"ticks\":\"\"}}],\"contour\":[{\"type\":\"contour\",\"colorbar\":{\"outlinewidth\":0,\"ticks\":\"\"},\"colorscale\":[[0.0,\"#0d0887\"],[0.1111111111111111,\"#46039f\"],[0.2222222222222222,\"#7201a8\"],[0.3333333333333333,\"#9c179e\"],[0.4444444444444444,\"#bd3786\"],[0.5555555555555556,\"#d8576b\"],[0.6666666666666666,\"#ed7953\"],[0.7777777777777778,\"#fb9f3a\"],[0.8888888888888888,\"#fdca26\"],[1.0,\"#f0f921\"]]}],\"surface\":[{\"type\":\"surface\",\"colorbar\":{\"outlinewidth\":0,\"ticks\":\"\"},\"colorscale\":[[0.0,\"#0d0887\"],[0.1111111111111111,\"#46039f\"],[0.2222222222222222,\"#7201a8\"],[0.3333333333333333,\"#9c179e\"],[0.4444444444444444,\"#bd3786\"],[0.5555555555555556,\"#d8576b\"],[0.6666666666666666,\"#ed7953\"],[0.7777777777777778,\"#fb9f3a\"],[0.8888888888888888,\"#fdca26\"],[1.0,\"#f0f921\"]]}],\"mesh3d\":[{\"type\":\"mesh3d\",\"colorbar\":{\"outlinewidth\":0,\"ticks\":\"\"}}],\"scatter\":[{\"fillpattern\":{\"fillmode\":\"overlay\",\"size\":10,\"solidity\":0.2},\"type\":\"scatter\"}],\"parcoords\":[{\"type\":\"parcoords\",\"line\":{\"colorbar\":{\"outlinewidth\":0,\"ticks\":\"\"}}}],\"scatterpolargl\":[{\"type\":\"scatterpolargl\",\"marker\":{\"colorbar\":{\"outlinewidth\":0,\"ticks\":\"\"}}}],\"bar\":[{\"error_x\":{\"color\":\"#2a3f5f\"},\"error_y\":{\"color\":\"#2a3f5f\"},\"marker\":{\"line\":{\"color\":\"#E5ECF6\",\"width\":0.5},\"pattern\":{\"fillmode\":\"overlay\",\"size\":10,\"solidity\":0.2}},\"type\":\"bar\"}],\"scattergeo\":[{\"type\":\"scattergeo\",\"marker\":{\"colorbar\":{\"outlinewidth\":0,\"ticks\":\"\"}}}],\"scatterpolar\":[{\"type\":\"scatterpolar\",\"marker\":{\"colorbar\":{\"outlinewidth\":0,\"ticks\":\"\"}}}],\"histogram\":[{\"marker\":{\"pattern\":{\"fillmode\":\"overlay\",\"size\":10,\"solidity\":0.2}},\"type\":\"histogram\"}],\"scattergl\":[{\"type\":\"scattergl\",\"marker\":{\"colorbar\":{\"outlinewidth\":0,\"ticks\":\"\"}}}],\"scatter3d\":[{\"type\":\"scatter3d\",\"line\":{\"colorbar\":{\"outlinewidth\":0,\"ticks\":\"\"}},\"marker\":{\"colorbar\":{\"outlinewidth\":0,\"ticks\":\"\"}}}],\"scattermapbox\":[{\"type\":\"scattermapbox\",\"marker\":{\"colorbar\":{\"outlinewidth\":0,\"ticks\":\"\"}}}],\"scatterternary\":[{\"type\":\"scatterternary\",\"marker\":{\"colorbar\":{\"outlinewidth\":0,\"ticks\":\"\"}}}],\"scattercarpet\":[{\"type\":\"scattercarpet\",\"marker\":{\"colorbar\":{\"outlinewidth\":0,\"ticks\":\"\"}}}],\"carpet\":[{\"aaxis\":{\"endlinecolor\":\"#2a3f5f\",\"gridcolor\":\"white\",\"linecolor\":\"white\",\"minorgridcolor\":\"white\",\"startlinecolor\":\"#2a3f5f\"},\"baxis\":{\"endlinecolor\":\"#2a3f5f\",\"gridcolor\":\"white\",\"linecolor\":\"white\",\"minorgridcolor\":\"white\",\"startlinecolor\":\"#2a3f5f\"},\"type\":\"carpet\"}],\"table\":[{\"cells\":{\"fill\":{\"color\":\"#EBF0F8\"},\"line\":{\"color\":\"white\"}},\"header\":{\"fill\":{\"color\":\"#C8D4E3\"},\"line\":{\"color\":\"white\"}},\"type\":\"table\"}],\"barpolar\":[{\"marker\":{\"line\":{\"color\":\"#E5ECF6\",\"width\":0.5},\"pattern\":{\"fillmode\":\"overlay\",\"size\":10,\"solidity\":0.2}},\"type\":\"barpolar\"}],\"pie\":[{\"automargin\":true,\"type\":\"pie\"}]},\"layout\":{\"autotypenumbers\":\"strict\",\"colorway\":[\"#636efa\",\"#EF553B\",\"#00cc96\",\"#ab63fa\",\"#FFA15A\",\"#19d3f3\",\"#FF6692\",\"#B6E880\",\"#FF97FF\",\"#FECB52\"],\"font\":{\"color\":\"#2a3f5f\"},\"hovermode\":\"closest\",\"hoverlabel\":{\"align\":\"left\"},\"paper_bgcolor\":\"white\",\"plot_bgcolor\":\"#E5ECF6\",\"polar\":{\"bgcolor\":\"#E5ECF6\",\"angularaxis\":{\"gridcolor\":\"white\",\"linecolor\":\"white\",\"ticks\":\"\"},\"radialaxis\":{\"gridcolor\":\"white\",\"linecolor\":\"white\",\"ticks\":\"\"}},\"ternary\":{\"bgcolor\":\"#E5ECF6\",\"aaxis\":{\"gridcolor\":\"white\",\"linecolor\":\"white\",\"ticks\":\"\"},\"baxis\":{\"gridcolor\":\"white\",\"linecolor\":\"white\",\"ticks\":\"\"},\"caxis\":{\"gridcolor\":\"white\",\"linecolor\":\"white\",\"ticks\":\"\"}},\"coloraxis\":{\"colorbar\":{\"outlinewidth\":0,\"ticks\":\"\"}},\"colorscale\":{\"sequential\":[[0.0,\"#0d0887\"],[0.1111111111111111,\"#46039f\"],[0.2222222222222222,\"#7201a8\"],[0.3333333333333333,\"#9c179e\"],[0.4444444444444444,\"#bd3786\"],[0.5555555555555556,\"#d8576b\"],[0.6666666666666666,\"#ed7953\"],[0.7777777777777778,\"#fb9f3a\"],[0.8888888888888888,\"#fdca26\"],[1.0,\"#f0f921\"]],\"sequentialminus\":[[0.0,\"#0d0887\"],[0.1111111111111111,\"#46039f\"],[0.2222222222222222,\"#7201a8\"],[0.3333333333333333,\"#9c179e\"],[0.4444444444444444,\"#bd3786\"],[0.5555555555555556,\"#d8576b\"],[0.6666666666666666,\"#ed7953\"],[0.7777777777777778,\"#fb9f3a\"],[0.8888888888888888,\"#fdca26\"],[1.0,\"#f0f921\"]],\"diverging\":[[0,\"#8e0152\"],[0.1,\"#c51b7d\"],[0.2,\"#de77ae\"],[0.3,\"#f1b6da\"],[0.4,\"#fde0ef\"],[0.5,\"#f7f7f7\"],[0.6,\"#e6f5d0\"],[0.7,\"#b8e186\"],[0.8,\"#7fbc41\"],[0.9,\"#4d9221\"],[1,\"#276419\"]]},\"xaxis\":{\"gridcolor\":\"white\",\"linecolor\":\"white\",\"ticks\":\"\",\"title\":{\"standoff\":15},\"zerolinecolor\":\"white\",\"automargin\":true,\"zerolinewidth\":2},\"yaxis\":{\"gridcolor\":\"white\",\"linecolor\":\"white\",\"ticks\":\"\",\"title\":{\"standoff\":15},\"zerolinecolor\":\"white\",\"automargin\":true,\"zerolinewidth\":2},\"scene\":{\"xaxis\":{\"backgroundcolor\":\"#E5ECF6\",\"gridcolor\":\"white\",\"linecolor\":\"white\",\"showbackground\":true,\"ticks\":\"\",\"zerolinecolor\":\"white\",\"gridwidth\":2},\"yaxis\":{\"backgroundcolor\":\"#E5ECF6\",\"gridcolor\":\"white\",\"linecolor\":\"white\",\"showbackground\":true,\"ticks\":\"\",\"zerolinecolor\":\"white\",\"gridwidth\":2},\"zaxis\":{\"backgroundcolor\":\"#E5ECF6\",\"gridcolor\":\"white\",\"linecolor\":\"white\",\"showbackground\":true,\"ticks\":\"\",\"zerolinecolor\":\"white\",\"gridwidth\":2}},\"shapedefaults\":{\"line\":{\"color\":\"#2a3f5f\"}},\"annotationdefaults\":{\"arrowcolor\":\"#2a3f5f\",\"arrowhead\":0,\"arrowwidth\":1},\"geo\":{\"bgcolor\":\"white\",\"landcolor\":\"#E5ECF6\",\"subunitcolor\":\"white\",\"showland\":true,\"showlakes\":true,\"lakecolor\":\"white\"},\"title\":{\"x\":0.05},\"mapbox\":{\"style\":\"light\"}}},\"xaxis\":{\"anchor\":\"y\",\"domain\":[0.0,1.0],\"title\":{\"text\":\"name\"},\"categoryorder\":\"array\",\"categoryarray\":[\"James Trafford\",\"Guglielmo Vicario\",\"Matt Turner\",\"Nick Pope\",\"Ederson Santana de Moraes\",\"Emiliano Mart\\u00ednez Romero\",\"Aaron Ramsdale\",\"Alisson Ramses Becker\",\"Bernd Leno\",\"Norberto Murara Neto\"],\"visible\":false,\"showticklabels\":false},\"yaxis\":{\"anchor\":\"x\",\"domain\":[0.0,1.0],\"title\":{\"text\":\"points\"}},\"legend\":{\"title\":{\"text\":\"name\"},\"tracegroupgap\":0},\"title\":{\"text\":\"Long-Form Input\"},\"barmode\":\"relative\"},                        {\"responsive\": true}                    ).then(function(){\n",
       "                            \n",
       "var gd = document.getElementById('a585092c-1527-4cfc-88d1-4554292a8711');\n",
       "var x = new MutationObserver(function (mutations, observer) {{\n",
       "        var display = window.getComputedStyle(gd).display;\n",
       "        if (!display || display === 'none') {{\n",
       "            console.log([gd, 'removed!']);\n",
       "            Plotly.purge(gd);\n",
       "            observer.disconnect();\n",
       "        }}\n",
       "}});\n",
       "\n",
       "// Listen for the removal of the full notebook cells\n",
       "var notebookContainer = gd.closest('#notebook-container');\n",
       "if (notebookContainer) {{\n",
       "    x.observe(notebookContainer, {childList: true});\n",
       "}}\n",
       "\n",
       "// Listen for the clearing of the current output cell\n",
       "var outputEl = gd.closest('.output');\n",
       "if (outputEl) {{\n",
       "    x.observe(outputEl, {childList: true});\n",
       "}}\n",
       "\n",
       "                        })                };                });            </script>        </div>"
      ]
     },
     "metadata": {},
     "output_type": "display_data"
    }
   ],
   "source": [
    "fig = px.bar(predicted_gks.head(no_plotted_players).sort_values(\"points\", ascending=True), x=\"name\", y=\"points\",color=\"name\" ,text=\"name\", title=\"Long-Form Input\")\n",
    "fig.update_xaxes(visible=False, showticklabels=False)\n",
    "fig.show()\n",
    "fig.write_image(\"plots/gks.png\")"
   ]
  }
 ],
 "metadata": {
  "kernelspec": {
   "display_name": "Python 3 (ipykernel)",
   "language": "python",
   "name": "python3"
  },
  "language_info": {
   "codemirror_mode": {
    "name": "ipython",
    "version": 3
   },
   "file_extension": ".py",
   "mimetype": "text/x-python",
   "name": "python",
   "nbconvert_exporter": "python",
   "pygments_lexer": "ipython3",
   "version": "3.9.13"
  }
 },
 "nbformat": 4,
 "nbformat_minor": 5
}
