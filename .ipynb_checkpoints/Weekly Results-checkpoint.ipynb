{
 "cells": [
  {
   "cell_type": "markdown",
   "id": "0df456a1",
   "metadata": {},
   "source": [
    "# Importing the necessary libraries"
   ]
  },
  {
   "cell_type": "code",
   "execution_count": 1,
   "id": "0cba24d8",
   "metadata": {},
   "outputs": [],
   "source": [
    "import requests\n",
    "import pandas as pd\n",
    "from tqdm import tqdm"
   ]
  },
  {
   "cell_type": "markdown",
   "id": "8a7a20f1",
   "metadata": {},
   "source": [
    "# Defining the required functions"
   ]
  },
  {
   "cell_type": "code",
   "execution_count": null,
   "id": "87ec5052",
   "metadata": {},
   "outputs": [],
   "source": [
    "def get_team_name(id):\n",
    "    general_information = requests.get(\n",
    "        \"https://fantasy.premierleague.com/api/bootstrap-static/\"\n",
    "    ).json()\n",
    "    teams = general_information[\"teams\"]\n",
    "    for team in teams:\n",
    "        if team[\"id\"] == id:\n",
    "            return team[\"name\"]\n",
    "\n",
    "\n",
    "def get_player_fixture_info(id):\n",
    "    player_info = requests.get(\n",
    "        f\"https://fantasy.premierleague.com/api/element-summary/{id}/\"\n",
    "    ).json()\n",
    "    fixture = player_info[\"fixtures\"][0]\n",
    "    home_team = get_team_name(fixture[\"team_h\"])\n",
    "    away_team = get_team_name(fixture[\"team_a\"])\n",
    "    kickoff_time = fixture[\"kickoff_time\"]\n",
    "    is_home = fixture[\"is_home\"]\n",
    "    return home_team, away_team, kickoff_time, is_home\n",
    "\n",
    "\n",
    "def get_gameweek_result(id, gameweek):\n",
    "    \"returns a dictionary of the statistics from the gameweek\"\n",
    "    gameweek_results = requests.get(\n",
    "        f\"https://fantasy.premierleague.com/api/element-summary/{id}/\"\n",
    "    ).json()\n",
    "    return gameweek_results[\"history\"][gameweek - 1]\n",
    "\n",
    "\n",
    "def get_player_position(element_type):\n",
    "    general_information = requests.get(\n",
    "        \"https://fantasy.premierleague.com/api/bootstrap-static/\"\n",
    "    ).json()\n",
    "    positions = general_information[\"element_types\"]\n",
    "    for position in positions:\n",
    "        if position[\"id\"] == element_type:\n",
    "            return position[\"singular_name_short\"]\n",
    "\n",
    "\n",
    "general_info = requests.get(\n",
    "    f\"https://fantasy.premierleague.com/api/bootstrap-static/\"\n",
    ").json()\n",
    "player_infos = general_info[\"elements\"]\n",
    "\n",
    "\n",
    "def get_fixture(matchday, name):\n",
    "    # load week's fixture\n",
    "    global gameweek_fixture\n",
    "    gameweek_fixture_ = gameweek_fixture[gameweek_fixture[\"name\"] == name]\n",
    "    return (\n",
    "        gameweek_fixture_[\"home_team\"].iloc[0],\n",
    "        gameweek_fixture_[\"away_team\"].iloc[0],\n",
    "        gameweek_fixture_[\"kickoff_time\"].iloc[0],\n",
    "        gameweek_fixture_[\"is_home\"].iloc[0],\n",
    "    )"
   ]
  },
  {
   "cell_type": "markdown",
   "id": "f69d92d9",
   "metadata": {},
   "source": [
    "# Building a dataset for all previous GW for the current season"
   ]
  },
  {
   "cell_type": "code",
   "execution_count": 3,
   "id": "6d98de3e",
   "metadata": {},
   "outputs": [
    {
     "name": "stderr",
     "output_type": "stream",
     "text": [
      "100%|████████████████████████████████████████████████████████████████████████████████| 714/714 [04:56<00:00,  2.41it/s]\n"
     ]
    }
   ],
   "source": [
    "\n",
    "all_players = []\n",
    "gameweek = [4]\n",
    "for i in gameweek:\n",
    "    gameweek_fixture = pd.read_csv(f\"datasets/2023-24/fixtures/GW{i}.csv\")\n",
    "    for player_info in tqdm(player_infos):\n",
    "        try:\n",
    "            id = player_info[\"id\"]\n",
    "    #         print(id)\n",
    "            name = player_info[\"first_name\"] + \" \" + player_info[\"second_name\"]\n",
    "            team_id = player_info[\"team\"]\n",
    "            cost = player_info[\"now_cost\"]\n",
    "            element_type = player_info[\"element_type\"]\n",
    "            my_team = get_team_name(team_id)\n",
    "            position = get_player_position(element_type)\n",
    "            gameweek_result = get_gameweek_result(id, i)\n",
    "            home_team, away_team, kickoff_time, is_home = get_fixture(i, name)\n",
    "            gameweek_result[\"id\"] = id\n",
    "            gameweek_result[\"name\"] = name\n",
    "            gameweek_result[\"cost\"] = cost\n",
    "            gameweek_result[\"position\"] = position\n",
    "            gameweek_result[\"home_team\"] = home_team\n",
    "            gameweek_result[\"away_team\"] = away_team\n",
    "            gameweek_result[\"team_x\"] = my_team\n",
    "            gameweek_result[\"opponent_team\"] = get_team_name(\n",
    "                gameweek_result[\"opponent_team\"]\n",
    "            )\n",
    "            all_players.append(gameweek_result)\n",
    "    \n",
    "        except:\n",
    "            continue"
   ]
  },
  {
   "cell_type": "code",
   "execution_count": 4,
   "id": "b4d1f1b5",
   "metadata": {},
   "outputs": [],
   "source": [
    "df = pd.DataFrame(all_players)\n",
    "df.to_csv(f\"datasets/2023-24/results/GW{gameweek}.csv\")"
   ]
  }
 ],
 "metadata": {
  "kernelspec": {
   "display_name": "Python 3 (ipykernel)",
   "language": "python",
   "name": "python3"
  },
  "language_info": {
   "codemirror_mode": {
    "name": "ipython",
    "version": 3
   },
   "file_extension": ".py",
   "mimetype": "text/x-python",
   "name": "python",
   "nbconvert_exporter": "python",
   "pygments_lexer": "ipython3",
   "version": "3.9.13"
  }
 },
 "nbformat": 4,
 "nbformat_minor": 5
}
